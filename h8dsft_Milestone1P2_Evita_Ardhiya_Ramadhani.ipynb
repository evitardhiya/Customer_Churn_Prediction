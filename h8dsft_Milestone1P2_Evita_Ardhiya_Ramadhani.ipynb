{
 "cells": [
  {
   "cell_type": "markdown",
   "metadata": {},
   "source": [
    "# **Milestone 1 - Phase 2**"
   ]
  },
  {
   "cell_type": "markdown",
   "metadata": {},
   "source": [
    "# **1. Perkenalan**\n",
    "\n",
    "Nama: `Evita Ardhiya Ramadhani`, Batch: `11`\n",
    "\n",
    "Dataset: Telco Customer Churn\n",
    "\n",
    "Problem: Membuat model Artifical Neural Network untuk memprediksi customer churn atau tidak"
   ]
  },
  {
   "cell_type": "markdown",
   "metadata": {},
   "source": [
    "# **2. Import Libraries**"
   ]
  },
  {
   "cell_type": "markdown",
   "metadata": {},
   "source": [
    "Import libraries yang akan digunakan dalam pengerjaan assigment seperti pandas, matlotlib, tensorflow dan sebagainya"
   ]
  },
  {
   "cell_type": "code",
   "execution_count": 1,
   "metadata": {},
   "outputs": [],
   "source": [
    "# Import Libraries load data, linear algebra, statistik\n",
    "import pandas as pd \n",
    "import numpy as np \n",
    "import scipy.stats as stats\n",
    "\n",
    "# library untuk plot\n",
    "import matplotlib.pyplot as plt\n",
    "import seaborn as sns\n",
    "\n",
    "# Split data train-set dan test-set\n",
    "from sklearn.model_selection import train_test_split \n",
    "\n",
    "# handling outliers\n",
    "from feature_engine.outliers import Winsorizer\n",
    "\n",
    "# Feature Scaling dan encoding\n",
    "from sklearn.preprocessing import StandardScaler, OrdinalEncoder\n",
    "\n",
    "# metrics\n",
    "from sklearn.metrics import classification_report\n",
    "\n",
    "# model data \n",
    "import tensorflow as tf\n",
    "from tensorflow import keras\n",
    "\n",
    "# handling imbalance data\n",
    "from imblearn.over_sampling import SMOTENC\n",
    "\n",
    "# load model\n",
    "from tensorflow.keras.models import load_model\n",
    "\n",
    "import warnings\n",
    "warnings.filterwarnings('ignore')"
   ]
  },
  {
   "cell_type": "markdown",
   "metadata": {},
   "source": [
    "# **3. Data Loading**"
   ]
  },
  {
   "cell_type": "markdown",
   "metadata": {},
   "source": [
    "Load dataset yang akan digunakan dalam assigment"
   ]
  },
  {
   "cell_type": "code",
   "execution_count": 2,
   "metadata": {},
   "outputs": [
    {
     "data": {
      "text/html": [
       "<div>\n",
       "<style scoped>\n",
       "    .dataframe tbody tr th:only-of-type {\n",
       "        vertical-align: middle;\n",
       "    }\n",
       "\n",
       "    .dataframe tbody tr th {\n",
       "        vertical-align: top;\n",
       "    }\n",
       "\n",
       "    .dataframe thead th {\n",
       "        text-align: right;\n",
       "    }\n",
       "</style>\n",
       "<table border=\"1\" class=\"dataframe\">\n",
       "  <thead>\n",
       "    <tr style=\"text-align: right;\">\n",
       "      <th></th>\n",
       "      <th>customerID</th>\n",
       "      <th>gender</th>\n",
       "      <th>SeniorCitizen</th>\n",
       "      <th>Partner</th>\n",
       "      <th>Dependents</th>\n",
       "      <th>tenure</th>\n",
       "      <th>PhoneService</th>\n",
       "      <th>MultipleLines</th>\n",
       "      <th>InternetService</th>\n",
       "      <th>OnlineSecurity</th>\n",
       "      <th>...</th>\n",
       "      <th>DeviceProtection</th>\n",
       "      <th>TechSupport</th>\n",
       "      <th>StreamingTV</th>\n",
       "      <th>StreamingMovies</th>\n",
       "      <th>Contract</th>\n",
       "      <th>PaperlessBilling</th>\n",
       "      <th>PaymentMethod</th>\n",
       "      <th>MonthlyCharges</th>\n",
       "      <th>TotalCharges</th>\n",
       "      <th>Churn</th>\n",
       "    </tr>\n",
       "  </thead>\n",
       "  <tbody>\n",
       "    <tr>\n",
       "      <th>0</th>\n",
       "      <td>7590-VHVEG</td>\n",
       "      <td>Female</td>\n",
       "      <td>0</td>\n",
       "      <td>Yes</td>\n",
       "      <td>No</td>\n",
       "      <td>1</td>\n",
       "      <td>No</td>\n",
       "      <td>No phone service</td>\n",
       "      <td>DSL</td>\n",
       "      <td>No</td>\n",
       "      <td>...</td>\n",
       "      <td>No</td>\n",
       "      <td>No</td>\n",
       "      <td>No</td>\n",
       "      <td>No</td>\n",
       "      <td>Month-to-month</td>\n",
       "      <td>Yes</td>\n",
       "      <td>Electronic check</td>\n",
       "      <td>29.85</td>\n",
       "      <td>29.85</td>\n",
       "      <td>No</td>\n",
       "    </tr>\n",
       "    <tr>\n",
       "      <th>1</th>\n",
       "      <td>5575-GNVDE</td>\n",
       "      <td>Male</td>\n",
       "      <td>0</td>\n",
       "      <td>No</td>\n",
       "      <td>No</td>\n",
       "      <td>34</td>\n",
       "      <td>Yes</td>\n",
       "      <td>No</td>\n",
       "      <td>DSL</td>\n",
       "      <td>Yes</td>\n",
       "      <td>...</td>\n",
       "      <td>Yes</td>\n",
       "      <td>No</td>\n",
       "      <td>No</td>\n",
       "      <td>No</td>\n",
       "      <td>One year</td>\n",
       "      <td>No</td>\n",
       "      <td>Mailed check</td>\n",
       "      <td>56.95</td>\n",
       "      <td>1889.5</td>\n",
       "      <td>No</td>\n",
       "    </tr>\n",
       "    <tr>\n",
       "      <th>2</th>\n",
       "      <td>3668-QPYBK</td>\n",
       "      <td>Male</td>\n",
       "      <td>0</td>\n",
       "      <td>No</td>\n",
       "      <td>No</td>\n",
       "      <td>2</td>\n",
       "      <td>Yes</td>\n",
       "      <td>No</td>\n",
       "      <td>DSL</td>\n",
       "      <td>Yes</td>\n",
       "      <td>...</td>\n",
       "      <td>No</td>\n",
       "      <td>No</td>\n",
       "      <td>No</td>\n",
       "      <td>No</td>\n",
       "      <td>Month-to-month</td>\n",
       "      <td>Yes</td>\n",
       "      <td>Mailed check</td>\n",
       "      <td>53.85</td>\n",
       "      <td>108.15</td>\n",
       "      <td>Yes</td>\n",
       "    </tr>\n",
       "    <tr>\n",
       "      <th>3</th>\n",
       "      <td>7795-CFOCW</td>\n",
       "      <td>Male</td>\n",
       "      <td>0</td>\n",
       "      <td>No</td>\n",
       "      <td>No</td>\n",
       "      <td>45</td>\n",
       "      <td>No</td>\n",
       "      <td>No phone service</td>\n",
       "      <td>DSL</td>\n",
       "      <td>Yes</td>\n",
       "      <td>...</td>\n",
       "      <td>Yes</td>\n",
       "      <td>Yes</td>\n",
       "      <td>No</td>\n",
       "      <td>No</td>\n",
       "      <td>One year</td>\n",
       "      <td>No</td>\n",
       "      <td>Bank transfer (automatic)</td>\n",
       "      <td>42.30</td>\n",
       "      <td>1840.75</td>\n",
       "      <td>No</td>\n",
       "    </tr>\n",
       "    <tr>\n",
       "      <th>4</th>\n",
       "      <td>9237-HQITU</td>\n",
       "      <td>Female</td>\n",
       "      <td>0</td>\n",
       "      <td>No</td>\n",
       "      <td>No</td>\n",
       "      <td>2</td>\n",
       "      <td>Yes</td>\n",
       "      <td>No</td>\n",
       "      <td>Fiber optic</td>\n",
       "      <td>No</td>\n",
       "      <td>...</td>\n",
       "      <td>No</td>\n",
       "      <td>No</td>\n",
       "      <td>No</td>\n",
       "      <td>No</td>\n",
       "      <td>Month-to-month</td>\n",
       "      <td>Yes</td>\n",
       "      <td>Electronic check</td>\n",
       "      <td>70.70</td>\n",
       "      <td>151.65</td>\n",
       "      <td>Yes</td>\n",
       "    </tr>\n",
       "    <tr>\n",
       "      <th>...</th>\n",
       "      <td>...</td>\n",
       "      <td>...</td>\n",
       "      <td>...</td>\n",
       "      <td>...</td>\n",
       "      <td>...</td>\n",
       "      <td>...</td>\n",
       "      <td>...</td>\n",
       "      <td>...</td>\n",
       "      <td>...</td>\n",
       "      <td>...</td>\n",
       "      <td>...</td>\n",
       "      <td>...</td>\n",
       "      <td>...</td>\n",
       "      <td>...</td>\n",
       "      <td>...</td>\n",
       "      <td>...</td>\n",
       "      <td>...</td>\n",
       "      <td>...</td>\n",
       "      <td>...</td>\n",
       "      <td>...</td>\n",
       "      <td>...</td>\n",
       "    </tr>\n",
       "    <tr>\n",
       "      <th>7038</th>\n",
       "      <td>6840-RESVB</td>\n",
       "      <td>Male</td>\n",
       "      <td>0</td>\n",
       "      <td>Yes</td>\n",
       "      <td>Yes</td>\n",
       "      <td>24</td>\n",
       "      <td>Yes</td>\n",
       "      <td>Yes</td>\n",
       "      <td>DSL</td>\n",
       "      <td>Yes</td>\n",
       "      <td>...</td>\n",
       "      <td>Yes</td>\n",
       "      <td>Yes</td>\n",
       "      <td>Yes</td>\n",
       "      <td>Yes</td>\n",
       "      <td>One year</td>\n",
       "      <td>Yes</td>\n",
       "      <td>Mailed check</td>\n",
       "      <td>84.80</td>\n",
       "      <td>1990.5</td>\n",
       "      <td>No</td>\n",
       "    </tr>\n",
       "    <tr>\n",
       "      <th>7039</th>\n",
       "      <td>2234-XADUH</td>\n",
       "      <td>Female</td>\n",
       "      <td>0</td>\n",
       "      <td>Yes</td>\n",
       "      <td>Yes</td>\n",
       "      <td>72</td>\n",
       "      <td>Yes</td>\n",
       "      <td>Yes</td>\n",
       "      <td>Fiber optic</td>\n",
       "      <td>No</td>\n",
       "      <td>...</td>\n",
       "      <td>Yes</td>\n",
       "      <td>No</td>\n",
       "      <td>Yes</td>\n",
       "      <td>Yes</td>\n",
       "      <td>One year</td>\n",
       "      <td>Yes</td>\n",
       "      <td>Credit card (automatic)</td>\n",
       "      <td>103.20</td>\n",
       "      <td>7362.9</td>\n",
       "      <td>No</td>\n",
       "    </tr>\n",
       "    <tr>\n",
       "      <th>7040</th>\n",
       "      <td>4801-JZAZL</td>\n",
       "      <td>Female</td>\n",
       "      <td>0</td>\n",
       "      <td>Yes</td>\n",
       "      <td>Yes</td>\n",
       "      <td>11</td>\n",
       "      <td>No</td>\n",
       "      <td>No phone service</td>\n",
       "      <td>DSL</td>\n",
       "      <td>Yes</td>\n",
       "      <td>...</td>\n",
       "      <td>No</td>\n",
       "      <td>No</td>\n",
       "      <td>No</td>\n",
       "      <td>No</td>\n",
       "      <td>Month-to-month</td>\n",
       "      <td>Yes</td>\n",
       "      <td>Electronic check</td>\n",
       "      <td>29.60</td>\n",
       "      <td>346.45</td>\n",
       "      <td>No</td>\n",
       "    </tr>\n",
       "    <tr>\n",
       "      <th>7041</th>\n",
       "      <td>8361-LTMKD</td>\n",
       "      <td>Male</td>\n",
       "      <td>1</td>\n",
       "      <td>Yes</td>\n",
       "      <td>No</td>\n",
       "      <td>4</td>\n",
       "      <td>Yes</td>\n",
       "      <td>Yes</td>\n",
       "      <td>Fiber optic</td>\n",
       "      <td>No</td>\n",
       "      <td>...</td>\n",
       "      <td>No</td>\n",
       "      <td>No</td>\n",
       "      <td>No</td>\n",
       "      <td>No</td>\n",
       "      <td>Month-to-month</td>\n",
       "      <td>Yes</td>\n",
       "      <td>Mailed check</td>\n",
       "      <td>74.40</td>\n",
       "      <td>306.6</td>\n",
       "      <td>Yes</td>\n",
       "    </tr>\n",
       "    <tr>\n",
       "      <th>7042</th>\n",
       "      <td>3186-AJIEK</td>\n",
       "      <td>Male</td>\n",
       "      <td>0</td>\n",
       "      <td>No</td>\n",
       "      <td>No</td>\n",
       "      <td>66</td>\n",
       "      <td>Yes</td>\n",
       "      <td>No</td>\n",
       "      <td>Fiber optic</td>\n",
       "      <td>Yes</td>\n",
       "      <td>...</td>\n",
       "      <td>Yes</td>\n",
       "      <td>Yes</td>\n",
       "      <td>Yes</td>\n",
       "      <td>Yes</td>\n",
       "      <td>Two year</td>\n",
       "      <td>Yes</td>\n",
       "      <td>Bank transfer (automatic)</td>\n",
       "      <td>105.65</td>\n",
       "      <td>6844.5</td>\n",
       "      <td>No</td>\n",
       "    </tr>\n",
       "  </tbody>\n",
       "</table>\n",
       "<p>7043 rows × 21 columns</p>\n",
       "</div>"
      ],
      "text/plain": [
       "      customerID  gender  SeniorCitizen Partner Dependents  tenure  \\\n",
       "0     7590-VHVEG  Female              0     Yes         No       1   \n",
       "1     5575-GNVDE    Male              0      No         No      34   \n",
       "2     3668-QPYBK    Male              0      No         No       2   \n",
       "3     7795-CFOCW    Male              0      No         No      45   \n",
       "4     9237-HQITU  Female              0      No         No       2   \n",
       "...          ...     ...            ...     ...        ...     ...   \n",
       "7038  6840-RESVB    Male              0     Yes        Yes      24   \n",
       "7039  2234-XADUH  Female              0     Yes        Yes      72   \n",
       "7040  4801-JZAZL  Female              0     Yes        Yes      11   \n",
       "7041  8361-LTMKD    Male              1     Yes         No       4   \n",
       "7042  3186-AJIEK    Male              0      No         No      66   \n",
       "\n",
       "     PhoneService     MultipleLines InternetService OnlineSecurity  ...  \\\n",
       "0              No  No phone service             DSL             No  ...   \n",
       "1             Yes                No             DSL            Yes  ...   \n",
       "2             Yes                No             DSL            Yes  ...   \n",
       "3              No  No phone service             DSL            Yes  ...   \n",
       "4             Yes                No     Fiber optic             No  ...   \n",
       "...           ...               ...             ...            ...  ...   \n",
       "7038          Yes               Yes             DSL            Yes  ...   \n",
       "7039          Yes               Yes     Fiber optic             No  ...   \n",
       "7040           No  No phone service             DSL            Yes  ...   \n",
       "7041          Yes               Yes     Fiber optic             No  ...   \n",
       "7042          Yes                No     Fiber optic            Yes  ...   \n",
       "\n",
       "     DeviceProtection TechSupport StreamingTV StreamingMovies        Contract  \\\n",
       "0                  No          No          No              No  Month-to-month   \n",
       "1                 Yes          No          No              No        One year   \n",
       "2                  No          No          No              No  Month-to-month   \n",
       "3                 Yes         Yes          No              No        One year   \n",
       "4                  No          No          No              No  Month-to-month   \n",
       "...               ...         ...         ...             ...             ...   \n",
       "7038              Yes         Yes         Yes             Yes        One year   \n",
       "7039              Yes          No         Yes             Yes        One year   \n",
       "7040               No          No          No              No  Month-to-month   \n",
       "7041               No          No          No              No  Month-to-month   \n",
       "7042              Yes         Yes         Yes             Yes        Two year   \n",
       "\n",
       "     PaperlessBilling              PaymentMethod MonthlyCharges  TotalCharges  \\\n",
       "0                 Yes           Electronic check          29.85         29.85   \n",
       "1                  No               Mailed check          56.95        1889.5   \n",
       "2                 Yes               Mailed check          53.85        108.15   \n",
       "3                  No  Bank transfer (automatic)          42.30       1840.75   \n",
       "4                 Yes           Electronic check          70.70        151.65   \n",
       "...               ...                        ...            ...           ...   \n",
       "7038              Yes               Mailed check          84.80        1990.5   \n",
       "7039              Yes    Credit card (automatic)         103.20        7362.9   \n",
       "7040              Yes           Electronic check          29.60        346.45   \n",
       "7041              Yes               Mailed check          74.40         306.6   \n",
       "7042              Yes  Bank transfer (automatic)         105.65        6844.5   \n",
       "\n",
       "     Churn  \n",
       "0       No  \n",
       "1       No  \n",
       "2      Yes  \n",
       "3       No  \n",
       "4      Yes  \n",
       "...    ...  \n",
       "7038    No  \n",
       "7039    No  \n",
       "7040    No  \n",
       "7041   Yes  \n",
       "7042    No  \n",
       "\n",
       "[7043 rows x 21 columns]"
      ]
     },
     "execution_count": 2,
     "metadata": {},
     "output_type": "execute_result"
    }
   ],
   "source": [
    "# load dataset\n",
    "data = pd.read_csv('WA_Fn-UseC_-Telco-Customer-Churn.csv')\n",
    "data"
   ]
  },
  {
   "cell_type": "markdown",
   "metadata": {},
   "source": [
    "Lakukan duplicate dataset sebelum dieskplorasi lebih lanjut, hal ini bertujuan untuk menyimpan cadangan jika sewaktu-waktu dataset dibutuhkan"
   ]
  },
  {
   "cell_type": "code",
   "execution_count": 3,
   "metadata": {},
   "outputs": [],
   "source": [
    "# duplicate dataset\n",
    "data_copy = data.copy()"
   ]
  },
  {
   "cell_type": "markdown",
   "metadata": {},
   "source": [
    "Tampilkan Head dan Tail dari dataset"
   ]
  },
  {
   "cell_type": "code",
   "execution_count": 4,
   "metadata": {},
   "outputs": [
    {
     "data": {
      "text/html": [
       "<div>\n",
       "<style scoped>\n",
       "    .dataframe tbody tr th:only-of-type {\n",
       "        vertical-align: middle;\n",
       "    }\n",
       "\n",
       "    .dataframe tbody tr th {\n",
       "        vertical-align: top;\n",
       "    }\n",
       "\n",
       "    .dataframe thead th {\n",
       "        text-align: right;\n",
       "    }\n",
       "</style>\n",
       "<table border=\"1\" class=\"dataframe\">\n",
       "  <thead>\n",
       "    <tr style=\"text-align: right;\">\n",
       "      <th></th>\n",
       "      <th>customerID</th>\n",
       "      <th>gender</th>\n",
       "      <th>SeniorCitizen</th>\n",
       "      <th>Partner</th>\n",
       "      <th>Dependents</th>\n",
       "      <th>tenure</th>\n",
       "      <th>PhoneService</th>\n",
       "      <th>MultipleLines</th>\n",
       "      <th>InternetService</th>\n",
       "      <th>OnlineSecurity</th>\n",
       "      <th>...</th>\n",
       "      <th>DeviceProtection</th>\n",
       "      <th>TechSupport</th>\n",
       "      <th>StreamingTV</th>\n",
       "      <th>StreamingMovies</th>\n",
       "      <th>Contract</th>\n",
       "      <th>PaperlessBilling</th>\n",
       "      <th>PaymentMethod</th>\n",
       "      <th>MonthlyCharges</th>\n",
       "      <th>TotalCharges</th>\n",
       "      <th>Churn</th>\n",
       "    </tr>\n",
       "  </thead>\n",
       "  <tbody>\n",
       "    <tr>\n",
       "      <th>0</th>\n",
       "      <td>7590-VHVEG</td>\n",
       "      <td>Female</td>\n",
       "      <td>0</td>\n",
       "      <td>Yes</td>\n",
       "      <td>No</td>\n",
       "      <td>1</td>\n",
       "      <td>No</td>\n",
       "      <td>No phone service</td>\n",
       "      <td>DSL</td>\n",
       "      <td>No</td>\n",
       "      <td>...</td>\n",
       "      <td>No</td>\n",
       "      <td>No</td>\n",
       "      <td>No</td>\n",
       "      <td>No</td>\n",
       "      <td>Month-to-month</td>\n",
       "      <td>Yes</td>\n",
       "      <td>Electronic check</td>\n",
       "      <td>29.85</td>\n",
       "      <td>29.85</td>\n",
       "      <td>No</td>\n",
       "    </tr>\n",
       "    <tr>\n",
       "      <th>1</th>\n",
       "      <td>5575-GNVDE</td>\n",
       "      <td>Male</td>\n",
       "      <td>0</td>\n",
       "      <td>No</td>\n",
       "      <td>No</td>\n",
       "      <td>34</td>\n",
       "      <td>Yes</td>\n",
       "      <td>No</td>\n",
       "      <td>DSL</td>\n",
       "      <td>Yes</td>\n",
       "      <td>...</td>\n",
       "      <td>Yes</td>\n",
       "      <td>No</td>\n",
       "      <td>No</td>\n",
       "      <td>No</td>\n",
       "      <td>One year</td>\n",
       "      <td>No</td>\n",
       "      <td>Mailed check</td>\n",
       "      <td>56.95</td>\n",
       "      <td>1889.5</td>\n",
       "      <td>No</td>\n",
       "    </tr>\n",
       "    <tr>\n",
       "      <th>2</th>\n",
       "      <td>3668-QPYBK</td>\n",
       "      <td>Male</td>\n",
       "      <td>0</td>\n",
       "      <td>No</td>\n",
       "      <td>No</td>\n",
       "      <td>2</td>\n",
       "      <td>Yes</td>\n",
       "      <td>No</td>\n",
       "      <td>DSL</td>\n",
       "      <td>Yes</td>\n",
       "      <td>...</td>\n",
       "      <td>No</td>\n",
       "      <td>No</td>\n",
       "      <td>No</td>\n",
       "      <td>No</td>\n",
       "      <td>Month-to-month</td>\n",
       "      <td>Yes</td>\n",
       "      <td>Mailed check</td>\n",
       "      <td>53.85</td>\n",
       "      <td>108.15</td>\n",
       "      <td>Yes</td>\n",
       "    </tr>\n",
       "    <tr>\n",
       "      <th>3</th>\n",
       "      <td>7795-CFOCW</td>\n",
       "      <td>Male</td>\n",
       "      <td>0</td>\n",
       "      <td>No</td>\n",
       "      <td>No</td>\n",
       "      <td>45</td>\n",
       "      <td>No</td>\n",
       "      <td>No phone service</td>\n",
       "      <td>DSL</td>\n",
       "      <td>Yes</td>\n",
       "      <td>...</td>\n",
       "      <td>Yes</td>\n",
       "      <td>Yes</td>\n",
       "      <td>No</td>\n",
       "      <td>No</td>\n",
       "      <td>One year</td>\n",
       "      <td>No</td>\n",
       "      <td>Bank transfer (automatic)</td>\n",
       "      <td>42.30</td>\n",
       "      <td>1840.75</td>\n",
       "      <td>No</td>\n",
       "    </tr>\n",
       "    <tr>\n",
       "      <th>4</th>\n",
       "      <td>9237-HQITU</td>\n",
       "      <td>Female</td>\n",
       "      <td>0</td>\n",
       "      <td>No</td>\n",
       "      <td>No</td>\n",
       "      <td>2</td>\n",
       "      <td>Yes</td>\n",
       "      <td>No</td>\n",
       "      <td>Fiber optic</td>\n",
       "      <td>No</td>\n",
       "      <td>...</td>\n",
       "      <td>No</td>\n",
       "      <td>No</td>\n",
       "      <td>No</td>\n",
       "      <td>No</td>\n",
       "      <td>Month-to-month</td>\n",
       "      <td>Yes</td>\n",
       "      <td>Electronic check</td>\n",
       "      <td>70.70</td>\n",
       "      <td>151.65</td>\n",
       "      <td>Yes</td>\n",
       "    </tr>\n",
       "  </tbody>\n",
       "</table>\n",
       "<p>5 rows × 21 columns</p>\n",
       "</div>"
      ],
      "text/plain": [
       "   customerID  gender  SeniorCitizen Partner Dependents  tenure PhoneService  \\\n",
       "0  7590-VHVEG  Female              0     Yes         No       1           No   \n",
       "1  5575-GNVDE    Male              0      No         No      34          Yes   \n",
       "2  3668-QPYBK    Male              0      No         No       2          Yes   \n",
       "3  7795-CFOCW    Male              0      No         No      45           No   \n",
       "4  9237-HQITU  Female              0      No         No       2          Yes   \n",
       "\n",
       "      MultipleLines InternetService OnlineSecurity  ... DeviceProtection  \\\n",
       "0  No phone service             DSL             No  ...               No   \n",
       "1                No             DSL            Yes  ...              Yes   \n",
       "2                No             DSL            Yes  ...               No   \n",
       "3  No phone service             DSL            Yes  ...              Yes   \n",
       "4                No     Fiber optic             No  ...               No   \n",
       "\n",
       "  TechSupport StreamingTV StreamingMovies        Contract PaperlessBilling  \\\n",
       "0          No          No              No  Month-to-month              Yes   \n",
       "1          No          No              No        One year               No   \n",
       "2          No          No              No  Month-to-month              Yes   \n",
       "3         Yes          No              No        One year               No   \n",
       "4          No          No              No  Month-to-month              Yes   \n",
       "\n",
       "               PaymentMethod MonthlyCharges  TotalCharges Churn  \n",
       "0           Electronic check          29.85         29.85    No  \n",
       "1               Mailed check          56.95        1889.5    No  \n",
       "2               Mailed check          53.85        108.15   Yes  \n",
       "3  Bank transfer (automatic)          42.30       1840.75    No  \n",
       "4           Electronic check          70.70        151.65   Yes  \n",
       "\n",
       "[5 rows x 21 columns]"
      ]
     },
     "execution_count": 4,
     "metadata": {},
     "output_type": "execute_result"
    }
   ],
   "source": [
    "# 5 baris teratas dataset\n",
    "data.head(5)"
   ]
  },
  {
   "cell_type": "code",
   "execution_count": 5,
   "metadata": {},
   "outputs": [
    {
     "data": {
      "text/html": [
       "<div>\n",
       "<style scoped>\n",
       "    .dataframe tbody tr th:only-of-type {\n",
       "        vertical-align: middle;\n",
       "    }\n",
       "\n",
       "    .dataframe tbody tr th {\n",
       "        vertical-align: top;\n",
       "    }\n",
       "\n",
       "    .dataframe thead th {\n",
       "        text-align: right;\n",
       "    }\n",
       "</style>\n",
       "<table border=\"1\" class=\"dataframe\">\n",
       "  <thead>\n",
       "    <tr style=\"text-align: right;\">\n",
       "      <th></th>\n",
       "      <th>customerID</th>\n",
       "      <th>gender</th>\n",
       "      <th>SeniorCitizen</th>\n",
       "      <th>Partner</th>\n",
       "      <th>Dependents</th>\n",
       "      <th>tenure</th>\n",
       "      <th>PhoneService</th>\n",
       "      <th>MultipleLines</th>\n",
       "      <th>InternetService</th>\n",
       "      <th>OnlineSecurity</th>\n",
       "      <th>...</th>\n",
       "      <th>DeviceProtection</th>\n",
       "      <th>TechSupport</th>\n",
       "      <th>StreamingTV</th>\n",
       "      <th>StreamingMovies</th>\n",
       "      <th>Contract</th>\n",
       "      <th>PaperlessBilling</th>\n",
       "      <th>PaymentMethod</th>\n",
       "      <th>MonthlyCharges</th>\n",
       "      <th>TotalCharges</th>\n",
       "      <th>Churn</th>\n",
       "    </tr>\n",
       "  </thead>\n",
       "  <tbody>\n",
       "    <tr>\n",
       "      <th>7038</th>\n",
       "      <td>6840-RESVB</td>\n",
       "      <td>Male</td>\n",
       "      <td>0</td>\n",
       "      <td>Yes</td>\n",
       "      <td>Yes</td>\n",
       "      <td>24</td>\n",
       "      <td>Yes</td>\n",
       "      <td>Yes</td>\n",
       "      <td>DSL</td>\n",
       "      <td>Yes</td>\n",
       "      <td>...</td>\n",
       "      <td>Yes</td>\n",
       "      <td>Yes</td>\n",
       "      <td>Yes</td>\n",
       "      <td>Yes</td>\n",
       "      <td>One year</td>\n",
       "      <td>Yes</td>\n",
       "      <td>Mailed check</td>\n",
       "      <td>84.80</td>\n",
       "      <td>1990.5</td>\n",
       "      <td>No</td>\n",
       "    </tr>\n",
       "    <tr>\n",
       "      <th>7039</th>\n",
       "      <td>2234-XADUH</td>\n",
       "      <td>Female</td>\n",
       "      <td>0</td>\n",
       "      <td>Yes</td>\n",
       "      <td>Yes</td>\n",
       "      <td>72</td>\n",
       "      <td>Yes</td>\n",
       "      <td>Yes</td>\n",
       "      <td>Fiber optic</td>\n",
       "      <td>No</td>\n",
       "      <td>...</td>\n",
       "      <td>Yes</td>\n",
       "      <td>No</td>\n",
       "      <td>Yes</td>\n",
       "      <td>Yes</td>\n",
       "      <td>One year</td>\n",
       "      <td>Yes</td>\n",
       "      <td>Credit card (automatic)</td>\n",
       "      <td>103.20</td>\n",
       "      <td>7362.9</td>\n",
       "      <td>No</td>\n",
       "    </tr>\n",
       "    <tr>\n",
       "      <th>7040</th>\n",
       "      <td>4801-JZAZL</td>\n",
       "      <td>Female</td>\n",
       "      <td>0</td>\n",
       "      <td>Yes</td>\n",
       "      <td>Yes</td>\n",
       "      <td>11</td>\n",
       "      <td>No</td>\n",
       "      <td>No phone service</td>\n",
       "      <td>DSL</td>\n",
       "      <td>Yes</td>\n",
       "      <td>...</td>\n",
       "      <td>No</td>\n",
       "      <td>No</td>\n",
       "      <td>No</td>\n",
       "      <td>No</td>\n",
       "      <td>Month-to-month</td>\n",
       "      <td>Yes</td>\n",
       "      <td>Electronic check</td>\n",
       "      <td>29.60</td>\n",
       "      <td>346.45</td>\n",
       "      <td>No</td>\n",
       "    </tr>\n",
       "    <tr>\n",
       "      <th>7041</th>\n",
       "      <td>8361-LTMKD</td>\n",
       "      <td>Male</td>\n",
       "      <td>1</td>\n",
       "      <td>Yes</td>\n",
       "      <td>No</td>\n",
       "      <td>4</td>\n",
       "      <td>Yes</td>\n",
       "      <td>Yes</td>\n",
       "      <td>Fiber optic</td>\n",
       "      <td>No</td>\n",
       "      <td>...</td>\n",
       "      <td>No</td>\n",
       "      <td>No</td>\n",
       "      <td>No</td>\n",
       "      <td>No</td>\n",
       "      <td>Month-to-month</td>\n",
       "      <td>Yes</td>\n",
       "      <td>Mailed check</td>\n",
       "      <td>74.40</td>\n",
       "      <td>306.6</td>\n",
       "      <td>Yes</td>\n",
       "    </tr>\n",
       "    <tr>\n",
       "      <th>7042</th>\n",
       "      <td>3186-AJIEK</td>\n",
       "      <td>Male</td>\n",
       "      <td>0</td>\n",
       "      <td>No</td>\n",
       "      <td>No</td>\n",
       "      <td>66</td>\n",
       "      <td>Yes</td>\n",
       "      <td>No</td>\n",
       "      <td>Fiber optic</td>\n",
       "      <td>Yes</td>\n",
       "      <td>...</td>\n",
       "      <td>Yes</td>\n",
       "      <td>Yes</td>\n",
       "      <td>Yes</td>\n",
       "      <td>Yes</td>\n",
       "      <td>Two year</td>\n",
       "      <td>Yes</td>\n",
       "      <td>Bank transfer (automatic)</td>\n",
       "      <td>105.65</td>\n",
       "      <td>6844.5</td>\n",
       "      <td>No</td>\n",
       "    </tr>\n",
       "  </tbody>\n",
       "</table>\n",
       "<p>5 rows × 21 columns</p>\n",
       "</div>"
      ],
      "text/plain": [
       "      customerID  gender  SeniorCitizen Partner Dependents  tenure  \\\n",
       "7038  6840-RESVB    Male              0     Yes        Yes      24   \n",
       "7039  2234-XADUH  Female              0     Yes        Yes      72   \n",
       "7040  4801-JZAZL  Female              0     Yes        Yes      11   \n",
       "7041  8361-LTMKD    Male              1     Yes         No       4   \n",
       "7042  3186-AJIEK    Male              0      No         No      66   \n",
       "\n",
       "     PhoneService     MultipleLines InternetService OnlineSecurity  ...  \\\n",
       "7038          Yes               Yes             DSL            Yes  ...   \n",
       "7039          Yes               Yes     Fiber optic             No  ...   \n",
       "7040           No  No phone service             DSL            Yes  ...   \n",
       "7041          Yes               Yes     Fiber optic             No  ...   \n",
       "7042          Yes                No     Fiber optic            Yes  ...   \n",
       "\n",
       "     DeviceProtection TechSupport StreamingTV StreamingMovies        Contract  \\\n",
       "7038              Yes         Yes         Yes             Yes        One year   \n",
       "7039              Yes          No         Yes             Yes        One year   \n",
       "7040               No          No          No              No  Month-to-month   \n",
       "7041               No          No          No              No  Month-to-month   \n",
       "7042              Yes         Yes         Yes             Yes        Two year   \n",
       "\n",
       "     PaperlessBilling              PaymentMethod MonthlyCharges  TotalCharges  \\\n",
       "7038              Yes               Mailed check          84.80        1990.5   \n",
       "7039              Yes    Credit card (automatic)         103.20        7362.9   \n",
       "7040              Yes           Electronic check          29.60        346.45   \n",
       "7041              Yes               Mailed check          74.40         306.6   \n",
       "7042              Yes  Bank transfer (automatic)         105.65        6844.5   \n",
       "\n",
       "     Churn  \n",
       "7038    No  \n",
       "7039    No  \n",
       "7040    No  \n",
       "7041   Yes  \n",
       "7042    No  \n",
       "\n",
       "[5 rows x 21 columns]"
      ]
     },
     "execution_count": 5,
     "metadata": {},
     "output_type": "execute_result"
    }
   ],
   "source": [
    "# 5 baris terakhir dataset\n",
    "data.tail(5)"
   ]
  },
  {
   "cell_type": "markdown",
   "metadata": {},
   "source": [
    "Cek tipe data dan menlihat jumlah non-null dari masing-masing kolom menggunakan .info()"
   ]
  },
  {
   "cell_type": "code",
   "execution_count": 6,
   "metadata": {},
   "outputs": [
    {
     "name": "stdout",
     "output_type": "stream",
     "text": [
      "<class 'pandas.core.frame.DataFrame'>\n",
      "RangeIndex: 7043 entries, 0 to 7042\n",
      "Data columns (total 21 columns):\n",
      " #   Column            Non-Null Count  Dtype  \n",
      "---  ------            --------------  -----  \n",
      " 0   customerID        7043 non-null   object \n",
      " 1   gender            7043 non-null   object \n",
      " 2   SeniorCitizen     7043 non-null   int64  \n",
      " 3   Partner           7043 non-null   object \n",
      " 4   Dependents        7043 non-null   object \n",
      " 5   tenure            7043 non-null   int64  \n",
      " 6   PhoneService      7043 non-null   object \n",
      " 7   MultipleLines     7043 non-null   object \n",
      " 8   InternetService   7043 non-null   object \n",
      " 9   OnlineSecurity    7043 non-null   object \n",
      " 10  OnlineBackup      7043 non-null   object \n",
      " 11  DeviceProtection  7043 non-null   object \n",
      " 12  TechSupport       7043 non-null   object \n",
      " 13  StreamingTV       7043 non-null   object \n",
      " 14  StreamingMovies   7043 non-null   object \n",
      " 15  Contract          7043 non-null   object \n",
      " 16  PaperlessBilling  7043 non-null   object \n",
      " 17  PaymentMethod     7043 non-null   object \n",
      " 18  MonthlyCharges    7043 non-null   float64\n",
      " 19  TotalCharges      7043 non-null   object \n",
      " 20  Churn             7043 non-null   object \n",
      "dtypes: float64(1), int64(2), object(18)\n",
      "memory usage: 1.1+ MB\n"
     ]
    }
   ],
   "source": [
    "# info dari dataset\n",
    "data.info()"
   ]
  },
  {
   "cell_type": "markdown",
   "metadata": {},
   "source": [
    "- Sebagian besar tipe data lebih banyak berupa data kategori dibandingkan dengan data numerik\n",
    "- Tidak terdapat missing value karena jumlah non-null tiap kolom sama dengan jumlah baris dataset\n",
    "- Pada tampilan kolom diatas diketahui bahwa kolom TotalCharges merupakan data numerik, tetapi pada data info TotalCharges adalah data string. oleh karena itu dilakukan pengubahan tipe data dari string ke numerik"
   ]
  },
  {
   "cell_type": "markdown",
   "metadata": {},
   "source": [
    "Mengubah tipe data dari string ke numerik, referensi code https://www.kaggle.com/code/bandiatindra/telecom-churn-prediction"
   ]
  },
  {
   "cell_type": "code",
   "execution_count": 7,
   "metadata": {},
   "outputs": [],
   "source": [
    "# ubah data dari string ke numerik\n",
    "data['TotalCharges'] = pd.to_numeric(data['TotalCharges'], errors='coerce')"
   ]
  },
  {
   "cell_type": "markdown",
   "metadata": {},
   "source": [
    "Untuk mengecek nilai statistik seperti mean, median, modus dsb dapat menggunakan .describe(), tetapi hanya bisa untuk data numerik"
   ]
  },
  {
   "cell_type": "code",
   "execution_count": 8,
   "metadata": {},
   "outputs": [
    {
     "data": {
      "text/html": [
       "<div>\n",
       "<style scoped>\n",
       "    .dataframe tbody tr th:only-of-type {\n",
       "        vertical-align: middle;\n",
       "    }\n",
       "\n",
       "    .dataframe tbody tr th {\n",
       "        vertical-align: top;\n",
       "    }\n",
       "\n",
       "    .dataframe thead th {\n",
       "        text-align: right;\n",
       "    }\n",
       "</style>\n",
       "<table border=\"1\" class=\"dataframe\">\n",
       "  <thead>\n",
       "    <tr style=\"text-align: right;\">\n",
       "      <th></th>\n",
       "      <th>SeniorCitizen</th>\n",
       "      <th>tenure</th>\n",
       "      <th>MonthlyCharges</th>\n",
       "      <th>TotalCharges</th>\n",
       "    </tr>\n",
       "  </thead>\n",
       "  <tbody>\n",
       "    <tr>\n",
       "      <th>count</th>\n",
       "      <td>7043.000000</td>\n",
       "      <td>7043.000000</td>\n",
       "      <td>7043.000000</td>\n",
       "      <td>7032.000000</td>\n",
       "    </tr>\n",
       "    <tr>\n",
       "      <th>mean</th>\n",
       "      <td>0.162147</td>\n",
       "      <td>32.371149</td>\n",
       "      <td>64.761692</td>\n",
       "      <td>2283.300441</td>\n",
       "    </tr>\n",
       "    <tr>\n",
       "      <th>std</th>\n",
       "      <td>0.368612</td>\n",
       "      <td>24.559481</td>\n",
       "      <td>30.090047</td>\n",
       "      <td>2266.771362</td>\n",
       "    </tr>\n",
       "    <tr>\n",
       "      <th>min</th>\n",
       "      <td>0.000000</td>\n",
       "      <td>0.000000</td>\n",
       "      <td>18.250000</td>\n",
       "      <td>18.800000</td>\n",
       "    </tr>\n",
       "    <tr>\n",
       "      <th>25%</th>\n",
       "      <td>0.000000</td>\n",
       "      <td>9.000000</td>\n",
       "      <td>35.500000</td>\n",
       "      <td>401.450000</td>\n",
       "    </tr>\n",
       "    <tr>\n",
       "      <th>50%</th>\n",
       "      <td>0.000000</td>\n",
       "      <td>29.000000</td>\n",
       "      <td>70.350000</td>\n",
       "      <td>1397.475000</td>\n",
       "    </tr>\n",
       "    <tr>\n",
       "      <th>75%</th>\n",
       "      <td>0.000000</td>\n",
       "      <td>55.000000</td>\n",
       "      <td>89.850000</td>\n",
       "      <td>3794.737500</td>\n",
       "    </tr>\n",
       "    <tr>\n",
       "      <th>max</th>\n",
       "      <td>1.000000</td>\n",
       "      <td>72.000000</td>\n",
       "      <td>118.750000</td>\n",
       "      <td>8684.800000</td>\n",
       "    </tr>\n",
       "  </tbody>\n",
       "</table>\n",
       "</div>"
      ],
      "text/plain": [
       "       SeniorCitizen       tenure  MonthlyCharges  TotalCharges\n",
       "count    7043.000000  7043.000000     7043.000000   7032.000000\n",
       "mean        0.162147    32.371149       64.761692   2283.300441\n",
       "std         0.368612    24.559481       30.090047   2266.771362\n",
       "min         0.000000     0.000000       18.250000     18.800000\n",
       "25%         0.000000     9.000000       35.500000    401.450000\n",
       "50%         0.000000    29.000000       70.350000   1397.475000\n",
       "75%         0.000000    55.000000       89.850000   3794.737500\n",
       "max         1.000000    72.000000      118.750000   8684.800000"
      ]
     },
     "execution_count": 8,
     "metadata": {},
     "output_type": "execute_result"
    }
   ],
   "source": [
    "# describe dataset\n",
    "data.describe()"
   ]
  },
  {
   "cell_type": "markdown",
   "metadata": {},
   "source": [
    "- Maksimal kontrak (Tenure) customer adalah 6 tahun dan rata-rata 1 tahun\n",
    "- Untuk montly charges rata-rata sebesar 64.76 dan maximal 118.75"
   ]
  },
  {
   "cell_type": "code",
   "execution_count": 9,
   "metadata": {},
   "outputs": [],
   "source": [
    "# konvensi value dari target\n",
    "data['Churn'].replace(to_replace='Yes', value=1, inplace=True)\n",
    "data['Churn'].replace(to_replace='No',  value=0, inplace=True)"
   ]
  },
  {
   "cell_type": "markdown",
   "metadata": {},
   "source": [
    "# **4. Exploratory Data Analysis (EDA)**"
   ]
  },
  {
   "cell_type": "markdown",
   "metadata": {},
   "source": [
    "## Korelasi antara fitur dan target"
   ]
  },
  {
   "cell_type": "markdown",
   "metadata": {},
   "source": [
    "Sebelum dilakukan pengecekan korelasi, data yang berupa kategori harus dilakukan encoding terlebih dahulu"
   ]
  },
  {
   "cell_type": "code",
   "execution_count": 10,
   "metadata": {},
   "outputs": [
    {
     "data": {
      "text/html": [
       "<div>\n",
       "<style scoped>\n",
       "    .dataframe tbody tr th:only-of-type {\n",
       "        vertical-align: middle;\n",
       "    }\n",
       "\n",
       "    .dataframe tbody tr th {\n",
       "        vertical-align: top;\n",
       "    }\n",
       "\n",
       "    .dataframe thead th {\n",
       "        text-align: right;\n",
       "    }\n",
       "</style>\n",
       "<table border=\"1\" class=\"dataframe\">\n",
       "  <thead>\n",
       "    <tr style=\"text-align: right;\">\n",
       "      <th></th>\n",
       "      <th>customerID</th>\n",
       "      <th>gender</th>\n",
       "      <th>SeniorCitizen</th>\n",
       "      <th>Partner</th>\n",
       "      <th>Dependents</th>\n",
       "      <th>tenure</th>\n",
       "      <th>PhoneService</th>\n",
       "      <th>MultipleLines</th>\n",
       "      <th>InternetService</th>\n",
       "      <th>OnlineSecurity</th>\n",
       "      <th>...</th>\n",
       "      <th>DeviceProtection</th>\n",
       "      <th>TechSupport</th>\n",
       "      <th>StreamingTV</th>\n",
       "      <th>StreamingMovies</th>\n",
       "      <th>Contract</th>\n",
       "      <th>PaperlessBilling</th>\n",
       "      <th>PaymentMethod</th>\n",
       "      <th>MonthlyCharges</th>\n",
       "      <th>TotalCharges</th>\n",
       "      <th>Churn</th>\n",
       "    </tr>\n",
       "  </thead>\n",
       "  <tbody>\n",
       "    <tr>\n",
       "      <th>0</th>\n",
       "      <td>5375.0</td>\n",
       "      <td>0.0</td>\n",
       "      <td>0.0</td>\n",
       "      <td>1.0</td>\n",
       "      <td>0.0</td>\n",
       "      <td>1.0</td>\n",
       "      <td>0.0</td>\n",
       "      <td>1.0</td>\n",
       "      <td>0.0</td>\n",
       "      <td>0.0</td>\n",
       "      <td>...</td>\n",
       "      <td>0.0</td>\n",
       "      <td>0.0</td>\n",
       "      <td>0.0</td>\n",
       "      <td>0.0</td>\n",
       "      <td>0.0</td>\n",
       "      <td>1.0</td>\n",
       "      <td>2.0</td>\n",
       "      <td>142.0</td>\n",
       "      <td>74.0</td>\n",
       "      <td>0.0</td>\n",
       "    </tr>\n",
       "    <tr>\n",
       "      <th>1</th>\n",
       "      <td>3962.0</td>\n",
       "      <td>1.0</td>\n",
       "      <td>0.0</td>\n",
       "      <td>0.0</td>\n",
       "      <td>0.0</td>\n",
       "      <td>34.0</td>\n",
       "      <td>1.0</td>\n",
       "      <td>0.0</td>\n",
       "      <td>0.0</td>\n",
       "      <td>2.0</td>\n",
       "      <td>...</td>\n",
       "      <td>2.0</td>\n",
       "      <td>0.0</td>\n",
       "      <td>0.0</td>\n",
       "      <td>0.0</td>\n",
       "      <td>1.0</td>\n",
       "      <td>0.0</td>\n",
       "      <td>3.0</td>\n",
       "      <td>498.0</td>\n",
       "      <td>3624.0</td>\n",
       "      <td>0.0</td>\n",
       "    </tr>\n",
       "    <tr>\n",
       "      <th>2</th>\n",
       "      <td>2564.0</td>\n",
       "      <td>1.0</td>\n",
       "      <td>0.0</td>\n",
       "      <td>0.0</td>\n",
       "      <td>0.0</td>\n",
       "      <td>2.0</td>\n",
       "      <td>1.0</td>\n",
       "      <td>0.0</td>\n",
       "      <td>0.0</td>\n",
       "      <td>2.0</td>\n",
       "      <td>...</td>\n",
       "      <td>0.0</td>\n",
       "      <td>0.0</td>\n",
       "      <td>0.0</td>\n",
       "      <td>0.0</td>\n",
       "      <td>0.0</td>\n",
       "      <td>1.0</td>\n",
       "      <td>3.0</td>\n",
       "      <td>436.0</td>\n",
       "      <td>536.0</td>\n",
       "      <td>1.0</td>\n",
       "    </tr>\n",
       "    <tr>\n",
       "      <th>3</th>\n",
       "      <td>5535.0</td>\n",
       "      <td>1.0</td>\n",
       "      <td>0.0</td>\n",
       "      <td>0.0</td>\n",
       "      <td>0.0</td>\n",
       "      <td>45.0</td>\n",
       "      <td>0.0</td>\n",
       "      <td>1.0</td>\n",
       "      <td>0.0</td>\n",
       "      <td>2.0</td>\n",
       "      <td>...</td>\n",
       "      <td>2.0</td>\n",
       "      <td>2.0</td>\n",
       "      <td>0.0</td>\n",
       "      <td>0.0</td>\n",
       "      <td>1.0</td>\n",
       "      <td>0.0</td>\n",
       "      <td>0.0</td>\n",
       "      <td>266.0</td>\n",
       "      <td>3570.0</td>\n",
       "      <td>0.0</td>\n",
       "    </tr>\n",
       "    <tr>\n",
       "      <th>4</th>\n",
       "      <td>6511.0</td>\n",
       "      <td>0.0</td>\n",
       "      <td>0.0</td>\n",
       "      <td>0.0</td>\n",
       "      <td>0.0</td>\n",
       "      <td>2.0</td>\n",
       "      <td>1.0</td>\n",
       "      <td>0.0</td>\n",
       "      <td>1.0</td>\n",
       "      <td>0.0</td>\n",
       "      <td>...</td>\n",
       "      <td>0.0</td>\n",
       "      <td>0.0</td>\n",
       "      <td>0.0</td>\n",
       "      <td>0.0</td>\n",
       "      <td>0.0</td>\n",
       "      <td>1.0</td>\n",
       "      <td>2.0</td>\n",
       "      <td>729.0</td>\n",
       "      <td>674.0</td>\n",
       "      <td>1.0</td>\n",
       "    </tr>\n",
       "  </tbody>\n",
       "</table>\n",
       "<p>5 rows × 21 columns</p>\n",
       "</div>"
      ],
      "text/plain": [
       "   customerID  gender  SeniorCitizen  Partner  Dependents  tenure  \\\n",
       "0      5375.0     0.0            0.0      1.0         0.0     1.0   \n",
       "1      3962.0     1.0            0.0      0.0         0.0    34.0   \n",
       "2      2564.0     1.0            0.0      0.0         0.0     2.0   \n",
       "3      5535.0     1.0            0.0      0.0         0.0    45.0   \n",
       "4      6511.0     0.0            0.0      0.0         0.0     2.0   \n",
       "\n",
       "   PhoneService  MultipleLines  InternetService  OnlineSecurity  ...  \\\n",
       "0           0.0            1.0              0.0             0.0  ...   \n",
       "1           1.0            0.0              0.0             2.0  ...   \n",
       "2           1.0            0.0              0.0             2.0  ...   \n",
       "3           0.0            1.0              0.0             2.0  ...   \n",
       "4           1.0            0.0              1.0             0.0  ...   \n",
       "\n",
       "   DeviceProtection  TechSupport  StreamingTV  StreamingMovies  Contract  \\\n",
       "0               0.0          0.0          0.0              0.0       0.0   \n",
       "1               2.0          0.0          0.0              0.0       1.0   \n",
       "2               0.0          0.0          0.0              0.0       0.0   \n",
       "3               2.0          2.0          0.0              0.0       1.0   \n",
       "4               0.0          0.0          0.0              0.0       0.0   \n",
       "\n",
       "   PaperlessBilling  PaymentMethod  MonthlyCharges  TotalCharges  Churn  \n",
       "0               1.0            2.0           142.0          74.0    0.0  \n",
       "1               0.0            3.0           498.0        3624.0    0.0  \n",
       "2               1.0            3.0           436.0         536.0    1.0  \n",
       "3               0.0            0.0           266.0        3570.0    0.0  \n",
       "4               1.0            2.0           729.0         674.0    1.0  \n",
       "\n",
       "[5 rows x 21 columns]"
      ]
     },
     "execution_count": 10,
     "metadata": {},
     "output_type": "execute_result"
    }
   ],
   "source": [
    "# definisikan encoder\n",
    "encoder1 = OrdinalEncoder()\n",
    "\n",
    "# fit dan transform data untuk melakukan encoding\n",
    "data_encoder = encoder1.fit_transform(data)\n",
    "\n",
    "# membuat data encoder dalam bentuk dataframe\n",
    "data_encoder_df = pd.DataFrame(data_encoder, columns= data.columns)\n",
    "data_encoder_df.head(5)"
   ]
  },
  {
   "cell_type": "markdown",
   "metadata": {},
   "source": [
    "Membuat heatmap berdasarkan dataframe yang telah dilakukan encoding"
   ]
  },
  {
   "cell_type": "code",
   "execution_count": 11,
   "metadata": {},
   "outputs": [
    {
     "data": {
      "image/png": "[encoded data removed]",
      "text/plain": [
       "<Figure size 1440x1080 with 2 Axes>"
      ]
     },
     "metadata": {
      "needs_background": "light"
     },
     "output_type": "display_data"
    }
   ],
   "source": [
    "# cek korelasi \n",
    "korelasi = data_encoder_df.corr()\n",
    "\n",
    "# buat heatmap\n",
    "plt.figure(figsize=(20, 15))\n",
    "sns.heatmap(korelasi, annot= True, vmin=0, vmax=1)\n",
    "plt.title('Korelasi antara fitur dan target')\n",
    "plt.show()"
   ]
  },
  {
   "cell_type": "markdown",
   "metadata": {},
   "source": [
    "- Ada 4 fitur yang memiliki korelasi tertinggi terhadap target yaitu PaperlessBilling, MonthlyCharges, SeniorCitizen dan PaymentMethod\n",
    "- Sbenarnya korelasi paling tinggi oleh fitur tenure tetapi dalam artinya berbanding terbalik karena nilai korelasi antara tunure dan target bertanda minus.\n",
    "- Fitur Contract dan tenure memiliki korelasi yang tinggi, sehingga harus dipilih salah satu fitur yang digunakan dalam prediksi\n",
    "- Korelasi tenure dan TotalCharges tinggi, karena semakin lama atau semakin tinggi customer menggunakan layanan maka tagihan yang akan dibayar akan semakin tinggi juga"
   ]
  },
  {
   "cell_type": "markdown",
   "metadata": {},
   "source": [
    "## Perbandingan jumlah gender"
   ]
  },
  {
   "cell_type": "code",
   "execution_count": 12,
   "metadata": {},
   "outputs": [
    {
     "data": {
      "image/png": "[encoded data removed]",
      "text/plain": [
       "<Figure size 432x432 with 1 Axes>"
      ]
     },
     "metadata": {},
     "output_type": "display_data"
    }
   ],
   "source": [
    "# jumlah tiap kaegori male dan female dan membuat pie chart\n",
    "data['gender'].value_counts().plot(kind='pie', figsize=(6,6), autopct='%.2f', colors=['pink', 'purple'])\n",
    "plt.title('Persentase Perbandingan Gender')\n",
    "plt.show()"
   ]
  },
  {
   "cell_type": "markdown",
   "metadata": {},
   "source": [
    "- Jumlah customer male dan female hampir seimbang"
   ]
  },
  {
   "cell_type": "markdown",
   "metadata": {},
   "source": [
    "## Partner dan Dependents"
   ]
  },
  {
   "cell_type": "code",
   "execution_count": 13,
   "metadata": {},
   "outputs": [
    {
     "name": "stdout",
     "output_type": "stream",
     "text": [
      "Partner  Dependents\n",
      "No       No            3280\n",
      "         Yes            361\n",
      "Yes      Yes           1749\n",
      "         No            1653\n",
      "Name: Dependents, dtype: int64\n"
     ]
    }
   ],
   "source": [
    "# jumlah perbandingan Partner dan Dependents\n",
    "print(data.groupby('Partner')['Dependents'].value_counts())"
   ]
  },
  {
   "cell_type": "code",
   "execution_count": 14,
   "metadata": {},
   "outputs": [
    {
     "data": {
      "image/png": "[encoded data removed]",
      "text/plain": [
       "<Figure size 864x432 with 1 Axes>"
      ]
     },
     "metadata": {
      "needs_background": "light"
     },
     "output_type": "display_data"
    }
   ],
   "source": [
    "# plot perbandingan Partner dan Dependents\n",
    "plt.figure(figsize=(12,6))\n",
    "sns.countplot(data=data, x=data['Partner'], hue=data['Dependents'])\n",
    "plt.title('Partner dan Dependents')\n",
    "plt.show()"
   ]
  },
  {
   "cell_type": "markdown",
   "metadata": {},
   "source": [
    "- Customer yang tidak memiliki patner cenderung tidak memiliki tanggungan\n",
    "- Tetapi masih banyak juga customer yang memiliki patner tapi tidak memiliki tanggungan, mungkin karena untuk pembayaran mereka dilakukan secara terpisah sehingga tidak terbaca oleh sistem memiliki tanggungan\n",
    "- Ada juga customer yang tidak memiliki patner tetapi memiliki tanggungan, kemungkinan tanggungan yang dimaksud bisa jadi anggota keluarga lainnya. Misalnya seorang kakak menanggung biaya untuk adiknya."
   ]
  },
  {
   "cell_type": "markdown",
   "metadata": {},
   "source": [
    "## Customer Age"
   ]
  },
  {
   "cell_type": "code",
   "execution_count": 15,
   "metadata": {},
   "outputs": [
    {
     "data": {
      "image/png": "[encoded data removed]",
      "text/plain": [
       "<Figure size 432x432 with 1 Axes>"
      ]
     },
     "metadata": {},
     "output_type": "display_data"
    }
   ],
   "source": [
    "# pie chart persentase senior citizen customer\n",
    "data['SeniorCitizen'].value_counts().plot(kind='pie', figsize=(6,6), autopct='%.2f')\n",
    "plt.title('Persentase Perbandingan Senior citizen')\n",
    "plt.show()"
   ]
  },
  {
   "cell_type": "markdown",
   "metadata": {},
   "source": [
    "- lebih dari 80% customer didominasi oleh anak muda\n",
    "- hanya ada 16.21% yang orang tua"
   ]
  },
  {
   "cell_type": "markdown",
   "metadata": {},
   "source": [
    "## Cek Label pada target"
   ]
  },
  {
   "cell_type": "markdown",
   "metadata": {},
   "source": [
    "Untuk melihat apakah jumlah label target telah balance atau tidak"
   ]
  },
  {
   "cell_type": "code",
   "execution_count": 16,
   "metadata": {},
   "outputs": [
    {
     "data": {
      "image/png": "[encoded data removed]",
      "text/plain": [
       "<Figure size 576x360 with 1 Axes>"
      ]
     },
     "metadata": {
      "needs_background": "light"
     },
     "output_type": "display_data"
    }
   ],
   "source": [
    "# hitung jumlah tiap kategori dan buat barplot\n",
    "data['Churn'].value_counts().plot(kind='bar', color=['orange', 'red'], figsize=(8,5))\n",
    "plt.title('Perbandingan Jumlah Target')\n",
    "plt.xticks(rotation=0)\n",
    "plt.show()"
   ]
  },
  {
   "cell_type": "markdown",
   "metadata": {},
   "source": [
    "- jumlah label pada target memiliki jumlah yang tidak setara, atau terdeteksi imbalanced data.\n",
    "- Data label 'Yes' atau 1 hanya ada 26.53% dari jumlah keseluruhan data\n",
    "- Perlu dilakukan handling imbalance data"
   ]
  },
  {
   "cell_type": "markdown",
   "metadata": {},
   "source": [
    "noted: refernsi EDA https://www.kaggle.com/code/bandiatindra/telecom-churn-prediction"
   ]
  },
  {
   "cell_type": "markdown",
   "metadata": {},
   "source": [
    "## Apakah Rata-rata Total Charges dari senior citizen memiliki perbedaan yang signifikan?"
   ]
  },
  {
   "cell_type": "markdown",
   "metadata": {},
   "source": [
    "Penulis ingin melihat apakah rata-rata Total Charges dari senior citizen dan bukan senior citizen memiliki perbedaan yang signifikan. Pengujian hipotesis dilakukan menggunakan Two Samples Independent Two Tailed test. Dimana Hipotesis yang akan diuji sebagai berikut:\n",
    "- Hipotesis 0 (H0) : Rata-rata total charges dari senior citizen **tidak memiliki perbedaan yang signifikan** dengan rata-rata total charges dari bukan senior citizen. \n",
    "    - μ_senior = μ_no_senior\n",
    "- Hipotesis 1 (H1) : Rata-rata total charges dari senior citizen **memiliki perbedaan yang signifikan** dengan rata-rata total charges dari bukan senior citizen.\n",
    "    - μ_senior != μ_no_senior"
   ]
  },
  {
   "cell_type": "markdown",
   "metadata": {},
   "source": [
    "Mari cek rata-rata total charges dari senior citizen dan bukan senior citizen"
   ]
  },
  {
   "cell_type": "code",
   "execution_count": 17,
   "metadata": {},
   "outputs": [
    {
     "name": "stdout",
     "output_type": "stream",
     "text": [
      "Rata-rata Total Charges Senior Citizen: 2810.0\n"
     ]
    }
   ],
   "source": [
    "# Sort berdasarkan Yes Senior citizen \n",
    "yes_senior = data[(data['SeniorCitizen'] == 1)][['customerID','TotalCharges']].groupby('customerID').sum()\n",
    "\n",
    "# Menampilkan hasil rata-rata\n",
    "mean_yes_senior = np.round(yes_senior['TotalCharges'].mean())\n",
    "print('Rata-rata Total Charges Senior Citizen:', mean_yes_senior)"
   ]
  },
  {
   "cell_type": "code",
   "execution_count": 18,
   "metadata": {},
   "outputs": [
    {
     "name": "stdout",
     "output_type": "stream",
     "text": [
      "Rata-rata Total Charges No Senior Citizen: 2177.0\n"
     ]
    }
   ],
   "source": [
    "# Sort berdasarkan No Senior Citizen\n",
    "no_senior = data[(data['SeniorCitizen'] == 0 )][['customerID', 'TotalCharges']].groupby('customerID').sum()\n",
    "\n",
    "# Menampilkan hasil rata-rata \n",
    "mean_no_senior = np.round(no_senior['TotalCharges'].mean())\n",
    "print('Rata-rata Total Charges No Senior Citizen:', mean_no_senior)"
   ]
  },
  {
   "cell_type": "markdown",
   "metadata": {},
   "source": [
    "Lakukan pengujian hipotesis menggunakan t-test independent karena sampel merupakan sampel yang independent (tidak berhubungan)."
   ]
  },
  {
   "cell_type": "code",
   "execution_count": 19,
   "metadata": {},
   "outputs": [
    {
     "name": "stdout",
     "output_type": "stream",
     "text": [
      "P-value: 4.4729254683419705e-18\n",
      "t-statistics: 8.689539721750764\n"
     ]
    }
   ],
   "source": [
    "# menguji hipotesis menggunakan t-test ind\n",
    "t_stat, p_val = stats.ttest_ind(yes_senior, no_senior)\n",
    "\n",
    "# melihat nilai p-value\n",
    "print('P-value:',p_val[0])\n",
    "\n",
    "# melihat nilai t-statistics\n",
    "print('t-statistics:',t_stat[0])"
   ]
  },
  {
   "cell_type": "markdown",
   "metadata": {},
   "source": [
    "- nilai p-value yang diperoleh adalah 4.47, dimana nilai ini lebih besar dari nilai alfa\n",
    "- Nilai alfa = 0.05 karena menggunakan confident interval 95%\n",
    "- Dari nilai p-value, hipotesis H0 ditolak karena nilai p-value lebih besar dibandingkan nilai alfa\n",
    "- Untuk lebih jelasnya, akan dilakukan visualisasi dari distribusi Senior citizen dan bukan senior citizen dan melihat letak garis hipotesis alternatif  "
   ]
  },
  {
   "cell_type": "markdown",
   "metadata": {},
   "source": [
    "Visualisasi dari distribusi senior citizen dan bukan senior citizen"
   ]
  },
  {
   "cell_type": "code",
   "execution_count": 20,
   "metadata": {},
   "outputs": [],
   "source": [
    "# Distribusi Senior Citizen\n",
    "dis_yes_senior = np.random.normal(yes_senior.TotalCharges.mean() , yes_senior.TotalCharges.std(),10000)\n",
    "# Distribusi No Senior citizen\n",
    "dis_no_senior = np.random.normal(no_senior.TotalCharges.mean(), no_senior.TotalCharges.std(),10000)\n",
    "\n",
    "# convident interval 95%\n",
    "ci = stats.norm.interval(0.95, yes_senior.TotalCharges.mean() , yes_senior.TotalCharges.std())\n",
    "\n",
    "# batasan dari alternatif hipotesis\n",
    "alt_hipo1 = dis_yes_senior.mean() + t_stat[0]*dis_yes_senior.std()\n",
    "alt_hipo2 = dis_yes_senior.mean() - t_stat[0]*dis_yes_senior.std()"
   ]
  },
  {
   "cell_type": "code",
   "execution_count": 21,
   "metadata": {},
   "outputs": [
    {
     "data": {
      "image/png": "[encoded data removed]",
      "text/plain": [
       "<Figure size 1368x360 with 1 Axes>"
      ]
     },
     "metadata": {
      "needs_background": "light"
     },
     "output_type": "display_data"
    }
   ],
   "source": [
    "# plot distribusi normal\n",
    "plt.figure(figsize=(19,5))\n",
    "sns.distplot(dis_yes_senior, label='Rata-rata Total Charges Senior Citizen',color='purple')\n",
    "sns.distplot(dis_no_senior, label='Rata-rata Total Charges No Senior Citizen',color='yellow')\n",
    "\n",
    "# garis mean dari senior citizen dan bukan senior citizen\n",
    "plt.axvline(mean_yes_senior, color='purple', linewidth=2, label='Senior citizen mean')\n",
    "plt.axvline(mean_no_senior, color='yellow',  linewidth=2, label='No Senior Citizen mean')\n",
    "\n",
    "# garis confident interval 95%\n",
    "plt.axvline(ci[1], color='red', linestyle='dashed', linewidth=2, label='Confident interval 95%')\n",
    "plt.axvline(ci[0], color='red', linestyle='dashed', linewidth=2)\n",
    "\n",
    "# garis hipotesis alternatif\n",
    "plt.axvline(alt_hipo1, color='black', linestyle='dashed', linewidth=2, label = 'Hipotesis Alternatif')\n",
    "plt.axvline(alt_hipo2, color='black', linestyle='dashed', linewidth=2)\n",
    "\n",
    "plt.legend()\n",
    "plt.show()"
   ]
  },
  {
   "cell_type": "markdown",
   "metadata": {},
   "source": [
    "- Dapat dilihat pada plot diatas bahwa garis hipotesis alternatif (hitam) berada diluar dari garis confident interval 95% sehingga dapat dikatakan bahwa kita menolak H0\n",
    "- Jadi rata-rata total charges dari senior citizen dan bukan senior citizen memiliki perbedaan yang signifikan\n",
    "- Sebelumnya kita telah melihat bahwa jumlah dari yang senior citizen lebih sedikit, tetapi dari rata-rata total chargesnya diketahui bahwa senior citizen ini memiliki nilai yang lebih besar dibandingkan dari bukan senior citizen. Oleh karena itu dapat dikatakan bahwa kebayakan dari customer citizen lebih loyal dibandingkan dengan yang bukan senior citizen. Nah ini bisa menjadi salah satu indikasi untuk mempertimbangkan customer churn atau tidak.\n",
    "- Referensi untuk hipotesis testing dari materi kelas P0W3D3PM: https://colab.research.google.com/drive/1U8PY-YKh-fnoY2YOiu8hfwzrZUmZj495?usp=sharing"
   ]
  },
  {
   "cell_type": "markdown",
   "metadata": {},
   "source": [
    "# **5. Data Preprocessing**"
   ]
  },
  {
   "cell_type": "markdown",
   "metadata": {},
   "source": [
    "## Split data inferece"
   ]
  },
  {
   "cell_type": "markdown",
   "metadata": {},
   "source": [
    "Mengambil data random untuk dijadikan data inference atau data yang dianggap baru. Data ini nantinya akan digunakan pada model yang telah diimporeve atau data ini digunakan untuk model inference"
   ]
  },
  {
   "cell_type": "code",
   "execution_count": 22,
   "metadata": {},
   "outputs": [
    {
     "data": {
      "text/html": [
       "<div>\n",
       "<style scoped>\n",
       "    .dataframe tbody tr th:only-of-type {\n",
       "        vertical-align: middle;\n",
       "    }\n",
       "\n",
       "    .dataframe tbody tr th {\n",
       "        vertical-align: top;\n",
       "    }\n",
       "\n",
       "    .dataframe thead th {\n",
       "        text-align: right;\n",
       "    }\n",
       "</style>\n",
       "<table border=\"1\" class=\"dataframe\">\n",
       "  <thead>\n",
       "    <tr style=\"text-align: right;\">\n",
       "      <th></th>\n",
       "      <th>customerID</th>\n",
       "      <th>gender</th>\n",
       "      <th>SeniorCitizen</th>\n",
       "      <th>Partner</th>\n",
       "      <th>Dependents</th>\n",
       "      <th>tenure</th>\n",
       "      <th>PhoneService</th>\n",
       "      <th>MultipleLines</th>\n",
       "      <th>InternetService</th>\n",
       "      <th>OnlineSecurity</th>\n",
       "      <th>...</th>\n",
       "      <th>DeviceProtection</th>\n",
       "      <th>TechSupport</th>\n",
       "      <th>StreamingTV</th>\n",
       "      <th>StreamingMovies</th>\n",
       "      <th>Contract</th>\n",
       "      <th>PaperlessBilling</th>\n",
       "      <th>PaymentMethod</th>\n",
       "      <th>MonthlyCharges</th>\n",
       "      <th>TotalCharges</th>\n",
       "      <th>Churn</th>\n",
       "    </tr>\n",
       "  </thead>\n",
       "  <tbody>\n",
       "    <tr>\n",
       "      <th>4117</th>\n",
       "      <td>6211-WWLTF</td>\n",
       "      <td>Male</td>\n",
       "      <td>0</td>\n",
       "      <td>Yes</td>\n",
       "      <td>No</td>\n",
       "      <td>63</td>\n",
       "      <td>Yes</td>\n",
       "      <td>No</td>\n",
       "      <td>Fiber optic</td>\n",
       "      <td>Yes</td>\n",
       "      <td>...</td>\n",
       "      <td>Yes</td>\n",
       "      <td>No</td>\n",
       "      <td>Yes</td>\n",
       "      <td>Yes</td>\n",
       "      <td>Two year</td>\n",
       "      <td>No</td>\n",
       "      <td>Credit card (automatic)</td>\n",
       "      <td>99.70</td>\n",
       "      <td>6330.4</td>\n",
       "      <td>0</td>\n",
       "    </tr>\n",
       "    <tr>\n",
       "      <th>1302</th>\n",
       "      <td>3230-IUALN</td>\n",
       "      <td>Female</td>\n",
       "      <td>0</td>\n",
       "      <td>Yes</td>\n",
       "      <td>Yes</td>\n",
       "      <td>45</td>\n",
       "      <td>Yes</td>\n",
       "      <td>No</td>\n",
       "      <td>DSL</td>\n",
       "      <td>Yes</td>\n",
       "      <td>...</td>\n",
       "      <td>Yes</td>\n",
       "      <td>Yes</td>\n",
       "      <td>Yes</td>\n",
       "      <td>Yes</td>\n",
       "      <td>Two year</td>\n",
       "      <td>Yes</td>\n",
       "      <td>Mailed check</td>\n",
       "      <td>81.00</td>\n",
       "      <td>3533.6</td>\n",
       "      <td>0</td>\n",
       "    </tr>\n",
       "    <tr>\n",
       "      <th>6201</th>\n",
       "      <td>6458-CYIDZ</td>\n",
       "      <td>Female</td>\n",
       "      <td>1</td>\n",
       "      <td>No</td>\n",
       "      <td>No</td>\n",
       "      <td>5</td>\n",
       "      <td>Yes</td>\n",
       "      <td>No</td>\n",
       "      <td>Fiber optic</td>\n",
       "      <td>Yes</td>\n",
       "      <td>...</td>\n",
       "      <td>No</td>\n",
       "      <td>No</td>\n",
       "      <td>No</td>\n",
       "      <td>No</td>\n",
       "      <td>Month-to-month</td>\n",
       "      <td>No</td>\n",
       "      <td>Electronic check</td>\n",
       "      <td>80.70</td>\n",
       "      <td>374.8</td>\n",
       "      <td>0</td>\n",
       "    </tr>\n",
       "    <tr>\n",
       "      <th>3784</th>\n",
       "      <td>4958-XCBDQ</td>\n",
       "      <td>Male</td>\n",
       "      <td>1</td>\n",
       "      <td>No</td>\n",
       "      <td>No</td>\n",
       "      <td>35</td>\n",
       "      <td>Yes</td>\n",
       "      <td>Yes</td>\n",
       "      <td>Fiber optic</td>\n",
       "      <td>No</td>\n",
       "      <td>...</td>\n",
       "      <td>Yes</td>\n",
       "      <td>No</td>\n",
       "      <td>Yes</td>\n",
       "      <td>Yes</td>\n",
       "      <td>Month-to-month</td>\n",
       "      <td>Yes</td>\n",
       "      <td>Electronic check</td>\n",
       "      <td>101.40</td>\n",
       "      <td>3496.3</td>\n",
       "      <td>1</td>\n",
       "    </tr>\n",
       "    <tr>\n",
       "      <th>2739</th>\n",
       "      <td>4455-BFSPD</td>\n",
       "      <td>Female</td>\n",
       "      <td>0</td>\n",
       "      <td>Yes</td>\n",
       "      <td>No</td>\n",
       "      <td>61</td>\n",
       "      <td>Yes</td>\n",
       "      <td>Yes</td>\n",
       "      <td>Fiber optic</td>\n",
       "      <td>No</td>\n",
       "      <td>...</td>\n",
       "      <td>No</td>\n",
       "      <td>Yes</td>\n",
       "      <td>Yes</td>\n",
       "      <td>Yes</td>\n",
       "      <td>One year</td>\n",
       "      <td>No</td>\n",
       "      <td>Bank transfer (automatic)</td>\n",
       "      <td>101.15</td>\n",
       "      <td>6383.9</td>\n",
       "      <td>0</td>\n",
       "    </tr>\n",
       "  </tbody>\n",
       "</table>\n",
       "<p>5 rows × 21 columns</p>\n",
       "</div>"
      ],
      "text/plain": [
       "      customerID  gender  SeniorCitizen Partner Dependents  tenure  \\\n",
       "4117  6211-WWLTF    Male              0     Yes         No      63   \n",
       "1302  3230-IUALN  Female              0     Yes        Yes      45   \n",
       "6201  6458-CYIDZ  Female              1      No         No       5   \n",
       "3784  4958-XCBDQ    Male              1      No         No      35   \n",
       "2739  4455-BFSPD  Female              0     Yes         No      61   \n",
       "\n",
       "     PhoneService MultipleLines InternetService OnlineSecurity  ...  \\\n",
       "4117          Yes            No     Fiber optic            Yes  ...   \n",
       "1302          Yes            No             DSL            Yes  ...   \n",
       "6201          Yes            No     Fiber optic            Yes  ...   \n",
       "3784          Yes           Yes     Fiber optic             No  ...   \n",
       "2739          Yes           Yes     Fiber optic             No  ...   \n",
       "\n",
       "     DeviceProtection TechSupport StreamingTV StreamingMovies        Contract  \\\n",
       "4117              Yes          No         Yes             Yes        Two year   \n",
       "1302              Yes         Yes         Yes             Yes        Two year   \n",
       "6201               No          No          No              No  Month-to-month   \n",
       "3784              Yes          No         Yes             Yes  Month-to-month   \n",
       "2739               No         Yes         Yes             Yes        One year   \n",
       "\n",
       "     PaperlessBilling              PaymentMethod MonthlyCharges  TotalCharges  \\\n",
       "4117               No    Credit card (automatic)          99.70        6330.4   \n",
       "1302              Yes               Mailed check          81.00        3533.6   \n",
       "6201               No           Electronic check          80.70         374.8   \n",
       "3784              Yes           Electronic check         101.40        3496.3   \n",
       "2739               No  Bank transfer (automatic)         101.15        6383.9   \n",
       "\n",
       "      Churn  \n",
       "4117      0  \n",
       "1302      0  \n",
       "6201      0  \n",
       "3784      1  \n",
       "2739      0  \n",
       "\n",
       "[5 rows x 21 columns]"
      ]
     },
     "execution_count": 22,
     "metadata": {},
     "output_type": "execute_result"
    }
   ],
   "source": [
    "# split 20 data inference dengan random state 23\n",
    "data_inf = data.sample(100, random_state=23)\n",
    "data_inf.head(5)"
   ]
  },
  {
   "cell_type": "markdown",
   "metadata": {},
   "source": [
    "Setelah mengambil data untuk data inference, hapus data tersebut dari dataset awal yang akan digunakan untuk data train test. Hal ini agar tidak terjadinya data leak saat memprediksi data inference."
   ]
  },
  {
   "cell_type": "code",
   "execution_count": 23,
   "metadata": {},
   "outputs": [
    {
     "data": {
      "text/html": [
       "<div>\n",
       "<style scoped>\n",
       "    .dataframe tbody tr th:only-of-type {\n",
       "        vertical-align: middle;\n",
       "    }\n",
       "\n",
       "    .dataframe tbody tr th {\n",
       "        vertical-align: top;\n",
       "    }\n",
       "\n",
       "    .dataframe thead th {\n",
       "        text-align: right;\n",
       "    }\n",
       "</style>\n",
       "<table border=\"1\" class=\"dataframe\">\n",
       "  <thead>\n",
       "    <tr style=\"text-align: right;\">\n",
       "      <th></th>\n",
       "      <th>customerID</th>\n",
       "      <th>gender</th>\n",
       "      <th>SeniorCitizen</th>\n",
       "      <th>Partner</th>\n",
       "      <th>Dependents</th>\n",
       "      <th>tenure</th>\n",
       "      <th>PhoneService</th>\n",
       "      <th>MultipleLines</th>\n",
       "      <th>InternetService</th>\n",
       "      <th>OnlineSecurity</th>\n",
       "      <th>...</th>\n",
       "      <th>DeviceProtection</th>\n",
       "      <th>TechSupport</th>\n",
       "      <th>StreamingTV</th>\n",
       "      <th>StreamingMovies</th>\n",
       "      <th>Contract</th>\n",
       "      <th>PaperlessBilling</th>\n",
       "      <th>PaymentMethod</th>\n",
       "      <th>MonthlyCharges</th>\n",
       "      <th>TotalCharges</th>\n",
       "      <th>Churn</th>\n",
       "    </tr>\n",
       "  </thead>\n",
       "  <tbody>\n",
       "    <tr>\n",
       "      <th>0</th>\n",
       "      <td>7590-VHVEG</td>\n",
       "      <td>Female</td>\n",
       "      <td>0</td>\n",
       "      <td>Yes</td>\n",
       "      <td>No</td>\n",
       "      <td>1</td>\n",
       "      <td>No</td>\n",
       "      <td>No phone service</td>\n",
       "      <td>DSL</td>\n",
       "      <td>No</td>\n",
       "      <td>...</td>\n",
       "      <td>No</td>\n",
       "      <td>No</td>\n",
       "      <td>No</td>\n",
       "      <td>No</td>\n",
       "      <td>Month-to-month</td>\n",
       "      <td>Yes</td>\n",
       "      <td>Electronic check</td>\n",
       "      <td>29.85</td>\n",
       "      <td>29.85</td>\n",
       "      <td>0</td>\n",
       "    </tr>\n",
       "    <tr>\n",
       "      <th>1</th>\n",
       "      <td>5575-GNVDE</td>\n",
       "      <td>Male</td>\n",
       "      <td>0</td>\n",
       "      <td>No</td>\n",
       "      <td>No</td>\n",
       "      <td>34</td>\n",
       "      <td>Yes</td>\n",
       "      <td>No</td>\n",
       "      <td>DSL</td>\n",
       "      <td>Yes</td>\n",
       "      <td>...</td>\n",
       "      <td>Yes</td>\n",
       "      <td>No</td>\n",
       "      <td>No</td>\n",
       "      <td>No</td>\n",
       "      <td>One year</td>\n",
       "      <td>No</td>\n",
       "      <td>Mailed check</td>\n",
       "      <td>56.95</td>\n",
       "      <td>1889.50</td>\n",
       "      <td>0</td>\n",
       "    </tr>\n",
       "    <tr>\n",
       "      <th>2</th>\n",
       "      <td>3668-QPYBK</td>\n",
       "      <td>Male</td>\n",
       "      <td>0</td>\n",
       "      <td>No</td>\n",
       "      <td>No</td>\n",
       "      <td>2</td>\n",
       "      <td>Yes</td>\n",
       "      <td>No</td>\n",
       "      <td>DSL</td>\n",
       "      <td>Yes</td>\n",
       "      <td>...</td>\n",
       "      <td>No</td>\n",
       "      <td>No</td>\n",
       "      <td>No</td>\n",
       "      <td>No</td>\n",
       "      <td>Month-to-month</td>\n",
       "      <td>Yes</td>\n",
       "      <td>Mailed check</td>\n",
       "      <td>53.85</td>\n",
       "      <td>108.15</td>\n",
       "      <td>1</td>\n",
       "    </tr>\n",
       "    <tr>\n",
       "      <th>3</th>\n",
       "      <td>7795-CFOCW</td>\n",
       "      <td>Male</td>\n",
       "      <td>0</td>\n",
       "      <td>No</td>\n",
       "      <td>No</td>\n",
       "      <td>45</td>\n",
       "      <td>No</td>\n",
       "      <td>No phone service</td>\n",
       "      <td>DSL</td>\n",
       "      <td>Yes</td>\n",
       "      <td>...</td>\n",
       "      <td>Yes</td>\n",
       "      <td>Yes</td>\n",
       "      <td>No</td>\n",
       "      <td>No</td>\n",
       "      <td>One year</td>\n",
       "      <td>No</td>\n",
       "      <td>Bank transfer (automatic)</td>\n",
       "      <td>42.30</td>\n",
       "      <td>1840.75</td>\n",
       "      <td>0</td>\n",
       "    </tr>\n",
       "    <tr>\n",
       "      <th>4</th>\n",
       "      <td>9237-HQITU</td>\n",
       "      <td>Female</td>\n",
       "      <td>0</td>\n",
       "      <td>No</td>\n",
       "      <td>No</td>\n",
       "      <td>2</td>\n",
       "      <td>Yes</td>\n",
       "      <td>No</td>\n",
       "      <td>Fiber optic</td>\n",
       "      <td>No</td>\n",
       "      <td>...</td>\n",
       "      <td>No</td>\n",
       "      <td>No</td>\n",
       "      <td>No</td>\n",
       "      <td>No</td>\n",
       "      <td>Month-to-month</td>\n",
       "      <td>Yes</td>\n",
       "      <td>Electronic check</td>\n",
       "      <td>70.70</td>\n",
       "      <td>151.65</td>\n",
       "      <td>1</td>\n",
       "    </tr>\n",
       "  </tbody>\n",
       "</table>\n",
       "<p>5 rows × 21 columns</p>\n",
       "</div>"
      ],
      "text/plain": [
       "   customerID  gender  SeniorCitizen Partner Dependents  tenure PhoneService  \\\n",
       "0  7590-VHVEG  Female              0     Yes         No       1           No   \n",
       "1  5575-GNVDE    Male              0      No         No      34          Yes   \n",
       "2  3668-QPYBK    Male              0      No         No       2          Yes   \n",
       "3  7795-CFOCW    Male              0      No         No      45           No   \n",
       "4  9237-HQITU  Female              0      No         No       2          Yes   \n",
       "\n",
       "      MultipleLines InternetService OnlineSecurity  ... DeviceProtection  \\\n",
       "0  No phone service             DSL             No  ...               No   \n",
       "1                No             DSL            Yes  ...              Yes   \n",
       "2                No             DSL            Yes  ...               No   \n",
       "3  No phone service             DSL            Yes  ...              Yes   \n",
       "4                No     Fiber optic             No  ...               No   \n",
       "\n",
       "  TechSupport StreamingTV StreamingMovies        Contract PaperlessBilling  \\\n",
       "0          No          No              No  Month-to-month              Yes   \n",
       "1          No          No              No        One year               No   \n",
       "2          No          No              No  Month-to-month              Yes   \n",
       "3         Yes          No              No        One year               No   \n",
       "4          No          No              No  Month-to-month              Yes   \n",
       "\n",
       "               PaymentMethod MonthlyCharges  TotalCharges  Churn  \n",
       "0           Electronic check          29.85         29.85      0  \n",
       "1               Mailed check          56.95       1889.50      0  \n",
       "2               Mailed check          53.85        108.15      1  \n",
       "3  Bank transfer (automatic)          42.30       1840.75      0  \n",
       "4           Electronic check          70.70        151.65      1  \n",
       "\n",
       "[5 rows x 21 columns]"
      ]
     },
     "execution_count": 23,
     "metadata": {},
     "output_type": "execute_result"
    }
   ],
   "source": [
    "# Drop data inference dari dataset\n",
    "data_train_test = data.drop(data_inf.index)\n",
    "data_train_test.head(5)"
   ]
  },
  {
   "cell_type": "markdown",
   "metadata": {},
   "source": [
    "Karena pengambilan data inference dilakukan secara random yang mengakibatkan index dari data inferece dan data train test tidak berururan, oleh karena itu dilakukan reset index."
   ]
  },
  {
   "cell_type": "code",
   "execution_count": 24,
   "metadata": {},
   "outputs": [],
   "source": [
    "# Reset index data train test\n",
    "data_train_test.reset_index(drop=True, inplace=True)\n",
    "\n",
    "# Reset index data inference\n",
    "data_inf.reset_index(drop=True, inplace=True)"
   ]
  },
  {
   "cell_type": "markdown",
   "metadata": {},
   "source": [
    "## Split Data train-test"
   ]
  },
  {
   "cell_type": "markdown",
   "metadata": {},
   "source": [
    "Definisikan fitur dan target"
   ]
  },
  {
   "cell_type": "code",
   "execution_count": 25,
   "metadata": {},
   "outputs": [],
   "source": [
    "# data fitur (X)\n",
    "X = data_train_test.drop('Churn', axis=1)\n",
    "\n",
    "# data target (y)\n",
    "y = data_train_test['Churn']"
   ]
  },
  {
   "cell_type": "markdown",
   "metadata": {},
   "source": [
    "Split data untuk training model (data train) dan untuk evaluasi model (data test). Penulis menggunakan perbandingan 80% untuk data train dan 20% untuk test"
   ]
  },
  {
   "cell_type": "code",
   "execution_count": 26,
   "metadata": {},
   "outputs": [],
   "source": [
    "# split data train dan test dengan test size 20%\n",
    "X_train, X_test, y_train, y_test = train_test_split(X, y, test_size=0.2, random_state=23)"
   ]
  },
  {
   "cell_type": "markdown",
   "metadata": {},
   "source": [
    "Pada deep learning ini akan dilakukan validation yang menggunakan data validasi. data tersebut dapat diambil dari data train"
   ]
  },
  {
   "cell_type": "code",
   "execution_count": 27,
   "metadata": {},
   "outputs": [],
   "source": [
    "# split data train dan data val\n",
    "X_train, X_val, y_train, y_val = train_test_split(X_train, y_train, train_size=0.8, random_state=23)"
   ]
  },
  {
   "cell_type": "code",
   "execution_count": 28,
   "metadata": {},
   "outputs": [
    {
     "name": "stdout",
     "output_type": "stream",
     "text": [
      "Size dataset: (6943, 21)\n",
      "Size X-Train: (4443, 20)\n",
      "Size y-Train: (4443,)\n",
      "Size X-val: (1111, 20)\n",
      "Size y-val: (1111,)\n",
      "Size X-Test: (1389, 20)\n",
      "Size y-Test: (1389,)\n"
     ]
    }
   ],
   "source": [
    "# tampilkan size dataset, train dan test\n",
    "print('Size dataset:', data_train_test.shape)\n",
    "print('Size X-Train:', X_train.shape)\n",
    "print('Size y-Train:', y_train.shape)\n",
    "print('Size X-val:', X_val.shape)\n",
    "print('Size y-val:', y_val.shape)\n",
    "print('Size X-Test:', X_test.shape)\n",
    "print('Size y-Test:', y_test.shape)"
   ]
  },
  {
   "cell_type": "markdown",
   "metadata": {},
   "source": [
    "## Data Cleaning"
   ]
  },
  {
   "cell_type": "markdown",
   "metadata": {},
   "source": [
    "### Pertama, cek missing value pada fitur dan target"
   ]
  },
  {
   "cell_type": "code",
   "execution_count": 29,
   "metadata": {},
   "outputs": [
    {
     "name": "stdout",
     "output_type": "stream",
     "text": [
      "Missing value X-train: 6\n",
      "Missing value y-train: 0\n",
      "Missing value X-train: 1\n",
      "Missing value y-train: 0\n",
      "Missing value X-test: 4\n",
      "Missing value y-test: 0\n"
     ]
    }
   ],
   "source": [
    "# missing value dari masing-masing data\n",
    "print('Missing value X-train:', X_train.isnull().sum().sum())\n",
    "print('Missing value y-train:', y_train.isnull().sum().sum())\n",
    "\n",
    "print('Missing value X-train:', X_val.isnull().sum().sum())\n",
    "print('Missing value y-train:', y_val.isnull().sum().sum())\n",
    "\n",
    "print('Missing value X-test:', X_test.isnull().sum().sum())\n",
    "print('Missing value y-test:', y_test.isnull().sum().sum())"
   ]
  },
  {
   "cell_type": "markdown",
   "metadata": {},
   "source": [
    "- Pada data info sebelumnya dilakukan pengecekan bahwa jumlah non-null sama semua, tetapi setelah dilakukan perubahan jenis tipe data dari fitur TotalCharges, terdeteksi adanya missing value.\n",
    "- Gunakan imputation untuk replace missing value, sebelum itu lihat distribusi pada kolom TotalCharges"
   ]
  },
  {
   "cell_type": "code",
   "execution_count": 30,
   "metadata": {},
   "outputs": [
    {
     "data": {
      "image/png": "[encoded data removed]",
      "text/plain": [
       "<Figure size 432x288 with 1 Axes>"
      ]
     },
     "metadata": {
      "needs_background": "light"
     },
     "output_type": "display_data"
    }
   ],
   "source": [
    "# jenis distribusi kolom\n",
    "sns.histplot(X_train['TotalCharges'], bins=30)\n",
    "plt.title('Histogram TotalCharges')\n",
    "plt.show()"
   ]
  },
  {
   "cell_type": "markdown",
   "metadata": {},
   "source": [
    "- karena distribusi dari kolom TotalCharges adalah right-skew, maka akan digunakan median imputation\n",
    "- Sebenarnya missing value dari X-train, X-val dan X-test sangat sedikit bahkan tidak mencapai 1% dari data, tetapi dilkaukan imputation karena jika dilakukan drop baris maka jumlah baris pada fitur dan target akan berbeda dan hal tersebut akan menyebabkan error pada proses training maupun prediksi model"
   ]
  },
  {
   "cell_type": "code",
   "execution_count": 31,
   "metadata": {},
   "outputs": [],
   "source": [
    "# replace missing value TotalCharges\n",
    "X_train['TotalCharges'].fillna(X_train['TotalCharges'].median(), inplace=True)\n",
    "X_val['TotalCharges'].fillna(X_val['TotalCharges'].median(), inplace=True)\n",
    "X_test['TotalCharges'].fillna(X_test['TotalCharges'].median(), inplace=True)"
   ]
  },
  {
   "cell_type": "code",
   "execution_count": 32,
   "metadata": {},
   "outputs": [
    {
     "name": "stdout",
     "output_type": "stream",
     "text": [
      "Missing value X-train: 0\n",
      "Missing value X-train: 0\n",
      "Missing value X-test: 0\n"
     ]
    }
   ],
   "source": [
    "# cek kembali missing value\n",
    "print('Missing value X-train:', X_train.isnull().sum().sum())\n",
    "\n",
    "print('Missing value X-train:', X_val.isnull().sum().sum())\n",
    "\n",
    "print('Missing value X-test:', X_test.isnull().sum().sum())"
   ]
  },
  {
   "cell_type": "markdown",
   "metadata": {},
   "source": [
    "### Kedua, cek outliers"
   ]
  },
  {
   "cell_type": "markdown",
   "metadata": {},
   "source": [
    "jika ditemukan outliers maka yang hanya akan dilakukan handling pada data train, oleh karena itu hanya dilakukan pengecekan pada X-train"
   ]
  },
  {
   "cell_type": "code",
   "execution_count": 33,
   "metadata": {},
   "outputs": [
    {
     "data": {
      "image/png": "[encoded data removed]",
      "text/plain": [
       "<Figure size 1080x720 with 4 Axes>"
      ]
     },
     "metadata": {
      "needs_background": "light"
     },
     "output_type": "display_data"
    }
   ],
   "source": [
    "# definisikan kolom numerik\n",
    "cols = ['SeniorCitizen', 'tenure', 'MonthlyCharges', 'TotalCharges']\n",
    "\n",
    "# definisikan besar figsize\n",
    "plt.figure(figsize=(15,10))\n",
    "\n",
    "# buat looping untuk boxplot kolom\n",
    "for i, col in enumerate(cols):\n",
    "    if X_train[col].dtype != 'object':\n",
    "        ax = plt.subplot(2, 2, i+1)\n",
    "        sns.boxplot(y=X_train[col])\n",
    "        plt.xlabel(col)\n",
    "        \n",
    "plt.show()"
   ]
  },
  {
   "cell_type": "markdown",
   "metadata": {},
   "source": [
    "- Dari boxplot diatas sudah tidak terdapat outliers sehingga tidak diperlukan handling outliers\n",
    "- Untuk fitur Senior citizen bukan merupakan outliers, tetapi data tersebut merupakan fitur yang termasuk kategori tetapi dalam bentuk numerik\n",
    "- Ref: https://www.kaggle.com/code/asimislam/tutorial-python-subplots/notebook"
   ]
  },
  {
   "cell_type": "markdown",
   "metadata": {},
   "source": [
    "## Feature Selection"
   ]
  },
  {
   "cell_type": "markdown",
   "metadata": {},
   "source": [
    "Feature selection bertujuan untuk memilih fitur apa saja yang akan digunakan untuk membantu model dalam prediksi"
   ]
  },
  {
   "cell_type": "code",
   "execution_count": 34,
   "metadata": {},
   "outputs": [
    {
     "data": {
      "text/html": [
       "<div>\n",
       "<style scoped>\n",
       "    .dataframe tbody tr th:only-of-type {\n",
       "        vertical-align: middle;\n",
       "    }\n",
       "\n",
       "    .dataframe tbody tr th {\n",
       "        vertical-align: top;\n",
       "    }\n",
       "\n",
       "    .dataframe thead th {\n",
       "        text-align: right;\n",
       "    }\n",
       "</style>\n",
       "<table border=\"1\" class=\"dataframe\">\n",
       "  <thead>\n",
       "    <tr style=\"text-align: right;\">\n",
       "      <th></th>\n",
       "      <th>customerID</th>\n",
       "      <th>gender</th>\n",
       "      <th>SeniorCitizen</th>\n",
       "      <th>Partner</th>\n",
       "      <th>Dependents</th>\n",
       "      <th>tenure</th>\n",
       "      <th>PhoneService</th>\n",
       "      <th>MultipleLines</th>\n",
       "      <th>InternetService</th>\n",
       "      <th>OnlineSecurity</th>\n",
       "      <th>OnlineBackup</th>\n",
       "      <th>DeviceProtection</th>\n",
       "      <th>TechSupport</th>\n",
       "      <th>StreamingTV</th>\n",
       "      <th>StreamingMovies</th>\n",
       "      <th>Contract</th>\n",
       "      <th>PaperlessBilling</th>\n",
       "      <th>PaymentMethod</th>\n",
       "      <th>MonthlyCharges</th>\n",
       "      <th>TotalCharges</th>\n",
       "    </tr>\n",
       "  </thead>\n",
       "  <tbody>\n",
       "    <tr>\n",
       "      <th>600</th>\n",
       "      <td>8672-OAUPW</td>\n",
       "      <td>Male</td>\n",
       "      <td>0</td>\n",
       "      <td>No</td>\n",
       "      <td>Yes</td>\n",
       "      <td>51</td>\n",
       "      <td>Yes</td>\n",
       "      <td>No</td>\n",
       "      <td>DSL</td>\n",
       "      <td>No</td>\n",
       "      <td>No</td>\n",
       "      <td>No</td>\n",
       "      <td>Yes</td>\n",
       "      <td>No</td>\n",
       "      <td>No</td>\n",
       "      <td>One year</td>\n",
       "      <td>No</td>\n",
       "      <td>Credit card (automatic)</td>\n",
       "      <td>47.85</td>\n",
       "      <td>2356.75</td>\n",
       "    </tr>\n",
       "    <tr>\n",
       "      <th>5</th>\n",
       "      <td>9305-CDSKC</td>\n",
       "      <td>Female</td>\n",
       "      <td>0</td>\n",
       "      <td>No</td>\n",
       "      <td>No</td>\n",
       "      <td>8</td>\n",
       "      <td>Yes</td>\n",
       "      <td>Yes</td>\n",
       "      <td>Fiber optic</td>\n",
       "      <td>No</td>\n",
       "      <td>No</td>\n",
       "      <td>Yes</td>\n",
       "      <td>No</td>\n",
       "      <td>Yes</td>\n",
       "      <td>Yes</td>\n",
       "      <td>Month-to-month</td>\n",
       "      <td>Yes</td>\n",
       "      <td>Electronic check</td>\n",
       "      <td>99.65</td>\n",
       "      <td>820.50</td>\n",
       "    </tr>\n",
       "    <tr>\n",
       "      <th>6445</th>\n",
       "      <td>5712-PTIWW</td>\n",
       "      <td>Male</td>\n",
       "      <td>0</td>\n",
       "      <td>No</td>\n",
       "      <td>No</td>\n",
       "      <td>2</td>\n",
       "      <td>Yes</td>\n",
       "      <td>No</td>\n",
       "      <td>Fiber optic</td>\n",
       "      <td>No</td>\n",
       "      <td>No</td>\n",
       "      <td>Yes</td>\n",
       "      <td>Yes</td>\n",
       "      <td>No</td>\n",
       "      <td>No</td>\n",
       "      <td>Month-to-month</td>\n",
       "      <td>Yes</td>\n",
       "      <td>Electronic check</td>\n",
       "      <td>79.85</td>\n",
       "      <td>152.45</td>\n",
       "    </tr>\n",
       "    <tr>\n",
       "      <th>4981</th>\n",
       "      <td>6925-BAYGL</td>\n",
       "      <td>Female</td>\n",
       "      <td>1</td>\n",
       "      <td>Yes</td>\n",
       "      <td>No</td>\n",
       "      <td>53</td>\n",
       "      <td>Yes</td>\n",
       "      <td>Yes</td>\n",
       "      <td>No</td>\n",
       "      <td>No internet service</td>\n",
       "      <td>No internet service</td>\n",
       "      <td>No internet service</td>\n",
       "      <td>No internet service</td>\n",
       "      <td>No internet service</td>\n",
       "      <td>No internet service</td>\n",
       "      <td>Two year</td>\n",
       "      <td>No</td>\n",
       "      <td>Credit card (automatic)</td>\n",
       "      <td>25.10</td>\n",
       "      <td>1275.60</td>\n",
       "    </tr>\n",
       "    <tr>\n",
       "      <th>6498</th>\n",
       "      <td>5832-XKAES</td>\n",
       "      <td>Male</td>\n",
       "      <td>0</td>\n",
       "      <td>No</td>\n",
       "      <td>No</td>\n",
       "      <td>2</td>\n",
       "      <td>Yes</td>\n",
       "      <td>No</td>\n",
       "      <td>Fiber optic</td>\n",
       "      <td>No</td>\n",
       "      <td>No</td>\n",
       "      <td>No</td>\n",
       "      <td>No</td>\n",
       "      <td>No</td>\n",
       "      <td>No</td>\n",
       "      <td>Month-to-month</td>\n",
       "      <td>Yes</td>\n",
       "      <td>Credit card (automatic)</td>\n",
       "      <td>69.80</td>\n",
       "      <td>134.70</td>\n",
       "    </tr>\n",
       "    <tr>\n",
       "      <th>...</th>\n",
       "      <td>...</td>\n",
       "      <td>...</td>\n",
       "      <td>...</td>\n",
       "      <td>...</td>\n",
       "      <td>...</td>\n",
       "      <td>...</td>\n",
       "      <td>...</td>\n",
       "      <td>...</td>\n",
       "      <td>...</td>\n",
       "      <td>...</td>\n",
       "      <td>...</td>\n",
       "      <td>...</td>\n",
       "      <td>...</td>\n",
       "      <td>...</td>\n",
       "      <td>...</td>\n",
       "      <td>...</td>\n",
       "      <td>...</td>\n",
       "      <td>...</td>\n",
       "      <td>...</td>\n",
       "      <td>...</td>\n",
       "    </tr>\n",
       "    <tr>\n",
       "      <th>1130</th>\n",
       "      <td>2446-ZKVAF</td>\n",
       "      <td>Male</td>\n",
       "      <td>0</td>\n",
       "      <td>Yes</td>\n",
       "      <td>No</td>\n",
       "      <td>18</td>\n",
       "      <td>Yes</td>\n",
       "      <td>Yes</td>\n",
       "      <td>DSL</td>\n",
       "      <td>No</td>\n",
       "      <td>Yes</td>\n",
       "      <td>No</td>\n",
       "      <td>No</td>\n",
       "      <td>No</td>\n",
       "      <td>No</td>\n",
       "      <td>Month-to-month</td>\n",
       "      <td>No</td>\n",
       "      <td>Credit card (automatic)</td>\n",
       "      <td>56.80</td>\n",
       "      <td>1074.65</td>\n",
       "    </tr>\n",
       "    <tr>\n",
       "      <th>2602</th>\n",
       "      <td>6877-TJMBR</td>\n",
       "      <td>Male</td>\n",
       "      <td>0</td>\n",
       "      <td>Yes</td>\n",
       "      <td>No</td>\n",
       "      <td>1</td>\n",
       "      <td>Yes</td>\n",
       "      <td>No</td>\n",
       "      <td>Fiber optic</td>\n",
       "      <td>No</td>\n",
       "      <td>No</td>\n",
       "      <td>No</td>\n",
       "      <td>Yes</td>\n",
       "      <td>Yes</td>\n",
       "      <td>No</td>\n",
       "      <td>Month-to-month</td>\n",
       "      <td>Yes</td>\n",
       "      <td>Electronic check</td>\n",
       "      <td>84.80</td>\n",
       "      <td>84.80</td>\n",
       "    </tr>\n",
       "    <tr>\n",
       "      <th>420</th>\n",
       "      <td>7663-ZTEGJ</td>\n",
       "      <td>Male</td>\n",
       "      <td>0</td>\n",
       "      <td>No</td>\n",
       "      <td>Yes</td>\n",
       "      <td>29</td>\n",
       "      <td>Yes</td>\n",
       "      <td>Yes</td>\n",
       "      <td>Fiber optic</td>\n",
       "      <td>No</td>\n",
       "      <td>Yes</td>\n",
       "      <td>Yes</td>\n",
       "      <td>Yes</td>\n",
       "      <td>No</td>\n",
       "      <td>Yes</td>\n",
       "      <td>One year</td>\n",
       "      <td>No</td>\n",
       "      <td>Credit card (automatic)</td>\n",
       "      <td>100.55</td>\n",
       "      <td>2830.45</td>\n",
       "    </tr>\n",
       "    <tr>\n",
       "      <th>569</th>\n",
       "      <td>4710-FDUIZ</td>\n",
       "      <td>Male</td>\n",
       "      <td>0</td>\n",
       "      <td>Yes</td>\n",
       "      <td>No</td>\n",
       "      <td>56</td>\n",
       "      <td>Yes</td>\n",
       "      <td>Yes</td>\n",
       "      <td>Fiber optic</td>\n",
       "      <td>No</td>\n",
       "      <td>Yes</td>\n",
       "      <td>No</td>\n",
       "      <td>No</td>\n",
       "      <td>Yes</td>\n",
       "      <td>Yes</td>\n",
       "      <td>One year</td>\n",
       "      <td>No</td>\n",
       "      <td>Credit card (automatic)</td>\n",
       "      <td>100.30</td>\n",
       "      <td>5614.45</td>\n",
       "    </tr>\n",
       "    <tr>\n",
       "      <th>5128</th>\n",
       "      <td>0365-TRTPY</td>\n",
       "      <td>Female</td>\n",
       "      <td>0</td>\n",
       "      <td>No</td>\n",
       "      <td>No</td>\n",
       "      <td>37</td>\n",
       "      <td>Yes</td>\n",
       "      <td>Yes</td>\n",
       "      <td>Fiber optic</td>\n",
       "      <td>Yes</td>\n",
       "      <td>Yes</td>\n",
       "      <td>Yes</td>\n",
       "      <td>No</td>\n",
       "      <td>No</td>\n",
       "      <td>No</td>\n",
       "      <td>Month-to-month</td>\n",
       "      <td>No</td>\n",
       "      <td>Bank transfer (automatic)</td>\n",
       "      <td>91.20</td>\n",
       "      <td>3382.30</td>\n",
       "    </tr>\n",
       "  </tbody>\n",
       "</table>\n",
       "<p>4443 rows × 20 columns</p>\n",
       "</div>"
      ],
      "text/plain": [
       "      customerID  gender  SeniorCitizen Partner Dependents  tenure  \\\n",
       "600   8672-OAUPW    Male              0      No        Yes      51   \n",
       "5     9305-CDSKC  Female              0      No         No       8   \n",
       "6445  5712-PTIWW    Male              0      No         No       2   \n",
       "4981  6925-BAYGL  Female              1     Yes         No      53   \n",
       "6498  5832-XKAES    Male              0      No         No       2   \n",
       "...          ...     ...            ...     ...        ...     ...   \n",
       "1130  2446-ZKVAF    Male              0     Yes         No      18   \n",
       "2602  6877-TJMBR    Male              0     Yes         No       1   \n",
       "420   7663-ZTEGJ    Male              0      No        Yes      29   \n",
       "569   4710-FDUIZ    Male              0     Yes         No      56   \n",
       "5128  0365-TRTPY  Female              0      No         No      37   \n",
       "\n",
       "     PhoneService MultipleLines InternetService       OnlineSecurity  \\\n",
       "600           Yes            No             DSL                   No   \n",
       "5             Yes           Yes     Fiber optic                   No   \n",
       "6445          Yes            No     Fiber optic                   No   \n",
       "4981          Yes           Yes              No  No internet service   \n",
       "6498          Yes            No     Fiber optic                   No   \n",
       "...           ...           ...             ...                  ...   \n",
       "1130          Yes           Yes             DSL                   No   \n",
       "2602          Yes            No     Fiber optic                   No   \n",
       "420           Yes           Yes     Fiber optic                   No   \n",
       "569           Yes           Yes     Fiber optic                   No   \n",
       "5128          Yes           Yes     Fiber optic                  Yes   \n",
       "\n",
       "             OnlineBackup     DeviceProtection          TechSupport  \\\n",
       "600                    No                   No                  Yes   \n",
       "5                      No                  Yes                   No   \n",
       "6445                   No                  Yes                  Yes   \n",
       "4981  No internet service  No internet service  No internet service   \n",
       "6498                   No                   No                   No   \n",
       "...                   ...                  ...                  ...   \n",
       "1130                  Yes                   No                   No   \n",
       "2602                   No                   No                  Yes   \n",
       "420                   Yes                  Yes                  Yes   \n",
       "569                   Yes                   No                   No   \n",
       "5128                  Yes                  Yes                   No   \n",
       "\n",
       "              StreamingTV      StreamingMovies        Contract  \\\n",
       "600                    No                   No        One year   \n",
       "5                     Yes                  Yes  Month-to-month   \n",
       "6445                   No                   No  Month-to-month   \n",
       "4981  No internet service  No internet service        Two year   \n",
       "6498                   No                   No  Month-to-month   \n",
       "...                   ...                  ...             ...   \n",
       "1130                   No                   No  Month-to-month   \n",
       "2602                  Yes                   No  Month-to-month   \n",
       "420                    No                  Yes        One year   \n",
       "569                   Yes                  Yes        One year   \n",
       "5128                   No                   No  Month-to-month   \n",
       "\n",
       "     PaperlessBilling              PaymentMethod  MonthlyCharges  TotalCharges  \n",
       "600                No    Credit card (automatic)           47.85       2356.75  \n",
       "5                 Yes           Electronic check           99.65        820.50  \n",
       "6445              Yes           Electronic check           79.85        152.45  \n",
       "4981               No    Credit card (automatic)           25.10       1275.60  \n",
       "6498              Yes    Credit card (automatic)           69.80        134.70  \n",
       "...               ...                        ...             ...           ...  \n",
       "1130               No    Credit card (automatic)           56.80       1074.65  \n",
       "2602              Yes           Electronic check           84.80         84.80  \n",
       "420                No    Credit card (automatic)          100.55       2830.45  \n",
       "569                No    Credit card (automatic)          100.30       5614.45  \n",
       "5128               No  Bank transfer (automatic)           91.20       3382.30  \n",
       "\n",
       "[4443 rows x 20 columns]"
      ]
     },
     "execution_count": 34,
     "metadata": {},
     "output_type": "execute_result"
    }
   ],
   "source": [
    "# display X-train\n",
    "X_train"
   ]
  },
  {
   "cell_type": "markdown",
   "metadata": {},
   "source": [
    "- Fitur customerID dapat didrop karena setiap rows atau setiap customer memiliki ID yang unik (berbeda satu sama lain). Tidak ada customer ID tertentu yang akan mempenagruhi churn atau tidaknya, ID biasanya hanya digunakan untuk identifikasi customer."
   ]
  },
  {
   "cell_type": "code",
   "execution_count": 35,
   "metadata": {},
   "outputs": [],
   "source": [
    "# Drop column yang tidak digunakan \n",
    "# X-train\n",
    "X_train.drop(['customerID'],axis=1, inplace=True)\n",
    "\n",
    "# X-val\n",
    "X_val.drop(['customerID'],axis=1, inplace=True)\n",
    "\n",
    "# X-test\n",
    "X_test.drop(['customerID'],axis=1, inplace=True)"
   ]
  },
  {
   "cell_type": "markdown",
   "metadata": {},
   "source": [
    "## Split Data Numerik dan data kategorik"
   ]
  },
  {
   "cell_type": "markdown",
   "metadata": {},
   "source": [
    "Memisahkan data numerik dan kategorik bertujuan untuk dilakukan proses scaling yang berbeda untuk masing-masing tipe data. Scaling pada numerik dan encoding dan SMOTENC pada kategori "
   ]
  },
  {
   "cell_type": "code",
   "execution_count": 36,
   "metadata": {},
   "outputs": [
    {
     "name": "stdout",
     "output_type": "stream",
     "text": [
      "Kolom Numerik :  ['SeniorCitizen', 'tenure', 'MonthlyCharges', 'TotalCharges']\n",
      "Kolom Kategori :  ['gender', 'Partner', 'Dependents', 'PhoneService', 'MultipleLines', 'InternetService', 'OnlineSecurity', 'OnlineBackup', 'DeviceProtection', 'TechSupport', 'StreamingTV', 'StreamingMovies', 'Contract', 'PaperlessBilling', 'PaymentMethod']\n"
     ]
    }
   ],
   "source": [
    "# split kolom untuk numerik\n",
    "num_col = X_train.select_dtypes(include=np.number).columns.tolist()\n",
    "# split kolom untuk kategori\n",
    "cat_col = X_train.select_dtypes(include=['object']).columns.tolist()\n",
    "\n",
    "# kolom yang termasuk numerik\n",
    "print('Kolom Numerik : ', num_col)\n",
    "# kolom yang bertipe kategori\n",
    "print('Kolom Kategori : ', cat_col)"
   ]
  },
  {
   "cell_type": "markdown",
   "metadata": {},
   "source": [
    "Gabungkan data numerik dan kategori untuk masing-masing X-train, X-val dan X-test"
   ]
  },
  {
   "cell_type": "code",
   "execution_count": 37,
   "metadata": {},
   "outputs": [],
   "source": [
    "# untuk X-train numerik dan kategorik\n",
    "X_train_num = X_train[num_col]\n",
    "X_train_cat = X_train[cat_col]\n",
    "\n",
    "# untuk X-validation numerik dan kategorik\n",
    "X_val_num = X_val[num_col]\n",
    "X_val_cat = X_val[cat_col]\n",
    "\n",
    "# untuk X-test numerik dan kategorik\n",
    "X_test_num = X_test[num_col]\n",
    "X_test_cat = X_test[cat_col]"
   ]
  },
  {
   "cell_type": "markdown",
   "metadata": {},
   "source": [
    "## Handling imbalace data with scaling and encoding"
   ]
  },
  {
   "cell_type": "markdown",
   "metadata": {},
   "source": [
    "Karena handling imbalance data hanya dilakukan pada X-train, maka untuk X-val dan X-test hanya dilakukan scaling dan tidak dilakukan SMOTENC"
   ]
  },
  {
   "cell_type": "code",
   "execution_count": 38,
   "metadata": {},
   "outputs": [],
   "source": [
    "# definisikan scaler\n",
    "scaler = StandardScaler()"
   ]
  },
  {
   "cell_type": "code",
   "execution_count": 39,
   "metadata": {},
   "outputs": [],
   "source": [
    "# x-train num scaling\n",
    "scaler.fit(X_train_num)\n",
    "X_train_imbalanced_num = scaler.transform(X_train_num)\n",
    "# X-val num scaling\n",
    "X_val_scaled = scaler.transform(X_val_num)\n",
    "# X-test num scaling\n",
    "X_test_scaled = scaler.transform(X_test_num)"
   ]
  },
  {
   "cell_type": "markdown",
   "metadata": {},
   "source": [
    "Gabungkan X-train num yang sudah discaling dengan X-train cat yang belum dilakukan encoding"
   ]
  },
  {
   "cell_type": "code",
   "execution_count": 40,
   "metadata": {},
   "outputs": [
    {
     "data": {
      "text/html": [
       "<div>\n",
       "<style scoped>\n",
       "    .dataframe tbody tr th:only-of-type {\n",
       "        vertical-align: middle;\n",
       "    }\n",
       "\n",
       "    .dataframe tbody tr th {\n",
       "        vertical-align: top;\n",
       "    }\n",
       "\n",
       "    .dataframe thead tr th {\n",
       "        text-align: left;\n",
       "    }\n",
       "</style>\n",
       "<table border=\"1\" class=\"dataframe\">\n",
       "  <thead>\n",
       "    <tr>\n",
       "      <th></th>\n",
       "      <th>SeniorCitizen</th>\n",
       "      <th>tenure</th>\n",
       "      <th>MonthlyCharges</th>\n",
       "      <th>TotalCharges</th>\n",
       "      <th>gender</th>\n",
       "      <th>Partner</th>\n",
       "      <th>Dependents</th>\n",
       "      <th>PhoneService</th>\n",
       "      <th>MultipleLines</th>\n",
       "      <th>InternetService</th>\n",
       "      <th>OnlineSecurity</th>\n",
       "      <th>OnlineBackup</th>\n",
       "      <th>DeviceProtection</th>\n",
       "      <th>TechSupport</th>\n",
       "      <th>StreamingTV</th>\n",
       "      <th>StreamingMovies</th>\n",
       "      <th>Contract</th>\n",
       "      <th>PaperlessBilling</th>\n",
       "      <th>PaymentMethod</th>\n",
       "    </tr>\n",
       "  </thead>\n",
       "  <tbody>\n",
       "    <tr>\n",
       "      <th>0</th>\n",
       "      <td>-0.430618</td>\n",
       "      <td>0.773369</td>\n",
       "      <td>-0.555249</td>\n",
       "      <td>0.045434</td>\n",
       "      <td>Male</td>\n",
       "      <td>No</td>\n",
       "      <td>Yes</td>\n",
       "      <td>Yes</td>\n",
       "      <td>No</td>\n",
       "      <td>DSL</td>\n",
       "      <td>No</td>\n",
       "      <td>No</td>\n",
       "      <td>No</td>\n",
       "      <td>Yes</td>\n",
       "      <td>No</td>\n",
       "      <td>No</td>\n",
       "      <td>One year</td>\n",
       "      <td>No</td>\n",
       "      <td>Credit card (automatic)</td>\n",
       "    </tr>\n",
       "    <tr>\n",
       "      <th>1</th>\n",
       "      <td>-0.430618</td>\n",
       "      <td>-0.986938</td>\n",
       "      <td>1.172583</td>\n",
       "      <td>-0.63814</td>\n",
       "      <td>Female</td>\n",
       "      <td>No</td>\n",
       "      <td>No</td>\n",
       "      <td>Yes</td>\n",
       "      <td>Yes</td>\n",
       "      <td>Fiber optic</td>\n",
       "      <td>No</td>\n",
       "      <td>No</td>\n",
       "      <td>Yes</td>\n",
       "      <td>No</td>\n",
       "      <td>Yes</td>\n",
       "      <td>Yes</td>\n",
       "      <td>Month-to-month</td>\n",
       "      <td>Yes</td>\n",
       "      <td>Electronic check</td>\n",
       "    </tr>\n",
       "    <tr>\n",
       "      <th>2</th>\n",
       "      <td>-0.430618</td>\n",
       "      <td>-1.232563</td>\n",
       "      <td>0.512138</td>\n",
       "      <td>-0.935398</td>\n",
       "      <td>Male</td>\n",
       "      <td>No</td>\n",
       "      <td>No</td>\n",
       "      <td>Yes</td>\n",
       "      <td>No</td>\n",
       "      <td>Fiber optic</td>\n",
       "      <td>No</td>\n",
       "      <td>No</td>\n",
       "      <td>Yes</td>\n",
       "      <td>Yes</td>\n",
       "      <td>No</td>\n",
       "      <td>No</td>\n",
       "      <td>Month-to-month</td>\n",
       "      <td>Yes</td>\n",
       "      <td>Electronic check</td>\n",
       "    </tr>\n",
       "    <tr>\n",
       "      <th>3</th>\n",
       "      <td>2.322242</td>\n",
       "      <td>0.855244</td>\n",
       "      <td>-1.314094</td>\n",
       "      <td>-0.435638</td>\n",
       "      <td>Female</td>\n",
       "      <td>Yes</td>\n",
       "      <td>No</td>\n",
       "      <td>Yes</td>\n",
       "      <td>Yes</td>\n",
       "      <td>No</td>\n",
       "      <td>No internet service</td>\n",
       "      <td>No internet service</td>\n",
       "      <td>No internet service</td>\n",
       "      <td>No internet service</td>\n",
       "      <td>No internet service</td>\n",
       "      <td>No internet service</td>\n",
       "      <td>Two year</td>\n",
       "      <td>No</td>\n",
       "      <td>Credit card (automatic)</td>\n",
       "    </tr>\n",
       "    <tr>\n",
       "      <th>4</th>\n",
       "      <td>-0.430618</td>\n",
       "      <td>-1.232563</td>\n",
       "      <td>0.176912</td>\n",
       "      <td>-0.943296</td>\n",
       "      <td>Male</td>\n",
       "      <td>No</td>\n",
       "      <td>No</td>\n",
       "      <td>Yes</td>\n",
       "      <td>No</td>\n",
       "      <td>Fiber optic</td>\n",
       "      <td>No</td>\n",
       "      <td>No</td>\n",
       "      <td>No</td>\n",
       "      <td>No</td>\n",
       "      <td>No</td>\n",
       "      <td>No</td>\n",
       "      <td>Month-to-month</td>\n",
       "      <td>Yes</td>\n",
       "      <td>Credit card (automatic)</td>\n",
       "    </tr>\n",
       "  </tbody>\n",
       "</table>\n",
       "</div>"
      ],
      "text/plain": [
       "  SeniorCitizen    tenure MonthlyCharges TotalCharges  gender Partner  \\\n",
       "0     -0.430618  0.773369      -0.555249     0.045434    Male      No   \n",
       "1     -0.430618 -0.986938       1.172583     -0.63814  Female      No   \n",
       "2     -0.430618 -1.232563       0.512138    -0.935398    Male      No   \n",
       "3      2.322242  0.855244      -1.314094    -0.435638  Female     Yes   \n",
       "4     -0.430618 -1.232563       0.176912    -0.943296    Male      No   \n",
       "\n",
       "  Dependents PhoneService MultipleLines InternetService       OnlineSecurity  \\\n",
       "0        Yes          Yes            No             DSL                   No   \n",
       "1         No          Yes           Yes     Fiber optic                   No   \n",
       "2         No          Yes            No     Fiber optic                   No   \n",
       "3         No          Yes           Yes              No  No internet service   \n",
       "4         No          Yes            No     Fiber optic                   No   \n",
       "\n",
       "          OnlineBackup     DeviceProtection          TechSupport  \\\n",
       "0                   No                   No                  Yes   \n",
       "1                   No                  Yes                   No   \n",
       "2                   No                  Yes                  Yes   \n",
       "3  No internet service  No internet service  No internet service   \n",
       "4                   No                   No                   No   \n",
       "\n",
       "           StreamingTV      StreamingMovies        Contract PaperlessBilling  \\\n",
       "0                   No                   No        One year               No   \n",
       "1                  Yes                  Yes  Month-to-month              Yes   \n",
       "2                   No                   No  Month-to-month              Yes   \n",
       "3  No internet service  No internet service        Two year               No   \n",
       "4                   No                   No  Month-to-month              Yes   \n",
       "\n",
       "             PaymentMethod  \n",
       "0  Credit card (automatic)  \n",
       "1         Electronic check  \n",
       "2         Electronic check  \n",
       "3  Credit card (automatic)  \n",
       "4  Credit card (automatic)  "
      ]
     },
     "execution_count": 40,
     "metadata": {},
     "output_type": "execute_result"
    }
   ],
   "source": [
    "# gabungkan data num scaling dan data cat belum diencoding\n",
    "X_train_imbalanced_new = np.concatenate([X_train_imbalanced_num, X_train_cat], axis=1)\n",
    "\n",
    "# Display X-train final dalam data frame\n",
    "X_train_imbalanced_new_df = pd.DataFrame(X_train_imbalanced_new, columns=[num_col + cat_col])\n",
    "X_train_imbalanced_new_df.head(5)"
   ]
  },
  {
   "cell_type": "markdown",
   "metadata": {},
   "source": [
    "Lakukan handling imbalace data"
   ]
  },
  {
   "cell_type": "code",
   "execution_count": 41,
   "metadata": {},
   "outputs": [
    {
     "data": {
      "text/plain": [
       "0    3260\n",
       "1    3260\n",
       "Name: Churn, dtype: int64"
      ]
     },
     "execution_count": 41,
     "metadata": {},
     "output_type": "execute_result"
    }
   ],
   "source": [
    "# definisikan smotenc dan kolom categori\n",
    "smotenc = SMOTENC([4,5,6,7,8,9,10,11,12,13,14,15,16,17,18], random_state = 23)\n",
    "# lakukan smote pada data train\n",
    "X_train_balanced, y_train_balanced = smotenc.fit_resample(X_train_imbalanced_new, y_train)\n",
    "#tampilakan target\n",
    "y_train_balanced.value_counts()"
   ]
  },
  {
   "cell_type": "markdown",
   "metadata": {},
   "source": [
    "Setelah berhasil dilakukan handling imbalace, pisahkan kembali kolom numerik dan kategori untuk dilakukan endcoding pada kategori"
   ]
  },
  {
   "cell_type": "code",
   "execution_count": 42,
   "metadata": {},
   "outputs": [],
   "source": [
    "# ubah kedalam dataframe terlebih dahulu\n",
    "X_train_balanced_df = pd.DataFrame(X_train_balanced, columns=[num_col + cat_col])\n",
    "\n",
    "# untuk X-train-balance numerik dan kategorik\n",
    "X_train_balance_num = X_train_balanced_df[num_col]\n",
    "X_train_balance_cat = X_train_balanced_df[cat_col]"
   ]
  },
  {
   "cell_type": "markdown",
   "metadata": {},
   "source": [
    "Lakukan encoding pada data kategori"
   ]
  },
  {
   "cell_type": "code",
   "execution_count": 43,
   "metadata": {},
   "outputs": [],
   "source": [
    "# definisikan encoder\n",
    "encoder = OrdinalEncoder()"
   ]
  },
  {
   "cell_type": "code",
   "execution_count": 44,
   "metadata": {},
   "outputs": [],
   "source": [
    "# x-train cat encoding\n",
    "encoder.fit(X_train_balance_cat)\n",
    "X_train_balance_encoded = encoder.transform(X_train_balance_cat)\n",
    "# X-val num scaling\n",
    "X_val_encoded = encoder.transform(X_val_cat)\n",
    "# X-test num scaling\n",
    "X_test_encoded = encoder.transform(X_test_cat)"
   ]
  },
  {
   "cell_type": "markdown",
   "metadata": {},
   "source": [
    "Setelah dilakukan scaling dan encoding, maka data numerik dan kategorik akan digabungkan kembali dan dijadikan data frame"
   ]
  },
  {
   "cell_type": "code",
   "execution_count": 45,
   "metadata": {},
   "outputs": [],
   "source": [
    "# untuk X-train final\n",
    "X_train_final = np.concatenate([X_train_balance_num, X_train_balance_encoded], axis=1)\n",
    "# untuk X-val final\n",
    "X_val_final = np.concatenate([X_val_scaled, X_val_encoded], axis=1)\n",
    "# untuk X-test final\n",
    "X_test_final = np.concatenate([X_test_scaled, X_test_encoded], axis=1)"
   ]
  },
  {
   "cell_type": "code",
   "execution_count": 46,
   "metadata": {},
   "outputs": [
    {
     "data": {
      "text/html": [
       "<div>\n",
       "<style scoped>\n",
       "    .dataframe tbody tr th:only-of-type {\n",
       "        vertical-align: middle;\n",
       "    }\n",
       "\n",
       "    .dataframe tbody tr th {\n",
       "        vertical-align: top;\n",
       "    }\n",
       "\n",
       "    .dataframe thead tr th {\n",
       "        text-align: left;\n",
       "    }\n",
       "</style>\n",
       "<table border=\"1\" class=\"dataframe\">\n",
       "  <thead>\n",
       "    <tr>\n",
       "      <th></th>\n",
       "      <th>SeniorCitizen</th>\n",
       "      <th>tenure</th>\n",
       "      <th>MonthlyCharges</th>\n",
       "      <th>TotalCharges</th>\n",
       "      <th>gender</th>\n",
       "      <th>Partner</th>\n",
       "      <th>Dependents</th>\n",
       "      <th>PhoneService</th>\n",
       "      <th>MultipleLines</th>\n",
       "      <th>InternetService</th>\n",
       "      <th>OnlineSecurity</th>\n",
       "      <th>OnlineBackup</th>\n",
       "      <th>DeviceProtection</th>\n",
       "      <th>TechSupport</th>\n",
       "      <th>StreamingTV</th>\n",
       "      <th>StreamingMovies</th>\n",
       "      <th>Contract</th>\n",
       "      <th>PaperlessBilling</th>\n",
       "      <th>PaymentMethod</th>\n",
       "    </tr>\n",
       "  </thead>\n",
       "  <tbody>\n",
       "    <tr>\n",
       "      <th>0</th>\n",
       "      <td>-0.430618</td>\n",
       "      <td>0.773369</td>\n",
       "      <td>-0.555249</td>\n",
       "      <td>0.045434</td>\n",
       "      <td>1.0</td>\n",
       "      <td>0.0</td>\n",
       "      <td>1.0</td>\n",
       "      <td>1.0</td>\n",
       "      <td>0.0</td>\n",
       "      <td>0.0</td>\n",
       "      <td>0.0</td>\n",
       "      <td>0.0</td>\n",
       "      <td>0.0</td>\n",
       "      <td>2.0</td>\n",
       "      <td>0.0</td>\n",
       "      <td>0.0</td>\n",
       "      <td>1.0</td>\n",
       "      <td>0.0</td>\n",
       "      <td>1.0</td>\n",
       "    </tr>\n",
       "    <tr>\n",
       "      <th>1</th>\n",
       "      <td>-0.430618</td>\n",
       "      <td>-0.986938</td>\n",
       "      <td>1.172583</td>\n",
       "      <td>-0.63814</td>\n",
       "      <td>0.0</td>\n",
       "      <td>0.0</td>\n",
       "      <td>0.0</td>\n",
       "      <td>1.0</td>\n",
       "      <td>2.0</td>\n",
       "      <td>1.0</td>\n",
       "      <td>0.0</td>\n",
       "      <td>0.0</td>\n",
       "      <td>2.0</td>\n",
       "      <td>0.0</td>\n",
       "      <td>2.0</td>\n",
       "      <td>2.0</td>\n",
       "      <td>0.0</td>\n",
       "      <td>1.0</td>\n",
       "      <td>2.0</td>\n",
       "    </tr>\n",
       "    <tr>\n",
       "      <th>2</th>\n",
       "      <td>-0.430618</td>\n",
       "      <td>-1.232563</td>\n",
       "      <td>0.512138</td>\n",
       "      <td>-0.935398</td>\n",
       "      <td>1.0</td>\n",
       "      <td>0.0</td>\n",
       "      <td>0.0</td>\n",
       "      <td>1.0</td>\n",
       "      <td>0.0</td>\n",
       "      <td>1.0</td>\n",
       "      <td>0.0</td>\n",
       "      <td>0.0</td>\n",
       "      <td>2.0</td>\n",
       "      <td>2.0</td>\n",
       "      <td>0.0</td>\n",
       "      <td>0.0</td>\n",
       "      <td>0.0</td>\n",
       "      <td>1.0</td>\n",
       "      <td>2.0</td>\n",
       "    </tr>\n",
       "    <tr>\n",
       "      <th>3</th>\n",
       "      <td>2.322242</td>\n",
       "      <td>0.855244</td>\n",
       "      <td>-1.314094</td>\n",
       "      <td>-0.435638</td>\n",
       "      <td>0.0</td>\n",
       "      <td>1.0</td>\n",
       "      <td>0.0</td>\n",
       "      <td>1.0</td>\n",
       "      <td>2.0</td>\n",
       "      <td>2.0</td>\n",
       "      <td>1.0</td>\n",
       "      <td>1.0</td>\n",
       "      <td>1.0</td>\n",
       "      <td>1.0</td>\n",
       "      <td>1.0</td>\n",
       "      <td>1.0</td>\n",
       "      <td>2.0</td>\n",
       "      <td>0.0</td>\n",
       "      <td>1.0</td>\n",
       "    </tr>\n",
       "    <tr>\n",
       "      <th>4</th>\n",
       "      <td>-0.430618</td>\n",
       "      <td>-1.232563</td>\n",
       "      <td>0.176912</td>\n",
       "      <td>-0.943296</td>\n",
       "      <td>1.0</td>\n",
       "      <td>0.0</td>\n",
       "      <td>0.0</td>\n",
       "      <td>1.0</td>\n",
       "      <td>0.0</td>\n",
       "      <td>1.0</td>\n",
       "      <td>0.0</td>\n",
       "      <td>0.0</td>\n",
       "      <td>0.0</td>\n",
       "      <td>0.0</td>\n",
       "      <td>0.0</td>\n",
       "      <td>0.0</td>\n",
       "      <td>0.0</td>\n",
       "      <td>1.0</td>\n",
       "      <td>1.0</td>\n",
       "    </tr>\n",
       "    <tr>\n",
       "      <th>...</th>\n",
       "      <td>...</td>\n",
       "      <td>...</td>\n",
       "      <td>...</td>\n",
       "      <td>...</td>\n",
       "      <td>...</td>\n",
       "      <td>...</td>\n",
       "      <td>...</td>\n",
       "      <td>...</td>\n",
       "      <td>...</td>\n",
       "      <td>...</td>\n",
       "      <td>...</td>\n",
       "      <td>...</td>\n",
       "      <td>...</td>\n",
       "      <td>...</td>\n",
       "      <td>...</td>\n",
       "      <td>...</td>\n",
       "      <td>...</td>\n",
       "      <td>...</td>\n",
       "      <td>...</td>\n",
       "    </tr>\n",
       "    <tr>\n",
       "      <th>6515</th>\n",
       "      <td>-0.430618</td>\n",
       "      <td>-1.253352</td>\n",
       "      <td>0.238768</td>\n",
       "      <td>-0.954969</td>\n",
       "      <td>0.0</td>\n",
       "      <td>0.0</td>\n",
       "      <td>0.0</td>\n",
       "      <td>1.0</td>\n",
       "      <td>0.0</td>\n",
       "      <td>1.0</td>\n",
       "      <td>0.0</td>\n",
       "      <td>0.0</td>\n",
       "      <td>0.0</td>\n",
       "      <td>0.0</td>\n",
       "      <td>0.0</td>\n",
       "      <td>0.0</td>\n",
       "      <td>0.0</td>\n",
       "      <td>0.0</td>\n",
       "      <td>2.0</td>\n",
       "    </tr>\n",
       "    <tr>\n",
       "      <th>6516</th>\n",
       "      <td>-0.430618</td>\n",
       "      <td>-0.393241</td>\n",
       "      <td>0.683061</td>\n",
       "      <td>-0.160654</td>\n",
       "      <td>1.0</td>\n",
       "      <td>0.0</td>\n",
       "      <td>0.0</td>\n",
       "      <td>1.0</td>\n",
       "      <td>2.0</td>\n",
       "      <td>1.0</td>\n",
       "      <td>0.0</td>\n",
       "      <td>0.0</td>\n",
       "      <td>0.0</td>\n",
       "      <td>0.0</td>\n",
       "      <td>0.0</td>\n",
       "      <td>2.0</td>\n",
       "      <td>0.0</td>\n",
       "      <td>1.0</td>\n",
       "      <td>2.0</td>\n",
       "    </tr>\n",
       "    <tr>\n",
       "      <th>6517</th>\n",
       "      <td>-0.430618</td>\n",
       "      <td>-1.265502</td>\n",
       "      <td>-1.346104</td>\n",
       "      <td>-0.99012</td>\n",
       "      <td>1.0</td>\n",
       "      <td>1.0</td>\n",
       "      <td>1.0</td>\n",
       "      <td>1.0</td>\n",
       "      <td>0.0</td>\n",
       "      <td>2.0</td>\n",
       "      <td>1.0</td>\n",
       "      <td>1.0</td>\n",
       "      <td>1.0</td>\n",
       "      <td>1.0</td>\n",
       "      <td>1.0</td>\n",
       "      <td>1.0</td>\n",
       "      <td>0.0</td>\n",
       "      <td>1.0</td>\n",
       "      <td>3.0</td>\n",
       "    </tr>\n",
       "    <tr>\n",
       "      <th>6518</th>\n",
       "      <td>-0.430618</td>\n",
       "      <td>-0.793094</td>\n",
       "      <td>1.074635</td>\n",
       "      <td>-0.447174</td>\n",
       "      <td>1.0</td>\n",
       "      <td>0.0</td>\n",
       "      <td>0.0</td>\n",
       "      <td>1.0</td>\n",
       "      <td>2.0</td>\n",
       "      <td>1.0</td>\n",
       "      <td>0.0</td>\n",
       "      <td>0.0</td>\n",
       "      <td>0.0</td>\n",
       "      <td>0.0</td>\n",
       "      <td>2.0</td>\n",
       "      <td>2.0</td>\n",
       "      <td>0.0</td>\n",
       "      <td>0.0</td>\n",
       "      <td>2.0</td>\n",
       "    </tr>\n",
       "    <tr>\n",
       "      <th>6519</th>\n",
       "      <td>-0.430618</td>\n",
       "      <td>-0.966474</td>\n",
       "      <td>-1.485758</td>\n",
       "      <td>-0.930459</td>\n",
       "      <td>0.0</td>\n",
       "      <td>1.0</td>\n",
       "      <td>1.0</td>\n",
       "      <td>1.0</td>\n",
       "      <td>0.0</td>\n",
       "      <td>2.0</td>\n",
       "      <td>1.0</td>\n",
       "      <td>1.0</td>\n",
       "      <td>1.0</td>\n",
       "      <td>1.0</td>\n",
       "      <td>1.0</td>\n",
       "      <td>1.0</td>\n",
       "      <td>0.0</td>\n",
       "      <td>1.0</td>\n",
       "      <td>2.0</td>\n",
       "    </tr>\n",
       "  </tbody>\n",
       "</table>\n",
       "<p>6520 rows × 19 columns</p>\n",
       "</div>"
      ],
      "text/plain": [
       "     SeniorCitizen    tenure MonthlyCharges TotalCharges gender Partner  \\\n",
       "0        -0.430618  0.773369      -0.555249     0.045434    1.0     0.0   \n",
       "1        -0.430618 -0.986938       1.172583     -0.63814    0.0     0.0   \n",
       "2        -0.430618 -1.232563       0.512138    -0.935398    1.0     0.0   \n",
       "3         2.322242  0.855244      -1.314094    -0.435638    0.0     1.0   \n",
       "4        -0.430618 -1.232563       0.176912    -0.943296    1.0     0.0   \n",
       "...            ...       ...            ...          ...    ...     ...   \n",
       "6515     -0.430618 -1.253352       0.238768    -0.954969    0.0     0.0   \n",
       "6516     -0.430618 -0.393241       0.683061    -0.160654    1.0     0.0   \n",
       "6517     -0.430618 -1.265502      -1.346104     -0.99012    1.0     1.0   \n",
       "6518     -0.430618 -0.793094       1.074635    -0.447174    1.0     0.0   \n",
       "6519     -0.430618 -0.966474      -1.485758    -0.930459    0.0     1.0   \n",
       "\n",
       "     Dependents PhoneService MultipleLines InternetService OnlineSecurity  \\\n",
       "0           1.0          1.0           0.0             0.0            0.0   \n",
       "1           0.0          1.0           2.0             1.0            0.0   \n",
       "2           0.0          1.0           0.0             1.0            0.0   \n",
       "3           0.0          1.0           2.0             2.0            1.0   \n",
       "4           0.0          1.0           0.0             1.0            0.0   \n",
       "...         ...          ...           ...             ...            ...   \n",
       "6515        0.0          1.0           0.0             1.0            0.0   \n",
       "6516        0.0          1.0           2.0             1.0            0.0   \n",
       "6517        1.0          1.0           0.0             2.0            1.0   \n",
       "6518        0.0          1.0           2.0             1.0            0.0   \n",
       "6519        1.0          1.0           0.0             2.0            1.0   \n",
       "\n",
       "     OnlineBackup DeviceProtection TechSupport StreamingTV StreamingMovies  \\\n",
       "0             0.0              0.0         2.0         0.0             0.0   \n",
       "1             0.0              2.0         0.0         2.0             2.0   \n",
       "2             0.0              2.0         2.0         0.0             0.0   \n",
       "3             1.0              1.0         1.0         1.0             1.0   \n",
       "4             0.0              0.0         0.0         0.0             0.0   \n",
       "...           ...              ...         ...         ...             ...   \n",
       "6515          0.0              0.0         0.0         0.0             0.0   \n",
       "6516          0.0              0.0         0.0         0.0             2.0   \n",
       "6517          1.0              1.0         1.0         1.0             1.0   \n",
       "6518          0.0              0.0         0.0         2.0             2.0   \n",
       "6519          1.0              1.0         1.0         1.0             1.0   \n",
       "\n",
       "     Contract PaperlessBilling PaymentMethod  \n",
       "0         1.0              0.0           1.0  \n",
       "1         0.0              1.0           2.0  \n",
       "2         0.0              1.0           2.0  \n",
       "3         2.0              0.0           1.0  \n",
       "4         0.0              1.0           1.0  \n",
       "...       ...              ...           ...  \n",
       "6515      0.0              0.0           2.0  \n",
       "6516      0.0              1.0           2.0  \n",
       "6517      0.0              1.0           3.0  \n",
       "6518      0.0              0.0           2.0  \n",
       "6519      0.0              1.0           2.0  \n",
       "\n",
       "[6520 rows x 19 columns]"
      ]
     },
     "execution_count": 46,
     "metadata": {},
     "output_type": "execute_result"
    }
   ],
   "source": [
    "# X-train, X-val dan X-test final dalam data frame\n",
    "X_train_final_df = pd.DataFrame(X_train_final, columns=[num_col + cat_col])\n",
    "X_val_final_df = pd.DataFrame(X_val_final, columns=[num_col + cat_col])\n",
    "X_test_final_df = pd.DataFrame(X_test_final, columns=[num_col + cat_col])\n",
    "\n",
    "X_train_final_df"
   ]
  },
  {
   "cell_type": "markdown",
   "metadata": {},
   "source": [
    "- Referensi untuk handling imbalace data dari materi Advance feature engineering P1W4D1PM : https://colab.research.google.com/drive/1HvaSz-j0_UnIlXN4s6jgQD23iAQofron?usp=sharing#scrollTo=xGmTxutMpw0y"
   ]
  },
  {
   "cell_type": "markdown",
   "metadata": {},
   "source": [
    "# **6. Pembuatan Model**"
   ]
  },
  {
   "cell_type": "markdown",
   "metadata": {},
   "source": [
    "## Input Pipeline"
   ]
  },
  {
   "cell_type": "markdown",
   "metadata": {},
   "source": [
    "Sebelumnya, datanya dalam bentuk numpy array dan saat saya ingin membuat pipeline (diubah ke tensor) terjadi error. Oleh karena itu mengubah tipe data sehingga data X-train, X-val dan X-test dapat di ubah menjadi tensor. ref: https://stackoverflow.com/questions/58636087/tensorflow-valueerror-failed-to-convert-a-numpy-array-to-a-tensor-unsupporte"
   ]
  },
  {
   "cell_type": "code",
   "execution_count": 47,
   "metadata": {},
   "outputs": [],
   "source": [
    "X_train_final = np.asarray(X_train_final).astype(np.float32)\n",
    "X_val_final = np.asarray(X_val_final).astype(np.float32)\n",
    "X_test_final = np.asarray(X_test_final).astype(np.float32)"
   ]
  },
  {
   "cell_type": "markdown",
   "metadata": {},
   "source": [
    "Input pipeline digunakan untuk membagi data berdasarkan banyak batch yang telah ditentukan"
   ]
  },
  {
   "cell_type": "code",
   "execution_count": 48,
   "metadata": {},
   "outputs": [],
   "source": [
    "# untuk train\n",
    "train_dataset = tf.data.Dataset.from_tensor_slices((X_train_final, y_train_balanced)).batch(128)\n",
    "# untuk validation data\n",
    "val_dataset = tf.data.Dataset.from_tensor_slices((X_val_final, y_val)).batch(128)\n",
    "# untuk test\n",
    "test_dataset = tf.data.Dataset.from_tensor_slices((X_test_final, y_test)).batch(128)"
   ]
  },
  {
   "cell_type": "markdown",
   "metadata": {},
   "source": [
    "## Model Definition, Training dan Evaluation"
   ]
  },
  {
   "cell_type": "markdown",
   "metadata": {},
   "source": [
    "### **Model Sequential**"
   ]
  },
  {
   "cell_type": "markdown",
   "metadata": {},
   "source": [
    "Membuat arsitektir model menggunakan Sequential API"
   ]
  },
  {
   "cell_type": "code",
   "execution_count": 49,
   "metadata": {},
   "outputs": [
    {
     "data": {
      "text/plain": [
       "(6520, 19)"
      ]
     },
     "execution_count": 49,
     "metadata": {},
     "output_type": "execute_result"
    }
   ],
   "source": [
    "#cek shape dari X-train\n",
    "X_train_final.shape"
   ]
  },
  {
   "cell_type": "code",
   "execution_count": 50,
   "metadata": {},
   "outputs": [],
   "source": [
    "# definisikan model Sequential\n",
    "model_sequential = tf.keras.models.Sequential()\n",
    "# layer input\n",
    "model_sequential.add(tf.keras.layers.Dense(16, input_shape=(19,)))\n",
    "# hidden layer 1\n",
    "model_sequential.add(tf.keras.layers.Dense(8))\n",
    "# hidden layer 2\n",
    "model_sequential.add(tf.keras.layers.Dense(4))\n",
    "# output layer\n",
    "model_sequential.add(tf.keras.layers.Dense(1, activation='sigmoid'))"
   ]
  },
  {
   "cell_type": "markdown",
   "metadata": {},
   "source": [
    "Lakukan compile model, untuk menerjemahkan bahasa kode menjadi bahasa mesin (ref: kak Afif )"
   ]
  },
  {
   "cell_type": "code",
   "execution_count": 51,
   "metadata": {},
   "outputs": [],
   "source": [
    "# compile\n",
    "model_sequential.compile(loss='binary_crossentropy',\n",
    "              optimizer=\"adam\",\n",
    "              metrics=['accuracy'])"
   ]
  },
  {
   "cell_type": "code",
   "execution_count": 52,
   "metadata": {},
   "outputs": [
    {
     "name": "stdout",
     "output_type": "stream",
     "text": [
      "Model: \"sequential\"\n",
      "_________________________________________________________________\n",
      " Layer (type)                Output Shape              Param #   \n",
      "=================================================================\n",
      " dense (Dense)               (None, 16)                320       \n",
      "                                                                 \n",
      " dense_1 (Dense)             (None, 8)                 136       \n",
      "                                                                 \n",
      " dense_2 (Dense)             (None, 4)                 36        \n",
      "                                                                 \n",
      " dense_3 (Dense)             (None, 1)                 5         \n",
      "                                                                 \n",
      "=================================================================\n",
      "Total params: 497\n",
      "Trainable params: 497\n",
      "Non-trainable params: 0\n",
      "_________________________________________________________________\n"
     ]
    }
   ],
   "source": [
    "# summary dari modeel\n",
    "model_sequential.summary()"
   ]
  },
  {
   "cell_type": "markdown",
   "metadata": {},
   "source": [
    "Training model sequential"
   ]
  },
  {
   "cell_type": "code",
   "execution_count": 53,
   "metadata": {},
   "outputs": [
    {
     "name": "stdout",
     "output_type": "stream",
     "text": [
      "Epoch 1/50\n",
      "51/51 [==============================] - 19s 176ms/step - loss: 0.6769 - accuracy: 0.6929 - val_loss: 0.7114 - val_accuracy: 0.6463\n",
      "Epoch 2/50\n",
      "51/51 [==============================] - 1s 16ms/step - loss: 0.6024 - accuracy: 0.7190 - val_loss: 0.6203 - val_accuracy: 0.6859\n",
      "Epoch 3/50\n",
      "51/51 [==============================] - 1s 13ms/step - loss: 0.5515 - accuracy: 0.7433 - val_loss: 0.5967 - val_accuracy: 0.6886\n",
      "Epoch 4/50\n",
      "51/51 [==============================] - 1s 14ms/step - loss: 0.5338 - accuracy: 0.7511 - val_loss: 0.5789 - val_accuracy: 0.6949\n",
      "Epoch 5/50\n",
      "51/51 [==============================] - 1s 10ms/step - loss: 0.5218 - accuracy: 0.7538 - val_loss: 0.5669 - val_accuracy: 0.7003\n",
      "Epoch 6/50\n",
      "51/51 [==============================] - 1s 15ms/step - loss: 0.5134 - accuracy: 0.7589 - val_loss: 0.5581 - val_accuracy: 0.7021\n",
      "Epoch 7/50\n",
      "51/51 [==============================] - 1s 12ms/step - loss: 0.5072 - accuracy: 0.7630 - val_loss: 0.5516 - val_accuracy: 0.7129\n",
      "Epoch 8/50\n",
      "51/51 [==============================] - 1s 12ms/step - loss: 0.5024 - accuracy: 0.7650 - val_loss: 0.5465 - val_accuracy: 0.7156\n",
      "Epoch 9/50\n",
      "51/51 [==============================] - 1s 11ms/step - loss: 0.4986 - accuracy: 0.7661 - val_loss: 0.5425 - val_accuracy: 0.7183\n",
      "Epoch 10/50\n",
      "51/51 [==============================] - 1s 12ms/step - loss: 0.4954 - accuracy: 0.7666 - val_loss: 0.5392 - val_accuracy: 0.7237\n",
      "Epoch 11/50\n",
      "51/51 [==============================] - 1s 14ms/step - loss: 0.4928 - accuracy: 0.7676 - val_loss: 0.5365 - val_accuracy: 0.7273\n",
      "Epoch 12/50\n",
      "51/51 [==============================] - 1s 11ms/step - loss: 0.4905 - accuracy: 0.7687 - val_loss: 0.5342 - val_accuracy: 0.7273\n",
      "Epoch 13/50\n",
      "51/51 [==============================] - 1s 14ms/step - loss: 0.4885 - accuracy: 0.7690 - val_loss: 0.5322 - val_accuracy: 0.7300\n",
      "Epoch 14/50\n",
      "51/51 [==============================] - 0s 9ms/step - loss: 0.4867 - accuracy: 0.7686 - val_loss: 0.5306 - val_accuracy: 0.7300\n",
      "Epoch 15/50\n",
      "51/51 [==============================] - 0s 9ms/step - loss: 0.4852 - accuracy: 0.7690 - val_loss: 0.5291 - val_accuracy: 0.7345\n",
      "Epoch 16/50\n",
      "51/51 [==============================] - 0s 9ms/step - loss: 0.4838 - accuracy: 0.7695 - val_loss: 0.5279 - val_accuracy: 0.7327\n",
      "Epoch 17/50\n",
      "51/51 [==============================] - 1s 10ms/step - loss: 0.4825 - accuracy: 0.7707 - val_loss: 0.5267 - val_accuracy: 0.7354\n",
      "Epoch 18/50\n",
      "51/51 [==============================] - 0s 9ms/step - loss: 0.4814 - accuracy: 0.7715 - val_loss: 0.5257 - val_accuracy: 0.7363\n",
      "Epoch 19/50\n",
      "51/51 [==============================] - 0s 9ms/step - loss: 0.4804 - accuracy: 0.7712 - val_loss: 0.5249 - val_accuracy: 0.7363\n",
      "Epoch 20/50\n",
      "51/51 [==============================] - 0s 7ms/step - loss: 0.4794 - accuracy: 0.7721 - val_loss: 0.5241 - val_accuracy: 0.7372\n",
      "Epoch 21/50\n",
      "51/51 [==============================] - 1s 11ms/step - loss: 0.4786 - accuracy: 0.7719 - val_loss: 0.5233 - val_accuracy: 0.7372\n",
      "Epoch 22/50\n",
      "51/51 [==============================] - 1s 14ms/step - loss: 0.4778 - accuracy: 0.7710 - val_loss: 0.5227 - val_accuracy: 0.7372\n",
      "Epoch 23/50\n",
      "51/51 [==============================] - 1s 15ms/step - loss: 0.4770 - accuracy: 0.7713 - val_loss: 0.5221 - val_accuracy: 0.7381\n",
      "Epoch 24/50\n",
      "51/51 [==============================] - 1s 14ms/step - loss: 0.4764 - accuracy: 0.7710 - val_loss: 0.5216 - val_accuracy: 0.7381\n",
      "Epoch 25/50\n",
      "51/51 [==============================] - 1s 11ms/step - loss: 0.4757 - accuracy: 0.7715 - val_loss: 0.5211 - val_accuracy: 0.7381\n",
      "Epoch 26/50\n",
      "51/51 [==============================] - 1s 12ms/step - loss: 0.4751 - accuracy: 0.7719 - val_loss: 0.5206 - val_accuracy: 0.7372\n",
      "Epoch 27/50\n",
      "51/51 [==============================] - 1s 12ms/step - loss: 0.4746 - accuracy: 0.7718 - val_loss: 0.5202 - val_accuracy: 0.7381\n",
      "Epoch 28/50\n",
      "51/51 [==============================] - 1s 11ms/step - loss: 0.4741 - accuracy: 0.7724 - val_loss: 0.5198 - val_accuracy: 0.7381\n",
      "Epoch 29/50\n",
      "51/51 [==============================] - 1s 20ms/step - loss: 0.4736 - accuracy: 0.7729 - val_loss: 0.5194 - val_accuracy: 0.7381\n",
      "Epoch 30/50\n",
      "51/51 [==============================] - 1s 12ms/step - loss: 0.4731 - accuracy: 0.7736 - val_loss: 0.5191 - val_accuracy: 0.7381\n",
      "Epoch 31/50\n",
      "51/51 [==============================] - 1s 14ms/step - loss: 0.4727 - accuracy: 0.7739 - val_loss: 0.5188 - val_accuracy: 0.7372\n",
      "Epoch 32/50\n",
      "51/51 [==============================] - 1s 16ms/step - loss: 0.4723 - accuracy: 0.7741 - val_loss: 0.5185 - val_accuracy: 0.7372\n",
      "Epoch 33/50\n",
      "51/51 [==============================] - 0s 9ms/step - loss: 0.4719 - accuracy: 0.7741 - val_loss: 0.5182 - val_accuracy: 0.7381\n",
      "Epoch 34/50\n",
      "51/51 [==============================] - 0s 9ms/step - loss: 0.4715 - accuracy: 0.7741 - val_loss: 0.5180 - val_accuracy: 0.7381\n",
      "Epoch 35/50\n",
      "51/51 [==============================] - 1s 11ms/step - loss: 0.4712 - accuracy: 0.7741 - val_loss: 0.5177 - val_accuracy: 0.7381\n",
      "Epoch 36/50\n",
      "51/51 [==============================] - 1s 13ms/step - loss: 0.4708 - accuracy: 0.7741 - val_loss: 0.5175 - val_accuracy: 0.7381\n",
      "Epoch 37/50\n",
      "51/51 [==============================] - 1s 11ms/step - loss: 0.4705 - accuracy: 0.7742 - val_loss: 0.5173 - val_accuracy: 0.7381\n",
      "Epoch 38/50\n",
      "51/51 [==============================] - 1s 11ms/step - loss: 0.4702 - accuracy: 0.7742 - val_loss: 0.5171 - val_accuracy: 0.7381\n",
      "Epoch 39/50\n",
      "51/51 [==============================] - 1s 14ms/step - loss: 0.4699 - accuracy: 0.7755 - val_loss: 0.5169 - val_accuracy: 0.7390\n",
      "Epoch 40/50\n",
      "51/51 [==============================] - 0s 8ms/step - loss: 0.4696 - accuracy: 0.7756 - val_loss: 0.5167 - val_accuracy: 0.7390\n",
      "Epoch 41/50\n",
      "51/51 [==============================] - 0s 7ms/step - loss: 0.4694 - accuracy: 0.7758 - val_loss: 0.5165 - val_accuracy: 0.7390\n",
      "Epoch 42/50\n",
      "51/51 [==============================] - 1s 10ms/step - loss: 0.4691 - accuracy: 0.7764 - val_loss: 0.5164 - val_accuracy: 0.7399\n",
      "Epoch 43/50\n",
      "51/51 [==============================] - 0s 9ms/step - loss: 0.4689 - accuracy: 0.7765 - val_loss: 0.5162 - val_accuracy: 0.7399\n",
      "Epoch 44/50\n",
      "51/51 [==============================] - 0s 8ms/step - loss: 0.4686 - accuracy: 0.7764 - val_loss: 0.5161 - val_accuracy: 0.7399\n",
      "Epoch 45/50\n",
      "51/51 [==============================] - 0s 8ms/step - loss: 0.4684 - accuracy: 0.7764 - val_loss: 0.5159 - val_accuracy: 0.7390\n",
      "Epoch 46/50\n",
      "51/51 [==============================] - 0s 9ms/step - loss: 0.4682 - accuracy: 0.7762 - val_loss: 0.5158 - val_accuracy: 0.7390\n",
      "Epoch 47/50\n",
      "51/51 [==============================] - 0s 9ms/step - loss: 0.4680 - accuracy: 0.7764 - val_loss: 0.5157 - val_accuracy: 0.7399\n",
      "Epoch 48/50\n",
      "51/51 [==============================] - 0s 8ms/step - loss: 0.4677 - accuracy: 0.7762 - val_loss: 0.5156 - val_accuracy: 0.7399\n",
      "Epoch 49/50\n",
      "51/51 [==============================] - 1s 12ms/step - loss: 0.4675 - accuracy: 0.7767 - val_loss: 0.5155 - val_accuracy: 0.7399\n",
      "Epoch 50/50\n",
      "51/51 [==============================] - 1s 13ms/step - loss: 0.4674 - accuracy: 0.7767 - val_loss: 0.5154 - val_accuracy: 0.7399\n"
     ]
    }
   ],
   "source": [
    "# training model dengan 50 epoch\n",
    "history_sequential = model_sequential.fit(train_dataset, \n",
    "                                        epochs=50, \n",
    "                                        validation_data=(val_dataset),\n",
    "                                        verbose=1)"
   ]
  },
  {
   "cell_type": "markdown",
   "metadata": {},
   "source": [
    "Untuk melihat grafik dari loss dan validasi loss, ubah history data yang telah dilakukan train menjadi dataframe"
   ]
  },
  {
   "cell_type": "code",
   "execution_count": 54,
   "metadata": {},
   "outputs": [
    {
     "data": {
      "image/png": "[encoded data removed]",
      "text/plain": [
       "<Figure size 432x288 with 1 Axes>"
      ]
     },
     "metadata": {
      "needs_background": "light"
     },
     "output_type": "display_data"
    }
   ],
   "source": [
    "# ubah ke dataframe\n",
    "metrics_sequensial = pd.DataFrame(history_sequential.history)\n",
    "\n",
    "# plot loss dan validation loss\n",
    "metrics_sequensial[['loss', 'val_loss']].plot()\n",
    "plt.title('Perbandingan loss dan validation loss')\n",
    "plt.show()"
   ]
  },
  {
   "cell_type": "markdown",
   "metadata": {},
   "source": [
    "- Pada arsitektur model sequential awal belum digunakan activation function pada input dan hidden layer, oleh krena itu akan dilakukan model improvment agar model lebih stabil dan terhindar dari gradient desent (atau meminimalisir adanya perubahan yang besar pada loss)\n",
    "- Catatan: karena setiap kali dilakukan re-run saat proses training, maka hasilnya akan berubah-ubah. Pada saat penulis melakukan run hasil yang diperoleh telah menunjukkan bahwa model telah good fit dengan perbedaan antara loss dan val loss yg hanya memiliki sedikit perbedaan. Tetapi bisa saja jika dilakukan re-run maka hasilnya akan berbeda. Berikut penulis lampirkan grafik dari hasil run awal\n",
    "- Nilai dari loss semakin lama semakin turun makin baik\n",
    "\n",
    "![output](output.png)\n"
   ]
  },
  {
   "cell_type": "markdown",
   "metadata": {},
   "source": [
    "Visualisasi dari accuracy dan val accuracy"
   ]
  },
  {
   "cell_type": "code",
   "execution_count": 55,
   "metadata": {},
   "outputs": [
    {
     "data": {
      "image/png": "[encoded data removed]",
      "text/plain": [
       "<Figure size 432x288 with 1 Axes>"
      ]
     },
     "metadata": {
      "needs_background": "light"
     },
     "output_type": "display_data"
    }
   ],
   "source": [
    "# plot accuracy dan val_accuracy\n",
    "metrics_sequensial[['accuracy', 'val_accuracy']].plot()\n",
    "plt.title('Perbandingan accuracy dan validation accuracy')\n",
    "plt.show()"
   ]
  },
  {
   "cell_type": "markdown",
   "metadata": {},
   "source": [
    "- Sama halnya dengan loss yang akan berubah jika dilakukan re-run, accurasi juga mengalami hal yang sama\n",
    "- Untuk run awalnya perbedaan antara validasi dan train tidak memiliki perbedaan signifkan, dimana untuk validasinya memiliki akurasi sekitar 0.72 dan train pada 0.76 dan pada epoch 27 mengalami sedikit kenaikan\n",
    "- Berbanding terbalik dengan nilai loss, nilai akurasi akan baik jika nilainya semakin naik"
   ]
  },
  {
   "cell_type": "markdown",
   "metadata": {},
   "source": [
    "Model Evaluation"
   ]
  },
  {
   "cell_type": "code",
   "execution_count": 56,
   "metadata": {},
   "outputs": [
    {
     "name": "stdout",
     "output_type": "stream",
     "text": [
      "204/204 [==============================] - 2s 7ms/step\n",
      "              precision    recall  f1-score   support\n",
      "\n",
      "           0       0.83      0.73      0.77      3260\n",
      "           1       0.76      0.85      0.80      3260\n",
      "\n",
      "    accuracy                           0.79      6520\n",
      "   macro avg       0.79      0.79      0.79      6520\n",
      "weighted avg       0.79      0.79      0.79      6520\n",
      "\n"
     ]
    }
   ],
   "source": [
    "# prediksi data train\n",
    "y_pred_sequential = model_sequential.predict(X_train_final)\n",
    "# atur threshold 0.5\n",
    "y_pred_sequential = np.where(y_pred_sequential >= 0.5, 1, 0)\n",
    "# hasil dari classification report\n",
    "print(classification_report(y_train_balanced, y_pred_sequential))"
   ]
  },
  {
   "cell_type": "code",
   "execution_count": 57,
   "metadata": {},
   "outputs": [
    {
     "name": "stdout",
     "output_type": "stream",
     "text": [
      "44/44 [==============================] - 0s 6ms/step\n",
      "              precision    recall  f1-score   support\n",
      "\n",
      "           0       0.90      0.75      0.82      1022\n",
      "           1       0.52      0.78      0.63       367\n",
      "\n",
      "    accuracy                           0.76      1389\n",
      "   macro avg       0.71      0.76      0.72      1389\n",
      "weighted avg       0.80      0.76      0.77      1389\n",
      "\n"
     ]
    }
   ],
   "source": [
    "# prediksi data test\n",
    "y_pred_sq_test = model_sequential.predict(X_test_final)\n",
    "# atur threshodl 0.5\n",
    "y_pred_sq_test = np.where(y_pred_sq_test >= 0.5, 1, 0)\n",
    "# hasil dari classification report\n",
    "print(classification_report(y_test, y_pred_sq_test))"
   ]
  },
  {
   "cell_type": "markdown",
   "metadata": {},
   "source": [
    "- Dari classification report hasil akurasi antara data train 79% dan test 76% dengan perbedaan yang tidak signifikat. Perbedaan hanya mencapai 3% sehingga dapat dikatakan model yang dibuat telah goodfit dengan arsiterktur menggunakan activation function default pada tiap hidden layer.\n",
    "- Nilai recall untuk label 1 dan 0 tidak memiliki perbedaan yang jauh karena telah dilakukan handling imbalace data sebelumnya.\n",
    "- Seperti halnya grafik loss yang bisa berubah jika dilakukan re-run, maka kemungkinan akan terjadinya perubahan nilai dari classification report tetap ada karena hasil ini berasal dari train model sebelumnya."
   ]
  },
  {
   "cell_type": "markdown",
   "metadata": {},
   "source": [
    "### **Model Functional API**"
   ]
  },
  {
   "cell_type": "markdown",
   "metadata": {},
   "source": [
    "Membuat model dengan arsitektur yang sama tetapi dengan menggunakan aturan functional API"
   ]
  },
  {
   "cell_type": "code",
   "execution_count": 58,
   "metadata": {},
   "outputs": [],
   "source": [
    "# definisikan input layer\n",
    "input_func = tf.keras.layers.Input(19,)\n",
    "# hidden layer 1\n",
    "hidden_1 = tf.keras.layers.Dense(16)(input_func)\n",
    "# hidden layer 2\n",
    "hidden_2 = tf.keras.layers.Dense(8)(hidden_1)\n",
    "# output layer\n",
    "output_func = tf.keras.layers.Dense(1, activation='sigmoid')(hidden_2)\n",
    "# definisikan model\n",
    "model_func = tf.keras.Model(inputs=input_func, outputs=output_func)"
   ]
  },
  {
   "cell_type": "markdown",
   "metadata": {},
   "source": [
    "Lakukan compile untuk model functional API"
   ]
  },
  {
   "cell_type": "code",
   "execution_count": 59,
   "metadata": {},
   "outputs": [],
   "source": [
    "# compile\n",
    "model_func.compile(loss='binary_crossentropy',\n",
    "              optimizer=\"adam\",\n",
    "              metrics=['accuracy'])"
   ]
  },
  {
   "cell_type": "markdown",
   "metadata": {},
   "source": [
    "Training model"
   ]
  },
  {
   "cell_type": "code",
   "execution_count": 60,
   "metadata": {},
   "outputs": [
    {
     "name": "stdout",
     "output_type": "stream",
     "text": [
      "Epoch 1/50\n",
      "51/51 [==============================] - 10s 44ms/step - loss: 0.6876 - accuracy: 0.5834 - val_loss: 0.5725 - val_accuracy: 0.7102\n",
      "Epoch 2/50\n",
      "51/51 [==============================] - 1s 11ms/step - loss: 0.5632 - accuracy: 0.7206 - val_loss: 0.5579 - val_accuracy: 0.7084\n",
      "Epoch 3/50\n",
      "51/51 [==============================] - 1s 14ms/step - loss: 0.5317 - accuracy: 0.7437 - val_loss: 0.5424 - val_accuracy: 0.7291\n",
      "Epoch 4/50\n",
      "51/51 [==============================] - 1s 11ms/step - loss: 0.5140 - accuracy: 0.7541 - val_loss: 0.5350 - val_accuracy: 0.7318\n",
      "Epoch 5/50\n",
      "51/51 [==============================] - 1s 10ms/step - loss: 0.5040 - accuracy: 0.7606 - val_loss: 0.5302 - val_accuracy: 0.7264\n",
      "Epoch 6/50\n",
      "51/51 [==============================] - 1s 12ms/step - loss: 0.4973 - accuracy: 0.7643 - val_loss: 0.5271 - val_accuracy: 0.7264\n",
      "Epoch 7/50\n",
      "51/51 [==============================] - 0s 10ms/step - loss: 0.4927 - accuracy: 0.7678 - val_loss: 0.5250 - val_accuracy: 0.7300\n",
      "Epoch 8/50\n",
      "51/51 [==============================] - 0s 9ms/step - loss: 0.4892 - accuracy: 0.7702 - val_loss: 0.5235 - val_accuracy: 0.7318\n",
      "Epoch 9/50\n",
      "51/51 [==============================] - 0s 10ms/step - loss: 0.4865 - accuracy: 0.7701 - val_loss: 0.5223 - val_accuracy: 0.7318\n",
      "Epoch 10/50\n",
      "51/51 [==============================] - 0s 10ms/step - loss: 0.4843 - accuracy: 0.7690 - val_loss: 0.5215 - val_accuracy: 0.7300\n",
      "Epoch 11/50\n",
      "51/51 [==============================] - 1s 17ms/step - loss: 0.4825 - accuracy: 0.7681 - val_loss: 0.5207 - val_accuracy: 0.7318\n",
      "Epoch 12/50\n",
      "51/51 [==============================] - 0s 8ms/step - loss: 0.4809 - accuracy: 0.7698 - val_loss: 0.5201 - val_accuracy: 0.7318\n",
      "Epoch 13/50\n",
      "51/51 [==============================] - 1s 13ms/step - loss: 0.4796 - accuracy: 0.7706 - val_loss: 0.5196 - val_accuracy: 0.7354\n",
      "Epoch 14/50\n",
      "51/51 [==============================] - 1s 12ms/step - loss: 0.4784 - accuracy: 0.7709 - val_loss: 0.5192 - val_accuracy: 0.7354\n",
      "Epoch 15/50\n",
      "51/51 [==============================] - 1s 27ms/step - loss: 0.4773 - accuracy: 0.7725 - val_loss: 0.5188 - val_accuracy: 0.7354\n",
      "Epoch 16/50\n",
      "51/51 [==============================] - 1s 24ms/step - loss: 0.4764 - accuracy: 0.7732 - val_loss: 0.5184 - val_accuracy: 0.7345\n",
      "Epoch 17/50\n",
      "51/51 [==============================] - 1s 12ms/step - loss: 0.4755 - accuracy: 0.7738 - val_loss: 0.5181 - val_accuracy: 0.7363\n",
      "Epoch 18/50\n",
      "51/51 [==============================] - 0s 9ms/step - loss: 0.4747 - accuracy: 0.7739 - val_loss: 0.5178 - val_accuracy: 0.7381\n",
      "Epoch 19/50\n",
      "51/51 [==============================] - 1s 13ms/step - loss: 0.4739 - accuracy: 0.7747 - val_loss: 0.5175 - val_accuracy: 0.7381\n",
      "Epoch 20/50\n",
      "51/51 [==============================] - 2s 31ms/step - loss: 0.4733 - accuracy: 0.7750 - val_loss: 0.5173 - val_accuracy: 0.7399\n",
      "Epoch 21/50\n",
      "51/51 [==============================] - 1s 12ms/step - loss: 0.4726 - accuracy: 0.7747 - val_loss: 0.5170 - val_accuracy: 0.7390\n",
      "Epoch 22/50\n",
      "51/51 [==============================] - 1s 12ms/step - loss: 0.4721 - accuracy: 0.7747 - val_loss: 0.5168 - val_accuracy: 0.7390\n",
      "Epoch 23/50\n",
      "51/51 [==============================] - 1s 13ms/step - loss: 0.4715 - accuracy: 0.7752 - val_loss: 0.5166 - val_accuracy: 0.7399\n",
      "Epoch 24/50\n",
      "51/51 [==============================] - 1s 13ms/step - loss: 0.4710 - accuracy: 0.7752 - val_loss: 0.5164 - val_accuracy: 0.7390\n",
      "Epoch 25/50\n",
      "51/51 [==============================] - 1s 12ms/step - loss: 0.4705 - accuracy: 0.7755 - val_loss: 0.5163 - val_accuracy: 0.7399\n",
      "Epoch 26/50\n",
      "51/51 [==============================] - 0s 9ms/step - loss: 0.4701 - accuracy: 0.7755 - val_loss: 0.5161 - val_accuracy: 0.7399\n",
      "Epoch 27/50\n",
      "51/51 [==============================] - 0s 9ms/step - loss: 0.4696 - accuracy: 0.7755 - val_loss: 0.5159 - val_accuracy: 0.7381\n",
      "Epoch 28/50\n",
      "51/51 [==============================] - 1s 11ms/step - loss: 0.4692 - accuracy: 0.7753 - val_loss: 0.5158 - val_accuracy: 0.7381\n",
      "Epoch 29/50\n",
      "51/51 [==============================] - 1s 17ms/step - loss: 0.4688 - accuracy: 0.7756 - val_loss: 0.5156 - val_accuracy: 0.7381\n",
      "Epoch 30/50\n",
      "51/51 [==============================] - 1s 13ms/step - loss: 0.4685 - accuracy: 0.7756 - val_loss: 0.5155 - val_accuracy: 0.7381\n",
      "Epoch 31/50\n",
      "51/51 [==============================] - 1s 16ms/step - loss: 0.4681 - accuracy: 0.7756 - val_loss: 0.5154 - val_accuracy: 0.7381\n",
      "Epoch 32/50\n",
      "51/51 [==============================] - 0s 8ms/step - loss: 0.4678 - accuracy: 0.7758 - val_loss: 0.5152 - val_accuracy: 0.7390\n",
      "Epoch 33/50\n",
      "51/51 [==============================] - 0s 9ms/step - loss: 0.4675 - accuracy: 0.7764 - val_loss: 0.5151 - val_accuracy: 0.7399\n",
      "Epoch 34/50\n",
      "51/51 [==============================] - 0s 8ms/step - loss: 0.4672 - accuracy: 0.7765 - val_loss: 0.5150 - val_accuracy: 0.7408\n",
      "Epoch 35/50\n",
      "51/51 [==============================] - 1s 11ms/step - loss: 0.4669 - accuracy: 0.7770 - val_loss: 0.5149 - val_accuracy: 0.7417\n",
      "Epoch 36/50\n",
      "51/51 [==============================] - 0s 8ms/step - loss: 0.4667 - accuracy: 0.7768 - val_loss: 0.5148 - val_accuracy: 0.7417\n",
      "Epoch 37/50\n",
      "51/51 [==============================] - 0s 8ms/step - loss: 0.4664 - accuracy: 0.7770 - val_loss: 0.5147 - val_accuracy: 0.7417\n",
      "Epoch 38/50\n",
      "51/51 [==============================] - 0s 10ms/step - loss: 0.4662 - accuracy: 0.7775 - val_loss: 0.5146 - val_accuracy: 0.7426\n",
      "Epoch 39/50\n",
      "51/51 [==============================] - 1s 12ms/step - loss: 0.4659 - accuracy: 0.7776 - val_loss: 0.5145 - val_accuracy: 0.7426\n",
      "Epoch 40/50\n",
      "51/51 [==============================] - 1s 11ms/step - loss: 0.4657 - accuracy: 0.7776 - val_loss: 0.5144 - val_accuracy: 0.7426\n",
      "Epoch 41/50\n",
      "51/51 [==============================] - 1s 11ms/step - loss: 0.4655 - accuracy: 0.7775 - val_loss: 0.5143 - val_accuracy: 0.7417\n",
      "Epoch 42/50\n",
      "51/51 [==============================] - 1s 12ms/step - loss: 0.4653 - accuracy: 0.7775 - val_loss: 0.5142 - val_accuracy: 0.7426\n",
      "Epoch 43/50\n",
      "51/51 [==============================] - 1s 10ms/step - loss: 0.4651 - accuracy: 0.7776 - val_loss: 0.5142 - val_accuracy: 0.7426\n",
      "Epoch 44/50\n",
      "51/51 [==============================] - 1s 11ms/step - loss: 0.4649 - accuracy: 0.7784 - val_loss: 0.5141 - val_accuracy: 0.7426\n",
      "Epoch 45/50\n",
      "51/51 [==============================] - 1s 10ms/step - loss: 0.4647 - accuracy: 0.7790 - val_loss: 0.5140 - val_accuracy: 0.7435\n",
      "Epoch 46/50\n",
      "51/51 [==============================] - 1s 12ms/step - loss: 0.4645 - accuracy: 0.7798 - val_loss: 0.5139 - val_accuracy: 0.7435\n",
      "Epoch 47/50\n",
      "51/51 [==============================] - 1s 11ms/step - loss: 0.4644 - accuracy: 0.7802 - val_loss: 0.5139 - val_accuracy: 0.7444\n",
      "Epoch 48/50\n",
      "51/51 [==============================] - 0s 9ms/step - loss: 0.4642 - accuracy: 0.7804 - val_loss: 0.5138 - val_accuracy: 0.7444\n",
      "Epoch 49/50\n",
      "51/51 [==============================] - 1s 10ms/step - loss: 0.4640 - accuracy: 0.7805 - val_loss: 0.5137 - val_accuracy: 0.7453\n",
      "Epoch 50/50\n",
      "51/51 [==============================] - 1s 10ms/step - loss: 0.4639 - accuracy: 0.7808 - val_loss: 0.5136 - val_accuracy: 0.7453\n"
     ]
    }
   ],
   "source": [
    "# training model dengan 50 epoch\n",
    "history_func = model_func.fit(train_dataset, \n",
    "                                epochs=50, \n",
    "                                validation_data=(val_dataset),\n",
    "                                verbose=1)"
   ]
  },
  {
   "cell_type": "markdown",
   "metadata": {},
   "source": [
    "Lakukan visualisasi dari val loss dan loss"
   ]
  },
  {
   "cell_type": "code",
   "execution_count": 61,
   "metadata": {},
   "outputs": [],
   "source": [
    "# ubah ke dataframe\n",
    "metrics_fuct = pd.DataFrame(history_func.history)"
   ]
  },
  {
   "cell_type": "code",
   "execution_count": 62,
   "metadata": {},
   "outputs": [
    {
     "data": {
      "image/png": "[encoded data removed]",
      "text/plain": [
       "<Figure size 432x288 with 1 Axes>"
      ]
     },
     "metadata": {
      "needs_background": "light"
     },
     "output_type": "display_data"
    }
   ],
   "source": [
    "# plot loss dan validation loss\n",
    "metrics_fuct[['loss', 'val_loss']].plot()\n",
    "plt.title('Perbandingan loss dan validation loss')\n",
    "plt.show()"
   ]
  },
  {
   "cell_type": "markdown",
   "metadata": {},
   "source": [
    "Visualisasi dari accuracy dan val accuracy"
   ]
  },
  {
   "cell_type": "code",
   "execution_count": 63,
   "metadata": {},
   "outputs": [
    {
     "data": {
      "image/png": "[encoded data removed]",
      "text/plain": [
       "<Figure size 432x288 with 1 Axes>"
      ]
     },
     "metadata": {
      "needs_background": "light"
     },
     "output_type": "display_data"
    }
   ],
   "source": [
    "# plot accuracy dan validation accuracy\n",
    "metrics_fuct[['accuracy', 'val_accuracy']].plot()\n",
    "plt.title('Perbandingan accuracy dan validation accuracy')\n",
    "plt.show()"
   ]
  },
  {
   "cell_type": "markdown",
   "metadata": {},
   "source": [
    "Model Evaluation"
   ]
  },
  {
   "cell_type": "code",
   "execution_count": 64,
   "metadata": {},
   "outputs": [
    {
     "name": "stdout",
     "output_type": "stream",
     "text": [
      "204/204 [==============================] - 2s 7ms/step\n",
      "              precision    recall  f1-score   support\n",
      "\n",
      "           0       0.82      0.73      0.78      3260\n",
      "           1       0.76      0.84      0.80      3260\n",
      "\n",
      "    accuracy                           0.79      6520\n",
      "   macro avg       0.79      0.79      0.79      6520\n",
      "weighted avg       0.79      0.79      0.79      6520\n",
      "\n"
     ]
    }
   ],
   "source": [
    "# prediksi data train\n",
    "y_pred_func = model_func.predict(X_train_final)\n",
    "# atur threshold 0.5\n",
    "y_pred_func = np.where(y_pred_func >= 0.5, 1, 0)\n",
    "# hasil dari classification report\n",
    "print(classification_report(y_train_balanced, y_pred_func))"
   ]
  },
  {
   "cell_type": "code",
   "execution_count": 65,
   "metadata": {},
   "outputs": [
    {
     "name": "stdout",
     "output_type": "stream",
     "text": [
      "44/44 [==============================] - 1s 5ms/step\n",
      "              precision    recall  f1-score   support\n",
      "\n",
      "           0       0.90      0.75      0.82      1022\n",
      "           1       0.52      0.78      0.63       367\n",
      "\n",
      "    accuracy                           0.76      1389\n",
      "   macro avg       0.71      0.76      0.72      1389\n",
      "weighted avg       0.80      0.76      0.77      1389\n",
      "\n"
     ]
    }
   ],
   "source": [
    "# prediksi data test\n",
    "y_pred_func_test = model_func.predict(X_test_final)\n",
    "# atur threshodl 0.5\n",
    "y_pred_func_test = np.where(y_pred_sq_test >= 0.5, 1, 0)\n",
    "# hasil dari classification report\n",
    "print(classification_report(y_test, y_pred_func_test))"
   ]
  },
  {
   "cell_type": "markdown",
   "metadata": {},
   "source": [
    "Dari model functional API\n",
    "- arsitektur yang digunakan dalam model ini sama dengan pada model sequential\n",
    "- Dari hasil classification report train dan test memiliki nilai sama antara model functional dan sequential. Hal ini karena node, jumlah layer, activation function dan sebagainya digunakan sama sehingga hasilnya juga sama. Jadi untuk assigment ini perbedaan antara functional dan sequential hanya pada penulisan atau proses pembuatan modelnya\n",
    "- referensi untuk pembuatan model menggunakan materi dari P2W1D2PM: https://colab.research.google.com/drive/1tKknhpCCWOaG3YvmWfhJQXnQ1K8aCIso?usp=sharing dan https://colab.research.google.com/drive/1lKpwI0-NW22KhgummSVdHIVfHt2N0MOK?usp=sharing#scrollTo=bWeJM4i35kAD"
   ]
  },
  {
   "cell_type": "markdown",
   "metadata": {},
   "source": [
    "## Model improvment"
   ]
  },
  {
   "cell_type": "markdown",
   "metadata": {},
   "source": [
    "### **Model Sequential**"
   ]
  },
  {
   "cell_type": "markdown",
   "metadata": {},
   "source": [
    "Setelah membuat model dengan menggunakan parameter default, maka akan dilakukan model improvment untuk mengurasi loss dan meningkatkan akurasi dari model. Cara untuk hyperparamter tunning ini adalah dengan mencoba mengganti weight initialization, activation function, optimizer, menambahkan atau mengurangi hidden layer, epoch dan sebagainya."
   ]
  },
  {
   "cell_type": "markdown",
   "metadata": {},
   "source": [
    "Buat arsitektur dari model sequensial sebelumnya dan tambahkan hyperparameter tunning"
   ]
  },
  {
   "cell_type": "code",
   "execution_count": 66,
   "metadata": {},
   "outputs": [
    {
     "name": "stdout",
     "output_type": "stream",
     "text": [
      "Epoch 1/30\n",
      "51/51 [==============================] - 7s 32ms/step - loss: 1.8263 - accuracy: 0.4232 - val_loss: 1.4283 - val_accuracy: 0.3915\n",
      "Epoch 2/30\n",
      "51/51 [==============================] - 1s 12ms/step - loss: 1.2108 - accuracy: 0.4635 - val_loss: 0.9662 - val_accuracy: 0.4365\n",
      "Epoch 3/30\n",
      "51/51 [==============================] - 1s 10ms/step - loss: 0.9187 - accuracy: 0.5199 - val_loss: 0.7785 - val_accuracy: 0.5131\n",
      "Epoch 4/30\n",
      "51/51 [==============================] - 1s 13ms/step - loss: 0.7997 - accuracy: 0.5716 - val_loss: 0.6781 - val_accuracy: 0.6211\n",
      "Epoch 5/30\n",
      "51/51 [==============================] - 1s 15ms/step - loss: 0.6987 - accuracy: 0.6328 - val_loss: 0.6290 - val_accuracy: 0.6490\n",
      "Epoch 6/30\n",
      "51/51 [==============================] - 1s 12ms/step - loss: 0.6528 - accuracy: 0.6581 - val_loss: 0.5957 - val_accuracy: 0.6742\n",
      "Epoch 7/30\n",
      "51/51 [==============================] - 1s 13ms/step - loss: 0.6293 - accuracy: 0.6784 - val_loss: 0.5730 - val_accuracy: 0.6967\n",
      "Epoch 8/30\n",
      "51/51 [==============================] - 1s 11ms/step - loss: 0.5935 - accuracy: 0.7031 - val_loss: 0.5597 - val_accuracy: 0.7120\n",
      "Epoch 9/30\n",
      "51/51 [==============================] - 1s 10ms/step - loss: 0.5698 - accuracy: 0.7178 - val_loss: 0.5468 - val_accuracy: 0.7174\n",
      "Epoch 10/30\n",
      "51/51 [==============================] - 1s 13ms/step - loss: 0.5582 - accuracy: 0.7279 - val_loss: 0.5431 - val_accuracy: 0.7273\n",
      "Epoch 11/30\n",
      "51/51 [==============================] - 1s 12ms/step - loss: 0.5449 - accuracy: 0.7353 - val_loss: 0.5381 - val_accuracy: 0.7300\n",
      "Epoch 12/30\n",
      "51/51 [==============================] - 1s 10ms/step - loss: 0.5404 - accuracy: 0.7363 - val_loss: 0.5319 - val_accuracy: 0.7300\n",
      "Epoch 13/30\n",
      "51/51 [==============================] - 1s 13ms/step - loss: 0.5296 - accuracy: 0.7475 - val_loss: 0.5291 - val_accuracy: 0.7318\n",
      "Epoch 14/30\n",
      "51/51 [==============================] - 1s 11ms/step - loss: 0.5295 - accuracy: 0.7397 - val_loss: 0.5267 - val_accuracy: 0.7336\n",
      "Epoch 15/30\n",
      "51/51 [==============================] - 1s 11ms/step - loss: 0.5274 - accuracy: 0.7465 - val_loss: 0.5264 - val_accuracy: 0.7345\n",
      "Epoch 16/30\n",
      "51/51 [==============================] - 1s 13ms/step - loss: 0.5231 - accuracy: 0.7495 - val_loss: 0.5254 - val_accuracy: 0.7336\n",
      "Epoch 17/30\n",
      "51/51 [==============================] - 1s 16ms/step - loss: 0.5227 - accuracy: 0.7475 - val_loss: 0.5230 - val_accuracy: 0.7363\n",
      "Epoch 18/30\n",
      "51/51 [==============================] - 1s 11ms/step - loss: 0.5118 - accuracy: 0.7514 - val_loss: 0.5223 - val_accuracy: 0.7363\n",
      "Epoch 19/30\n",
      "51/51 [==============================] - 0s 9ms/step - loss: 0.5146 - accuracy: 0.7535 - val_loss: 0.5205 - val_accuracy: 0.7390\n",
      "Epoch 20/30\n",
      "51/51 [==============================] - 0s 9ms/step - loss: 0.5129 - accuracy: 0.7572 - val_loss: 0.5193 - val_accuracy: 0.7399\n",
      "Epoch 21/30\n",
      "51/51 [==============================] - 0s 9ms/step - loss: 0.5050 - accuracy: 0.7613 - val_loss: 0.5199 - val_accuracy: 0.7417\n",
      "Epoch 22/30\n",
      "51/51 [==============================] - 0s 8ms/step - loss: 0.5039 - accuracy: 0.7635 - val_loss: 0.5163 - val_accuracy: 0.7444\n",
      "Epoch 23/30\n",
      "51/51 [==============================] - 0s 7ms/step - loss: 0.5031 - accuracy: 0.7627 - val_loss: 0.5155 - val_accuracy: 0.7426\n",
      "Epoch 24/30\n",
      "51/51 [==============================] - 0s 9ms/step - loss: 0.5043 - accuracy: 0.7635 - val_loss: 0.5149 - val_accuracy: 0.7408\n",
      "Epoch 25/30\n",
      "51/51 [==============================] - 0s 7ms/step - loss: 0.4952 - accuracy: 0.7640 - val_loss: 0.5151 - val_accuracy: 0.7399\n",
      "Epoch 26/30\n",
      "51/51 [==============================] - 0s 9ms/step - loss: 0.4963 - accuracy: 0.7649 - val_loss: 0.5144 - val_accuracy: 0.7399\n",
      "Epoch 27/30\n",
      "51/51 [==============================] - 0s 9ms/step - loss: 0.4924 - accuracy: 0.7656 - val_loss: 0.5142 - val_accuracy: 0.7408\n",
      "Epoch 28/30\n",
      "51/51 [==============================] - 0s 9ms/step - loss: 0.4953 - accuracy: 0.7627 - val_loss: 0.5139 - val_accuracy: 0.7390\n",
      "Epoch 29/30\n",
      "51/51 [==============================] - 0s 9ms/step - loss: 0.4948 - accuracy: 0.7646 - val_loss: 0.5129 - val_accuracy: 0.7399\n",
      "Epoch 30/30\n",
      "51/51 [==============================] - 1s 12ms/step - loss: 0.4856 - accuracy: 0.7718 - val_loss: 0.5130 - val_accuracy: 0.7399\n"
     ]
    }
   ],
   "source": [
    "# Buat arsitektur model\n",
    "# definisikan model Sequential yang di improve\n",
    "model_imp = tf.keras.models.Sequential()\n",
    "# layer input\n",
    "model_imp.add(tf.keras.layers.Dense(8, input_shape=(19,), kernel_initializer='he_uniform'))\n",
    "model_imp.add(tf.keras.layers.Dropout(rate=0.1))\n",
    "# hidden layer 1\n",
    "model_imp.add(tf.keras.layers.Dense(4, kernel_initializer='he_uniform'))\n",
    "model_imp.add(tf.keras.layers.Dropout(rate=0.2))\n",
    "# output layer\n",
    "model_imp.add(tf.keras.layers.Dense(1, activation='sigmoid'))\n",
    "\n",
    "#compile model\n",
    "model_imp.compile(loss='binary_crossentropy',\n",
    "              optimizer='adam',\n",
    "              metrics=['accuracy'])\n",
    "\n",
    "# training model dengan 50 epoch\n",
    "history_imp = model_imp.fit(train_dataset, \n",
    "                            epochs=30, \n",
    "                            validation_data=(val_dataset),\n",
    "                            verbose=1)"
   ]
  },
  {
   "cell_type": "code",
   "execution_count": 67,
   "metadata": {},
   "outputs": [
    {
     "data": {
      "image/png": "[encoded data removed]",
      "text/plain": [
       "<Figure size 432x288 with 1 Axes>"
      ]
     },
     "metadata": {
      "needs_background": "light"
     },
     "output_type": "display_data"
    }
   ],
   "source": [
    "# ubah ke dataframe\n",
    "metrics_imp = pd.DataFrame(history_imp.history)\n",
    "# plot loss dan validation loss\n",
    "metrics_imp[['loss', 'val_loss']].plot()\n",
    "plt.title('Perbandingan loss dan validation loss')\n",
    "plt.show()"
   ]
  },
  {
   "cell_type": "code",
   "execution_count": 68,
   "metadata": {},
   "outputs": [
    {
     "data": {
      "image/png": "[encoded data removed]",
      "text/plain": [
       "<Figure size 432x288 with 1 Axes>"
      ]
     },
     "metadata": {
      "needs_background": "light"
     },
     "output_type": "display_data"
    }
   ],
   "source": [
    "# plot accuracy dan validation accuracy\n",
    "metrics_imp[['accuracy', 'val_accuracy']].plot()\n",
    "plt.title('Perbandingan accuracy dan validation accuracy')\n",
    "plt.show()"
   ]
  },
  {
   "cell_type": "markdown",
   "metadata": {},
   "source": [
    "Model telah dilakukan improvment dengan\n",
    "- Mengurangi jumlah hidden layer dari 2 menjadi 1 dan nodes pada tiap-tiap layer\n",
    "- menambahkan kernel initializer (weight) pada input dan hidden layer menggunakan he_uniform. weight ini melakukaan scaling varians (ref: https://www.tensorflow.org/api_docs/python/tf/keras/initializers/HeUniform)\n",
    "- menambahkan rate drop out yang nilainya makin naik tiap layer\n",
    "- Mengurangi nilai epoch dari 30 menjadi 50\n",
    "- Sebenarnya hasil dari improvment model jika dilakukan re-run nilainya masih akan berubah, tetapi disini dilakukan untuk lebih menstabilkan model dalam perubahan tersebut dan meminimalisir terjadinya gradient desent (baik vanishing atau exploding)\n",
    "- Improvment ini juga telah mengurangi sedikit overfit dari model."
   ]
  },
  {
   "cell_type": "markdown",
   "metadata": {},
   "source": [
    "Model Evaluation"
   ]
  },
  {
   "cell_type": "code",
   "execution_count": 69,
   "metadata": {},
   "outputs": [
    {
     "name": "stdout",
     "output_type": "stream",
     "text": [
      "204/204 [==============================] - 4s 12ms/step\n",
      "              precision    recall  f1-score   support\n",
      "\n",
      "           0       0.82      0.74      0.78      3260\n",
      "           1       0.76      0.84      0.80      3260\n",
      "\n",
      "    accuracy                           0.79      6520\n",
      "   macro avg       0.79      0.79      0.79      6520\n",
      "weighted avg       0.79      0.79      0.79      6520\n",
      "\n"
     ]
    }
   ],
   "source": [
    "# prediksi data train\n",
    "y_pred_imp = model_imp.predict(X_train_final)\n",
    "# atur threshold 0.5\n",
    "y_pred_imp = np.where(y_pred_imp >= 0.5, 1, 0)\n",
    "# hasil dari classification report\n",
    "print(classification_report(y_train_balanced, y_pred_imp))"
   ]
  },
  {
   "cell_type": "code",
   "execution_count": 70,
   "metadata": {},
   "outputs": [
    {
     "name": "stdout",
     "output_type": "stream",
     "text": [
      "44/44 [==============================] - 1s 12ms/step\n",
      "              precision    recall  f1-score   support\n",
      "\n",
      "           0       0.90      0.76      0.83      1022\n",
      "           1       0.54      0.77      0.63       367\n",
      "\n",
      "    accuracy                           0.76      1389\n",
      "   macro avg       0.72      0.77      0.73      1389\n",
      "weighted avg       0.81      0.76      0.78      1389\n",
      "\n"
     ]
    }
   ],
   "source": [
    "# prediksi data train\n",
    "y_pred_imp_test = model_imp.predict(X_test_final)\n",
    "# atur threshold 0.5\n",
    "y_pred_imp_test = np.where(y_pred_imp_test >= 0.5, 1, 0)\n",
    "# hasil dari classification report\n",
    "print(classification_report(y_test, y_pred_imp_test))"
   ]
  },
  {
   "cell_type": "markdown",
   "metadata": {},
   "source": [
    "Telah dilakukan prediksi pada train dan test\n",
    "- Dari segi akurasi, dibandingkan dengan model default nilai akurasi dari model improvment ini memiliki nilai yang sama. tetapi pada model improv ini overfit (loss) juga telah dilakukan pengurangan.\n",
    "- Karena datanya sudah dilakukan handling imbalance data, maka akurasi bisa dijadikan patokan untuk melihat seberapa baik model dalam memprediksi data yang benar.\n",
    "- Selain akurasi, bisa meminimalisir precision, karena terdapat False Positive dimana customer yang hasil prediksinya churn tetapi aktualnya akan tidak churn. Jika seperti ini kemungkinan akan meningkatkan tingkat churn customer tersebut karena bisa jadi treatment yang diberikan perusahaan kurang baik setelah diprediksi bahwa customer akan churn. (ref: https://stevkarta.medium.com/membicarakan-precision-recall-dan-f1-score-e96d81910354)"
   ]
  },
  {
   "cell_type": "markdown",
   "metadata": {},
   "source": [
    "### **Model Fuctional API**"
   ]
  },
  {
   "cell_type": "markdown",
   "metadata": {},
   "source": [
    "Lakukan model improvment dari functional api sebelumnya."
   ]
  },
  {
   "cell_type": "code",
   "execution_count": 71,
   "metadata": {},
   "outputs": [
    {
     "name": "stdout",
     "output_type": "stream",
     "text": [
      "Epoch 1/30\n",
      "51/51 [==============================] - 16s 94ms/step - loss: 0.8492 - accuracy: 0.6557 - val_loss: 0.7991 - val_accuracy: 0.6058\n",
      "Epoch 2/30\n",
      "51/51 [==============================] - 3s 68ms/step - loss: 0.8022 - accuracy: 0.6339 - val_loss: 0.6035 - val_accuracy: 0.6949\n",
      "Epoch 3/30\n",
      "51/51 [==============================] - 2s 40ms/step - loss: 0.6667 - accuracy: 0.6709 - val_loss: 0.5800 - val_accuracy: 0.6940\n",
      "Epoch 4/30\n",
      "51/51 [==============================] - 2s 42ms/step - loss: 0.6285 - accuracy: 0.6877 - val_loss: 0.5539 - val_accuracy: 0.7138\n",
      "Epoch 5/30\n",
      "51/51 [==============================] - 2s 30ms/step - loss: 0.5900 - accuracy: 0.7104 - val_loss: 0.5374 - val_accuracy: 0.7291\n",
      "Epoch 6/30\n",
      "51/51 [==============================] - 1s 18ms/step - loss: 0.5630 - accuracy: 0.7199 - val_loss: 0.5331 - val_accuracy: 0.7309\n",
      "Epoch 7/30\n",
      "51/51 [==============================] - 1s 19ms/step - loss: 0.5652 - accuracy: 0.7229 - val_loss: 0.5259 - val_accuracy: 0.7318\n",
      "Epoch 8/30\n",
      "51/51 [==============================] - 1s 24ms/step - loss: 0.5448 - accuracy: 0.7302 - val_loss: 0.5227 - val_accuracy: 0.7336\n",
      "Epoch 9/30\n",
      "51/51 [==============================] - 1s 19ms/step - loss: 0.5351 - accuracy: 0.7396 - val_loss: 0.5182 - val_accuracy: 0.7327\n",
      "Epoch 10/30\n",
      "51/51 [==============================] - 1s 16ms/step - loss: 0.5320 - accuracy: 0.7379 - val_loss: 0.5152 - val_accuracy: 0.7345\n",
      "Epoch 11/30\n",
      "51/51 [==============================] - 1s 19ms/step - loss: 0.5208 - accuracy: 0.7471 - val_loss: 0.5122 - val_accuracy: 0.7336\n",
      "Epoch 12/30\n",
      "51/51 [==============================] - 1s 16ms/step - loss: 0.5187 - accuracy: 0.7482 - val_loss: 0.5150 - val_accuracy: 0.7336\n",
      "Epoch 13/30\n",
      "51/51 [==============================] - 1s 12ms/step - loss: 0.5138 - accuracy: 0.7537 - val_loss: 0.5133 - val_accuracy: 0.7318\n",
      "Epoch 14/30\n",
      "51/51 [==============================] - 1s 13ms/step - loss: 0.5136 - accuracy: 0.7486 - val_loss: 0.5100 - val_accuracy: 0.7372\n",
      "Epoch 15/30\n",
      "51/51 [==============================] - 1s 11ms/step - loss: 0.5096 - accuracy: 0.7564 - val_loss: 0.5074 - val_accuracy: 0.7363\n",
      "Epoch 16/30\n",
      "51/51 [==============================] - 1s 10ms/step - loss: 0.5016 - accuracy: 0.7566 - val_loss: 0.5074 - val_accuracy: 0.7372\n",
      "Epoch 17/30\n",
      "51/51 [==============================] - 1s 12ms/step - loss: 0.5019 - accuracy: 0.7557 - val_loss: 0.5079 - val_accuracy: 0.7372\n",
      "Epoch 18/30\n",
      "51/51 [==============================] - 1s 12ms/step - loss: 0.5018 - accuracy: 0.7600 - val_loss: 0.5067 - val_accuracy: 0.7390\n",
      "Epoch 19/30\n",
      "51/51 [==============================] - 1s 12ms/step - loss: 0.4956 - accuracy: 0.7646 - val_loss: 0.5073 - val_accuracy: 0.7390\n",
      "Epoch 20/30\n",
      "51/51 [==============================] - 1s 15ms/step - loss: 0.4977 - accuracy: 0.7563 - val_loss: 0.5059 - val_accuracy: 0.7399\n",
      "Epoch 21/30\n",
      "51/51 [==============================] - 0s 9ms/step - loss: 0.4960 - accuracy: 0.7621 - val_loss: 0.5050 - val_accuracy: 0.7399\n",
      "Epoch 22/30\n",
      "51/51 [==============================] - 0s 9ms/step - loss: 0.4901 - accuracy: 0.7635 - val_loss: 0.5076 - val_accuracy: 0.7363\n",
      "Epoch 23/30\n",
      "51/51 [==============================] - 0s 8ms/step - loss: 0.4930 - accuracy: 0.7643 - val_loss: 0.5062 - val_accuracy: 0.7354\n",
      "Epoch 24/30\n",
      "51/51 [==============================] - 0s 8ms/step - loss: 0.4888 - accuracy: 0.7669 - val_loss: 0.5052 - val_accuracy: 0.7363\n",
      "Epoch 25/30\n",
      "51/51 [==============================] - 0s 8ms/step - loss: 0.4902 - accuracy: 0.7702 - val_loss: 0.5047 - val_accuracy: 0.7372\n",
      "Epoch 26/30\n",
      "51/51 [==============================] - 0s 8ms/step - loss: 0.4874 - accuracy: 0.7719 - val_loss: 0.5054 - val_accuracy: 0.7372\n",
      "Epoch 27/30\n",
      "51/51 [==============================] - 0s 9ms/step - loss: 0.4870 - accuracy: 0.7653 - val_loss: 0.5050 - val_accuracy: 0.7363\n",
      "Epoch 28/30\n",
      "51/51 [==============================] - 0s 8ms/step - loss: 0.4862 - accuracy: 0.7692 - val_loss: 0.5048 - val_accuracy: 0.7372\n",
      "Epoch 29/30\n",
      "51/51 [==============================] - 0s 8ms/step - loss: 0.4858 - accuracy: 0.7692 - val_loss: 0.5070 - val_accuracy: 0.7345\n",
      "Epoch 30/30\n",
      "51/51 [==============================] - 0s 8ms/step - loss: 0.4828 - accuracy: 0.7653 - val_loss: 0.5070 - val_accuracy: 0.7354\n"
     ]
    }
   ],
   "source": [
    "# Buat model\n",
    "# definisikan input layer\n",
    "input_func = tf.keras.layers.Input(19,)\n",
    "# hidden layer 1\n",
    "hidden_1 = tf.keras.layers.Dense(16, kernel_initializer='he_uniform')(input_func)\n",
    "drop_1 = tf.keras.layers.Dropout(rate=0.1) (hidden_1)\n",
    "# hidden layer 2\n",
    "hidden_2 = tf.keras.layers.Dense(8, kernel_initializer='he_uniform')(drop_1)\n",
    "drop_2 = tf.keras.layers.Dropout(rate=0.1) (hidden_2)\n",
    "# hidden layer 3\n",
    "hidden_3 = tf.keras.layers.Dense(4, kernel_initializer='he_uniform') (drop_2)\n",
    "drop_3 = tf.keras.layers.Dropout(rate=0.1) (hidden_3)\n",
    "# output layer\n",
    "output_func = tf.keras.layers.Dense(1, activation='sigmoid') (drop_3)\n",
    "# definisikan model\n",
    "model_imp_func = tf.keras.Model(inputs=input_func, outputs=output_func)\n",
    "\n",
    "#compile model\n",
    "model_imp_func.compile(loss='binary_crossentropy',\n",
    "              optimizer='adam',\n",
    "              metrics=['accuracy'])\n",
    "\n",
    "# training model dengan 50 epoch\n",
    "history_imp_func = model_imp_func.fit(train_dataset, \n",
    "                            epochs=30, \n",
    "                            validation_data=(val_dataset),\n",
    "                            verbose=1)"
   ]
  },
  {
   "cell_type": "code",
   "execution_count": 72,
   "metadata": {},
   "outputs": [
    {
     "data": {
      "image/png": "[encoded data removed]",
      "text/plain": [
       "<Figure size 432x288 with 1 Axes>"
      ]
     },
     "metadata": {
      "needs_background": "light"
     },
     "output_type": "display_data"
    }
   ],
   "source": [
    "# ubah ke dataframe\n",
    "metrics_imp_func = pd.DataFrame(history_imp_func.history)\n",
    "# plot loss dan validation loss\n",
    "metrics_imp_func[['loss', 'val_loss']].plot()\n",
    "plt.title('Perbandingan loss dan validation loss')\n",
    "plt.show()"
   ]
  },
  {
   "cell_type": "code",
   "execution_count": 73,
   "metadata": {},
   "outputs": [
    {
     "data": {
      "image/png": "[encoded data removed]",
      "text/plain": [
       "<Figure size 432x288 with 1 Axes>"
      ]
     },
     "metadata": {
      "needs_background": "light"
     },
     "output_type": "display_data"
    }
   ],
   "source": [
    "# plot accuracy dan validation accuracy\n",
    "metrics_imp_func[['accuracy', 'val_accuracy']].plot()\n",
    "plt.title('Perbandingan accuracy dan validation accuracy')\n",
    "plt.show()"
   ]
  },
  {
   "cell_type": "markdown",
   "metadata": {},
   "source": [
    "Telah dilakukan improvment pada model functional API:\n",
    "- Pada model ini tidak dilakukan pengurangan hidden layer, tetapi ditanbahkan dropout dengan nilai rate yang sama\n",
    "- Menambahkan kernel initializer yang sama dengan model sequensial yaitu he_uniform\n",
    "- Saat dicoba ditambahakn learning rate, tetapi menyebabkan exploiding pada loss validation\n",
    "- Menggunakan epoch = 30\n",
    "- Hasil dari grafik akurasi masih mengalami sedikit overfit"
   ]
  },
  {
   "cell_type": "markdown",
   "metadata": {},
   "source": [
    "Model Evaluation"
   ]
  },
  {
   "cell_type": "code",
   "execution_count": 74,
   "metadata": {},
   "outputs": [
    {
     "name": "stdout",
     "output_type": "stream",
     "text": [
      "204/204 [==============================] - 1s 5ms/step\n",
      "              precision    recall  f1-score   support\n",
      "\n",
      "           0       0.82      0.74      0.78      3260\n",
      "           1       0.76      0.84      0.80      3260\n",
      "\n",
      "    accuracy                           0.79      6520\n",
      "   macro avg       0.79      0.79      0.79      6520\n",
      "weighted avg       0.79      0.79      0.79      6520\n",
      "\n"
     ]
    }
   ],
   "source": [
    "# prediksi data train\n",
    "y_pred_imp_fc = model_imp_func.predict(X_train_final)\n",
    "# atur threshold 0.5\n",
    "y_pred_imp_fc = np.where(y_pred_imp_fc >= 0.5, 1, 0)\n",
    "# hasil dari classification report\n",
    "print(classification_report(y_train_balanced, y_pred_imp_fc))"
   ]
  },
  {
   "cell_type": "code",
   "execution_count": 75,
   "metadata": {},
   "outputs": [
    {
     "name": "stdout",
     "output_type": "stream",
     "text": [
      "44/44 [==============================] - 0s 4ms/step\n",
      "              precision    recall  f1-score   support\n",
      "\n",
      "           0       0.90      0.76      0.83      1022\n",
      "           1       0.54      0.78      0.64       367\n",
      "\n",
      "    accuracy                           0.77      1389\n",
      "   macro avg       0.72      0.77      0.73      1389\n",
      "weighted avg       0.81      0.77      0.78      1389\n",
      "\n"
     ]
    }
   ],
   "source": [
    "# prediksi data train\n",
    "y_pred_imp_fc_test = model_imp_func.predict(X_test_final)\n",
    "# atur threshold 0.5\n",
    "y_pred_imp_fc_test = np.where(y_pred_imp_fc_test >= 0.5, 1, 0)\n",
    "# hasil dari classification report\n",
    "print(classification_report(y_test, y_pred_imp_fc_test))"
   ]
  },
  {
   "cell_type": "markdown",
   "metadata": {},
   "source": [
    "Hasil dari improvment model functional API:\n",
    "- Hasil akurasi dari train dan test dapat dikatakan goodfit karena perbedaan perbedaannya hanya 3%\n",
    "- Hasil dari prediksi model sequensial dan fuctional API menunjukkan hal yang sama, hal ini disebabkan karena struktur, improve yang dilakukan dari kernel initializer dan jumlah epoch sama.\n",
    "- Tetapi jika dilakukan re-run hasil grafik loss sequential masih lebih stabil dibandingkan dengan function API\n",
    "- Jadi model terbaik yang akan digunakan adalah **model Sequential yang telah di improve**"
   ]
  },
  {
   "cell_type": "markdown",
   "metadata": {},
   "source": [
    "# **7. Model Saving**"
   ]
  },
  {
   "cell_type": "markdown",
   "metadata": {},
   "source": [
    "Dilakukan model saving yang digunakan untuk model inference dan model deployment. Model terbaik yang dipilih adalah model yang telah dilakukan improvment"
   ]
  },
  {
   "cell_type": "code",
   "execution_count": 76,
   "metadata": {},
   "outputs": [
    {
     "name": "stdout",
     "output_type": "stream",
     "text": [
      "INFO:tensorflow:Assets written to: model_final\\assets\n"
     ]
    }
   ],
   "source": [
    "# save model\n",
    "model_imp.save(\"model_final\")"
   ]
  },
  {
   "cell_type": "markdown",
   "metadata": {},
   "source": [
    "# **8. Model Inference**"
   ]
  },
  {
   "cell_type": "markdown",
   "metadata": {},
   "source": [
    "Lakukan prediksi pada data inference (data yang dianggap baru), data ini diambil secara random dari dataset aslinya dimana ada 100 data yang akan diprediksi"
   ]
  },
  {
   "cell_type": "code",
   "execution_count": 77,
   "metadata": {},
   "outputs": [
    {
     "data": {
      "text/html": [
       "<div>\n",
       "<style scoped>\n",
       "    .dataframe tbody tr th:only-of-type {\n",
       "        vertical-align: middle;\n",
       "    }\n",
       "\n",
       "    .dataframe tbody tr th {\n",
       "        vertical-align: top;\n",
       "    }\n",
       "\n",
       "    .dataframe thead th {\n",
       "        text-align: right;\n",
       "    }\n",
       "</style>\n",
       "<table border=\"1\" class=\"dataframe\">\n",
       "  <thead>\n",
       "    <tr style=\"text-align: right;\">\n",
       "      <th></th>\n",
       "      <th>customerID</th>\n",
       "      <th>gender</th>\n",
       "      <th>SeniorCitizen</th>\n",
       "      <th>Partner</th>\n",
       "      <th>Dependents</th>\n",
       "      <th>tenure</th>\n",
       "      <th>PhoneService</th>\n",
       "      <th>MultipleLines</th>\n",
       "      <th>InternetService</th>\n",
       "      <th>OnlineSecurity</th>\n",
       "      <th>...</th>\n",
       "      <th>DeviceProtection</th>\n",
       "      <th>TechSupport</th>\n",
       "      <th>StreamingTV</th>\n",
       "      <th>StreamingMovies</th>\n",
       "      <th>Contract</th>\n",
       "      <th>PaperlessBilling</th>\n",
       "      <th>PaymentMethod</th>\n",
       "      <th>MonthlyCharges</th>\n",
       "      <th>TotalCharges</th>\n",
       "      <th>Churn</th>\n",
       "    </tr>\n",
       "  </thead>\n",
       "  <tbody>\n",
       "    <tr>\n",
       "      <th>0</th>\n",
       "      <td>6211-WWLTF</td>\n",
       "      <td>Male</td>\n",
       "      <td>0</td>\n",
       "      <td>Yes</td>\n",
       "      <td>No</td>\n",
       "      <td>63</td>\n",
       "      <td>Yes</td>\n",
       "      <td>No</td>\n",
       "      <td>Fiber optic</td>\n",
       "      <td>Yes</td>\n",
       "      <td>...</td>\n",
       "      <td>Yes</td>\n",
       "      <td>No</td>\n",
       "      <td>Yes</td>\n",
       "      <td>Yes</td>\n",
       "      <td>Two year</td>\n",
       "      <td>No</td>\n",
       "      <td>Credit card (automatic)</td>\n",
       "      <td>99.70</td>\n",
       "      <td>6330.40</td>\n",
       "      <td>0</td>\n",
       "    </tr>\n",
       "    <tr>\n",
       "      <th>1</th>\n",
       "      <td>3230-IUALN</td>\n",
       "      <td>Female</td>\n",
       "      <td>0</td>\n",
       "      <td>Yes</td>\n",
       "      <td>Yes</td>\n",
       "      <td>45</td>\n",
       "      <td>Yes</td>\n",
       "      <td>No</td>\n",
       "      <td>DSL</td>\n",
       "      <td>Yes</td>\n",
       "      <td>...</td>\n",
       "      <td>Yes</td>\n",
       "      <td>Yes</td>\n",
       "      <td>Yes</td>\n",
       "      <td>Yes</td>\n",
       "      <td>Two year</td>\n",
       "      <td>Yes</td>\n",
       "      <td>Mailed check</td>\n",
       "      <td>81.00</td>\n",
       "      <td>3533.60</td>\n",
       "      <td>0</td>\n",
       "    </tr>\n",
       "    <tr>\n",
       "      <th>2</th>\n",
       "      <td>6458-CYIDZ</td>\n",
       "      <td>Female</td>\n",
       "      <td>1</td>\n",
       "      <td>No</td>\n",
       "      <td>No</td>\n",
       "      <td>5</td>\n",
       "      <td>Yes</td>\n",
       "      <td>No</td>\n",
       "      <td>Fiber optic</td>\n",
       "      <td>Yes</td>\n",
       "      <td>...</td>\n",
       "      <td>No</td>\n",
       "      <td>No</td>\n",
       "      <td>No</td>\n",
       "      <td>No</td>\n",
       "      <td>Month-to-month</td>\n",
       "      <td>No</td>\n",
       "      <td>Electronic check</td>\n",
       "      <td>80.70</td>\n",
       "      <td>374.80</td>\n",
       "      <td>0</td>\n",
       "    </tr>\n",
       "    <tr>\n",
       "      <th>3</th>\n",
       "      <td>4958-XCBDQ</td>\n",
       "      <td>Male</td>\n",
       "      <td>1</td>\n",
       "      <td>No</td>\n",
       "      <td>No</td>\n",
       "      <td>35</td>\n",
       "      <td>Yes</td>\n",
       "      <td>Yes</td>\n",
       "      <td>Fiber optic</td>\n",
       "      <td>No</td>\n",
       "      <td>...</td>\n",
       "      <td>Yes</td>\n",
       "      <td>No</td>\n",
       "      <td>Yes</td>\n",
       "      <td>Yes</td>\n",
       "      <td>Month-to-month</td>\n",
       "      <td>Yes</td>\n",
       "      <td>Electronic check</td>\n",
       "      <td>101.40</td>\n",
       "      <td>3496.30</td>\n",
       "      <td>1</td>\n",
       "    </tr>\n",
       "    <tr>\n",
       "      <th>4</th>\n",
       "      <td>4455-BFSPD</td>\n",
       "      <td>Female</td>\n",
       "      <td>0</td>\n",
       "      <td>Yes</td>\n",
       "      <td>No</td>\n",
       "      <td>61</td>\n",
       "      <td>Yes</td>\n",
       "      <td>Yes</td>\n",
       "      <td>Fiber optic</td>\n",
       "      <td>No</td>\n",
       "      <td>...</td>\n",
       "      <td>No</td>\n",
       "      <td>Yes</td>\n",
       "      <td>Yes</td>\n",
       "      <td>Yes</td>\n",
       "      <td>One year</td>\n",
       "      <td>No</td>\n",
       "      <td>Bank transfer (automatic)</td>\n",
       "      <td>101.15</td>\n",
       "      <td>6383.90</td>\n",
       "      <td>0</td>\n",
       "    </tr>\n",
       "    <tr>\n",
       "      <th>...</th>\n",
       "      <td>...</td>\n",
       "      <td>...</td>\n",
       "      <td>...</td>\n",
       "      <td>...</td>\n",
       "      <td>...</td>\n",
       "      <td>...</td>\n",
       "      <td>...</td>\n",
       "      <td>...</td>\n",
       "      <td>...</td>\n",
       "      <td>...</td>\n",
       "      <td>...</td>\n",
       "      <td>...</td>\n",
       "      <td>...</td>\n",
       "      <td>...</td>\n",
       "      <td>...</td>\n",
       "      <td>...</td>\n",
       "      <td>...</td>\n",
       "      <td>...</td>\n",
       "      <td>...</td>\n",
       "      <td>...</td>\n",
       "      <td>...</td>\n",
       "    </tr>\n",
       "    <tr>\n",
       "      <th>95</th>\n",
       "      <td>5081-NWSUP</td>\n",
       "      <td>Female</td>\n",
       "      <td>0</td>\n",
       "      <td>No</td>\n",
       "      <td>No</td>\n",
       "      <td>10</td>\n",
       "      <td>Yes</td>\n",
       "      <td>No</td>\n",
       "      <td>DSL</td>\n",
       "      <td>No</td>\n",
       "      <td>...</td>\n",
       "      <td>No</td>\n",
       "      <td>Yes</td>\n",
       "      <td>No</td>\n",
       "      <td>Yes</td>\n",
       "      <td>One year</td>\n",
       "      <td>No</td>\n",
       "      <td>Mailed check</td>\n",
       "      <td>64.90</td>\n",
       "      <td>685.55</td>\n",
       "      <td>0</td>\n",
       "    </tr>\n",
       "    <tr>\n",
       "      <th>96</th>\n",
       "      <td>7321-VGNKU</td>\n",
       "      <td>Female</td>\n",
       "      <td>0</td>\n",
       "      <td>Yes</td>\n",
       "      <td>No</td>\n",
       "      <td>2</td>\n",
       "      <td>Yes</td>\n",
       "      <td>No</td>\n",
       "      <td>Fiber optic</td>\n",
       "      <td>No</td>\n",
       "      <td>...</td>\n",
       "      <td>No</td>\n",
       "      <td>No</td>\n",
       "      <td>No</td>\n",
       "      <td>No</td>\n",
       "      <td>Month-to-month</td>\n",
       "      <td>Yes</td>\n",
       "      <td>Electronic check</td>\n",
       "      <td>70.35</td>\n",
       "      <td>120.25</td>\n",
       "      <td>0</td>\n",
       "    </tr>\n",
       "    <tr>\n",
       "      <th>97</th>\n",
       "      <td>9732-KPKBW</td>\n",
       "      <td>Male</td>\n",
       "      <td>0</td>\n",
       "      <td>No</td>\n",
       "      <td>No</td>\n",
       "      <td>1</td>\n",
       "      <td>Yes</td>\n",
       "      <td>No</td>\n",
       "      <td>DSL</td>\n",
       "      <td>Yes</td>\n",
       "      <td>...</td>\n",
       "      <td>No</td>\n",
       "      <td>Yes</td>\n",
       "      <td>No</td>\n",
       "      <td>No</td>\n",
       "      <td>Month-to-month</td>\n",
       "      <td>Yes</td>\n",
       "      <td>Electronic check</td>\n",
       "      <td>53.95</td>\n",
       "      <td>53.95</td>\n",
       "      <td>1</td>\n",
       "    </tr>\n",
       "    <tr>\n",
       "      <th>98</th>\n",
       "      <td>5380-XPJNZ</td>\n",
       "      <td>Female</td>\n",
       "      <td>0</td>\n",
       "      <td>No</td>\n",
       "      <td>No</td>\n",
       "      <td>38</td>\n",
       "      <td>Yes</td>\n",
       "      <td>No</td>\n",
       "      <td>No</td>\n",
       "      <td>No internet service</td>\n",
       "      <td>...</td>\n",
       "      <td>No internet service</td>\n",
       "      <td>No internet service</td>\n",
       "      <td>No internet service</td>\n",
       "      <td>No internet service</td>\n",
       "      <td>One year</td>\n",
       "      <td>No</td>\n",
       "      <td>Mailed check</td>\n",
       "      <td>20.05</td>\n",
       "      <td>678.20</td>\n",
       "      <td>0</td>\n",
       "    </tr>\n",
       "    <tr>\n",
       "      <th>99</th>\n",
       "      <td>9780-FKVVF</td>\n",
       "      <td>Male</td>\n",
       "      <td>0</td>\n",
       "      <td>No</td>\n",
       "      <td>No</td>\n",
       "      <td>6</td>\n",
       "      <td>Yes</td>\n",
       "      <td>No</td>\n",
       "      <td>DSL</td>\n",
       "      <td>Yes</td>\n",
       "      <td>...</td>\n",
       "      <td>No</td>\n",
       "      <td>No</td>\n",
       "      <td>No</td>\n",
       "      <td>Yes</td>\n",
       "      <td>Month-to-month</td>\n",
       "      <td>Yes</td>\n",
       "      <td>Bank transfer (automatic)</td>\n",
       "      <td>59.15</td>\n",
       "      <td>336.70</td>\n",
       "      <td>0</td>\n",
       "    </tr>\n",
       "  </tbody>\n",
       "</table>\n",
       "<p>100 rows × 21 columns</p>\n",
       "</div>"
      ],
      "text/plain": [
       "    customerID  gender  SeniorCitizen Partner Dependents  tenure PhoneService  \\\n",
       "0   6211-WWLTF    Male              0     Yes         No      63          Yes   \n",
       "1   3230-IUALN  Female              0     Yes        Yes      45          Yes   \n",
       "2   6458-CYIDZ  Female              1      No         No       5          Yes   \n",
       "3   4958-XCBDQ    Male              1      No         No      35          Yes   \n",
       "4   4455-BFSPD  Female              0     Yes         No      61          Yes   \n",
       "..         ...     ...            ...     ...        ...     ...          ...   \n",
       "95  5081-NWSUP  Female              0      No         No      10          Yes   \n",
       "96  7321-VGNKU  Female              0     Yes         No       2          Yes   \n",
       "97  9732-KPKBW    Male              0      No         No       1          Yes   \n",
       "98  5380-XPJNZ  Female              0      No         No      38          Yes   \n",
       "99  9780-FKVVF    Male              0      No         No       6          Yes   \n",
       "\n",
       "   MultipleLines InternetService       OnlineSecurity  ...  \\\n",
       "0             No     Fiber optic                  Yes  ...   \n",
       "1             No             DSL                  Yes  ...   \n",
       "2             No     Fiber optic                  Yes  ...   \n",
       "3            Yes     Fiber optic                   No  ...   \n",
       "4            Yes     Fiber optic                   No  ...   \n",
       "..           ...             ...                  ...  ...   \n",
       "95            No             DSL                   No  ...   \n",
       "96            No     Fiber optic                   No  ...   \n",
       "97            No             DSL                  Yes  ...   \n",
       "98            No              No  No internet service  ...   \n",
       "99            No             DSL                  Yes  ...   \n",
       "\n",
       "       DeviceProtection          TechSupport          StreamingTV  \\\n",
       "0                   Yes                   No                  Yes   \n",
       "1                   Yes                  Yes                  Yes   \n",
       "2                    No                   No                   No   \n",
       "3                   Yes                   No                  Yes   \n",
       "4                    No                  Yes                  Yes   \n",
       "..                  ...                  ...                  ...   \n",
       "95                   No                  Yes                   No   \n",
       "96                   No                   No                   No   \n",
       "97                   No                  Yes                   No   \n",
       "98  No internet service  No internet service  No internet service   \n",
       "99                   No                   No                   No   \n",
       "\n",
       "        StreamingMovies        Contract PaperlessBilling  \\\n",
       "0                   Yes        Two year               No   \n",
       "1                   Yes        Two year              Yes   \n",
       "2                    No  Month-to-month               No   \n",
       "3                   Yes  Month-to-month              Yes   \n",
       "4                   Yes        One year               No   \n",
       "..                  ...             ...              ...   \n",
       "95                  Yes        One year               No   \n",
       "96                   No  Month-to-month              Yes   \n",
       "97                   No  Month-to-month              Yes   \n",
       "98  No internet service        One year               No   \n",
       "99                  Yes  Month-to-month              Yes   \n",
       "\n",
       "                PaymentMethod MonthlyCharges  TotalCharges  Churn  \n",
       "0     Credit card (automatic)          99.70       6330.40      0  \n",
       "1                Mailed check          81.00       3533.60      0  \n",
       "2            Electronic check          80.70        374.80      0  \n",
       "3            Electronic check         101.40       3496.30      1  \n",
       "4   Bank transfer (automatic)         101.15       6383.90      0  \n",
       "..                        ...            ...           ...    ...  \n",
       "95               Mailed check          64.90        685.55      0  \n",
       "96           Electronic check          70.35        120.25      0  \n",
       "97           Electronic check          53.95         53.95      1  \n",
       "98               Mailed check          20.05        678.20      0  \n",
       "99  Bank transfer (automatic)          59.15        336.70      0  \n",
       "\n",
       "[100 rows x 21 columns]"
      ]
     },
     "execution_count": 77,
     "metadata": {},
     "output_type": "execute_result"
    }
   ],
   "source": [
    "# display data inf\n",
    "data_inf"
   ]
  },
  {
   "cell_type": "code",
   "execution_count": 78,
   "metadata": {},
   "outputs": [],
   "source": [
    "# Memisahkan kolom numerik dan kategorik\n",
    "data_inf_num = data_inf[num_col]\n",
    "data_inf_cat = data_inf[cat_col]\n",
    "\n",
    "#scaling dan encoding\n",
    "data_inf_num_scaled = scaler.transform(data_inf_num)\n",
    "data_inf_cat_encoded = encoder.transform(data_inf_cat)\n",
    "\n",
    "# concate kolom numerik dan kategorik\n",
    "data_inf_final = np.concatenate([data_inf_num_scaled, data_inf_cat_encoded], axis=1)"
   ]
  },
  {
   "cell_type": "markdown",
   "metadata": {},
   "source": [
    "lakukan prediksi dari model terbaik yang sudah disimpan, load model untuk digunakan"
   ]
  },
  {
   "cell_type": "code",
   "execution_count": 79,
   "metadata": {},
   "outputs": [],
   "source": [
    "# load model\n",
    "model_inf = load_model(\"model_final\")"
   ]
  },
  {
   "cell_type": "code",
   "execution_count": 80,
   "metadata": {},
   "outputs": [
    {
     "name": "stdout",
     "output_type": "stream",
     "text": [
      "4/4 [==============================] - 1s 9ms/step\n"
     ]
    }
   ],
   "source": [
    "# prediksi data inferece\n",
    "y_pred_inf = model_inf.predict(data_inf_final)\n",
    "# atur threshold 0.5\n",
    "y_pred_inf = np.where(y_pred_inf >= 0.5, 1, 0)"
   ]
  },
  {
   "cell_type": "code",
   "execution_count": 81,
   "metadata": {},
   "outputs": [
    {
     "data": {
      "text/html": [
       "<div>\n",
       "<style scoped>\n",
       "    .dataframe tbody tr th:only-of-type {\n",
       "        vertical-align: middle;\n",
       "    }\n",
       "\n",
       "    .dataframe tbody tr th {\n",
       "        vertical-align: top;\n",
       "    }\n",
       "\n",
       "    .dataframe thead th {\n",
       "        text-align: right;\n",
       "    }\n",
       "</style>\n",
       "<table border=\"1\" class=\"dataframe\">\n",
       "  <thead>\n",
       "    <tr style=\"text-align: right;\">\n",
       "      <th></th>\n",
       "      <th>customerID</th>\n",
       "      <th>gender</th>\n",
       "      <th>SeniorCitizen</th>\n",
       "      <th>Partner</th>\n",
       "      <th>Dependents</th>\n",
       "      <th>tenure</th>\n",
       "      <th>PhoneService</th>\n",
       "      <th>MultipleLines</th>\n",
       "      <th>InternetService</th>\n",
       "      <th>OnlineSecurity</th>\n",
       "      <th>...</th>\n",
       "      <th>TechSupport</th>\n",
       "      <th>StreamingTV</th>\n",
       "      <th>StreamingMovies</th>\n",
       "      <th>Contract</th>\n",
       "      <th>PaperlessBilling</th>\n",
       "      <th>PaymentMethod</th>\n",
       "      <th>MonthlyCharges</th>\n",
       "      <th>TotalCharges</th>\n",
       "      <th>Churn</th>\n",
       "      <th>Churn Prediction</th>\n",
       "    </tr>\n",
       "  </thead>\n",
       "  <tbody>\n",
       "    <tr>\n",
       "      <th>0</th>\n",
       "      <td>6211-WWLTF</td>\n",
       "      <td>Male</td>\n",
       "      <td>0</td>\n",
       "      <td>Yes</td>\n",
       "      <td>No</td>\n",
       "      <td>63</td>\n",
       "      <td>Yes</td>\n",
       "      <td>No</td>\n",
       "      <td>Fiber optic</td>\n",
       "      <td>Yes</td>\n",
       "      <td>...</td>\n",
       "      <td>No</td>\n",
       "      <td>Yes</td>\n",
       "      <td>Yes</td>\n",
       "      <td>Two year</td>\n",
       "      <td>No</td>\n",
       "      <td>Credit card (automatic)</td>\n",
       "      <td>99.70</td>\n",
       "      <td>6330.4</td>\n",
       "      <td>0</td>\n",
       "      <td>0</td>\n",
       "    </tr>\n",
       "    <tr>\n",
       "      <th>1</th>\n",
       "      <td>3230-IUALN</td>\n",
       "      <td>Female</td>\n",
       "      <td>0</td>\n",
       "      <td>Yes</td>\n",
       "      <td>Yes</td>\n",
       "      <td>45</td>\n",
       "      <td>Yes</td>\n",
       "      <td>No</td>\n",
       "      <td>DSL</td>\n",
       "      <td>Yes</td>\n",
       "      <td>...</td>\n",
       "      <td>Yes</td>\n",
       "      <td>Yes</td>\n",
       "      <td>Yes</td>\n",
       "      <td>Two year</td>\n",
       "      <td>Yes</td>\n",
       "      <td>Mailed check</td>\n",
       "      <td>81.00</td>\n",
       "      <td>3533.6</td>\n",
       "      <td>0</td>\n",
       "      <td>0</td>\n",
       "    </tr>\n",
       "    <tr>\n",
       "      <th>2</th>\n",
       "      <td>6458-CYIDZ</td>\n",
       "      <td>Female</td>\n",
       "      <td>1</td>\n",
       "      <td>No</td>\n",
       "      <td>No</td>\n",
       "      <td>5</td>\n",
       "      <td>Yes</td>\n",
       "      <td>No</td>\n",
       "      <td>Fiber optic</td>\n",
       "      <td>Yes</td>\n",
       "      <td>...</td>\n",
       "      <td>No</td>\n",
       "      <td>No</td>\n",
       "      <td>No</td>\n",
       "      <td>Month-to-month</td>\n",
       "      <td>No</td>\n",
       "      <td>Electronic check</td>\n",
       "      <td>80.70</td>\n",
       "      <td>374.8</td>\n",
       "      <td>0</td>\n",
       "      <td>1</td>\n",
       "    </tr>\n",
       "    <tr>\n",
       "      <th>3</th>\n",
       "      <td>4958-XCBDQ</td>\n",
       "      <td>Male</td>\n",
       "      <td>1</td>\n",
       "      <td>No</td>\n",
       "      <td>No</td>\n",
       "      <td>35</td>\n",
       "      <td>Yes</td>\n",
       "      <td>Yes</td>\n",
       "      <td>Fiber optic</td>\n",
       "      <td>No</td>\n",
       "      <td>...</td>\n",
       "      <td>No</td>\n",
       "      <td>Yes</td>\n",
       "      <td>Yes</td>\n",
       "      <td>Month-to-month</td>\n",
       "      <td>Yes</td>\n",
       "      <td>Electronic check</td>\n",
       "      <td>101.40</td>\n",
       "      <td>3496.3</td>\n",
       "      <td>1</td>\n",
       "      <td>1</td>\n",
       "    </tr>\n",
       "    <tr>\n",
       "      <th>4</th>\n",
       "      <td>4455-BFSPD</td>\n",
       "      <td>Female</td>\n",
       "      <td>0</td>\n",
       "      <td>Yes</td>\n",
       "      <td>No</td>\n",
       "      <td>61</td>\n",
       "      <td>Yes</td>\n",
       "      <td>Yes</td>\n",
       "      <td>Fiber optic</td>\n",
       "      <td>No</td>\n",
       "      <td>...</td>\n",
       "      <td>Yes</td>\n",
       "      <td>Yes</td>\n",
       "      <td>Yes</td>\n",
       "      <td>One year</td>\n",
       "      <td>No</td>\n",
       "      <td>Bank transfer (automatic)</td>\n",
       "      <td>101.15</td>\n",
       "      <td>6383.9</td>\n",
       "      <td>0</td>\n",
       "      <td>0</td>\n",
       "    </tr>\n",
       "  </tbody>\n",
       "</table>\n",
       "<p>5 rows × 22 columns</p>\n",
       "</div>"
      ],
      "text/plain": [
       "   customerID  gender  SeniorCitizen Partner Dependents  tenure PhoneService  \\\n",
       "0  6211-WWLTF    Male              0     Yes         No      63          Yes   \n",
       "1  3230-IUALN  Female              0     Yes        Yes      45          Yes   \n",
       "2  6458-CYIDZ  Female              1      No         No       5          Yes   \n",
       "3  4958-XCBDQ    Male              1      No         No      35          Yes   \n",
       "4  4455-BFSPD  Female              0     Yes         No      61          Yes   \n",
       "\n",
       "  MultipleLines InternetService OnlineSecurity  ... TechSupport StreamingTV  \\\n",
       "0            No     Fiber optic            Yes  ...          No         Yes   \n",
       "1            No             DSL            Yes  ...         Yes         Yes   \n",
       "2            No     Fiber optic            Yes  ...          No          No   \n",
       "3           Yes     Fiber optic             No  ...          No         Yes   \n",
       "4           Yes     Fiber optic             No  ...         Yes         Yes   \n",
       "\n",
       "  StreamingMovies        Contract PaperlessBilling              PaymentMethod  \\\n",
       "0             Yes        Two year               No    Credit card (automatic)   \n",
       "1             Yes        Two year              Yes               Mailed check   \n",
       "2              No  Month-to-month               No           Electronic check   \n",
       "3             Yes  Month-to-month              Yes           Electronic check   \n",
       "4             Yes        One year               No  Bank transfer (automatic)   \n",
       "\n",
       "  MonthlyCharges TotalCharges  Churn  Churn Prediction  \n",
       "0          99.70       6330.4      0                 0  \n",
       "1          81.00       3533.6      0                 0  \n",
       "2          80.70        374.8      0                 1  \n",
       "3         101.40       3496.3      1                 1  \n",
       "4         101.15       6383.9      0                 0  \n",
       "\n",
       "[5 rows x 22 columns]"
      ]
     },
     "execution_count": 81,
     "metadata": {},
     "output_type": "execute_result"
    }
   ],
   "source": [
    "# membuat hasil prediksi menjadi dataframe\n",
    "y_pred_inf_df = pd.DataFrame(y_pred_inf, columns=['Churn Prediction'])\n",
    "\n",
    "# Gabungkan data Inference dengan kolom prekdiksi\n",
    "data_inf_predic = pd.concat([data_inf, y_pred_inf_df], axis=1)\n",
    "data_inf_predic.head(5)"
   ]
  },
  {
   "cell_type": "markdown",
   "metadata": {},
   "source": [
    "Tampilkan hasil dari hasil aktual dan prediksi"
   ]
  },
  {
   "cell_type": "code",
   "execution_count": 82,
   "metadata": {},
   "outputs": [
    {
     "data": {
      "text/plain": [
       "0    82\n",
       "1    18\n",
       "Name: Churn, dtype: int64"
      ]
     },
     "execution_count": 82,
     "metadata": {},
     "output_type": "execute_result"
    }
   ],
   "source": [
    "data_inf_predic[\"Churn\"].value_counts()"
   ]
  },
  {
   "cell_type": "code",
   "execution_count": 83,
   "metadata": {},
   "outputs": [
    {
     "data": {
      "text/plain": [
       "0    57\n",
       "1    43\n",
       "Name: Churn Prediction, dtype: int64"
      ]
     },
     "execution_count": 83,
     "metadata": {},
     "output_type": "execute_result"
    }
   ],
   "source": [
    "data_inf_predic[\"Churn Prediction\"].value_counts()"
   ]
  },
  {
   "cell_type": "markdown",
   "metadata": {},
   "source": [
    "Hasil dari data inference\n",
    "- Model yang telah disimpan dan diload untuk digunakan pada model inference telah berhasil digunakan.\n",
    "- Dari 100 data yang ada, 25 data yang salah prediksi. Jadi model telah behasil memprediksi 75% dari data inference.\n",
    "- Hasil ini telah sesuai dengan model sequensial yang telah di improv karena akurasi dari model tersebut hanya 76%, jadi telah mendekati nilainya.\n",
    "- Hal yang menyebabkan akurasi tidak sama antara hasil test dan inferece karena data pada inference hanya sedikit."
   ]
  },
  {
   "cell_type": "markdown",
   "metadata": {},
   "source": [
    "# **9. Kesimpulan**"
   ]
  },
  {
   "cell_type": "markdown",
   "metadata": {},
   "source": [
    "Pada Milestone 1 ini diberikan dataset  Telco Customer Churn` yang akan dilakukan prediksi mengenai seorang customer churn atau tidak. Dataset terdiri dari 7043 baris dan 21 kolom dengan tipe data kategori dan numerik. Model yang dibuat menggunakan Artifical Neural Network (ANN) dengan model Sequential dan Functional\n",
    "\n",
    "**EDA**\n",
    "- Terdapat 4 fitur yang memiliki korelasi paling tinggi dengan target yaitu PaperlessBilling, MonthlyCharges, SeniorCitizen dan PaymentMethod.\n",
    "- Korelasi tenure dan TotalCharges tinggi, karena semakin lama atau semakin tinggi customer menggunakan layanan maka tagihan yang akan dibayar akan semakin tinggi juga\n",
    "- Jumlah customer perempuan dan laki-laki memiliki jumlah yang hampir sama. Sedangkan customer didominasi usia yang lebih muda dengan persentase 83.79%\n",
    "- Customer yang tidak memiliki patner cenderung tidak memiliki tanggungan, tetapi ada juga yang memiliki tanggungan. kemungkinan tanggungan yang dimaksud bisa jadi anggota keluarga lainnya. Misalnya seorang kakak menanggung biaya untuk adiknya.\n",
    "- Berdasarkan uji hipotesis, diketahui bahwa rata-rata total charges dari senior citizen dan bukan senior citizen memiliki perbedaan yang signifikan. Dari sini juga diketahu bahwa walaupun persentase customer yang senior citizen sedikit tetapi mereka memiliki rata-rata total charges yang lebih tinggi.\n",
    "- Perbandingan label target diketahui imbalace, tetapi tidak termasuk extrem karena label 1 atau yes memiliki jumlah 26.53%. Jadi imbalace data masih termasuk medium. Tetapi dilakukan handling imbalace data target agar model yang dibuat lebih baik.\n",
    "\n",
    "**Preprosessing**\n",
    "Sebelum data dimasukkan kedalam model, terleboh dahulu dilakukan pengolahan data. Pisahkan data inference, train, validation dan test. Lakukan cleaning missing value dan outliers, feature selection yaitu mendrop kolom CustomerID karena dianggap tidak memiliki pengaruh customer churn atau tidak berdasarkan ID atau identitasnya. Mengelompokkan data numerik dan kategorik. lakukan handling imbalace data dengan meggunakan SMOTENC kemudian lakukan scaling dan encoding.\n",
    "\n",
    "**Model**\n",
    "- Telah dibuat 2 model menggunakan Artifical Neural Network yaitu model sequential dan function. Pertama model yang dibuat hanya menggunakan activation function pada output saja, setelahnya baru dilakukan model improvment dengan cara menambahkan kernel initializer, dropout dan mengurangi hidden layer serta jumlah epoch. \n",
    "- secara keseluruhan antara model sequential dan fuctional adalah cara penulisan arsitektur modelnya saja, untuk penggunaan layer, nodes dan sebagainya semuanya sama. Jadi dari hasil prediksi sequensial dan function nilai akurasinya adalah sama.\n",
    "- hasil akurasi prediksi dari train 79% dan test 76%, sebelum dan dilakukan improv hasil dari akurasinya bernilai sama.\n",
    "- Sebelum dilakukan improv jika dilakukan rerun pada training hasil dari loss akan mengalami perubahan yang signifikat (terkadang bagus, terkadang exploiding). Setelah dilakuakn improv jika dilakuakn rerun maka hasilnya akan mirip-mirip dan jarang terjadi expoiding pada hasilnya. dari sini bisa disimpulkan bahwa salah satu keuntungan improvment model adalah untuk menstabilkan model atau meminimalisir terjadinya gradient desent\n",
    "\n",
    "**Model Inference**\n",
    "- Dari 100 data yang ada, 25 data yang salah prediksi. Jadi model telah behasil memprediksi 75% dari data inference.\n",
    "- Hasil ini telah sesuai dengan model sequensial yang telah di improv karena akurasi dari model tersebut hanya 76%, jadi telah mendekati nilainya.\n",
    "- Hal yang menyebabkan akurasi tidak sama antara hasil test dan inferece karena data pada inference hanya sedikit.\n",
    "\n",
    "Secara keseluruhan model yang dibuat sudah cukup baik dan stabil, tetapi masih perlu dilakukan eksplorasi untuk lebih dapat meningkatkan perfoma dari model baik dari segi akurasi, kecepatan dan lainnya."
   ]
  }
 ],
 "metadata": {
  "interpreter": {
   "hash": "a54bd86cef23b36acc3df4f8c80150d4c0f125cab32666339057296a4127bf9f"
  },
  "kernelspec": {
   "display_name": "Python 3.10.4",
   "language": "python",
   "name": "python3"
  },
  "language_info": {
   "codemirror_mode": {
    "name": "ipython",
    "version": 3
   },
   "file_extension": ".py",
   "mimetype": "text/x-python",
   "name": "python",
   "nbconvert_exporter": "python",
   "pygments_lexer": "ipython3",
   "version": "3.10.4"
  },
  "orig_nbformat": 4
 },
 "nbformat": 4,
 "nbformat_minor": 2
}
